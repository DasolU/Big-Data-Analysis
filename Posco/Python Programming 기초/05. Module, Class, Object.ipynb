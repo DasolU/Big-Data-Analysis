{
 "cells": [
  {
   "cell_type": "markdown",
   "metadata": {},
   "source": [
    "# import"
   ]
  },
  {
   "cell_type": "code",
   "execution_count": 4,
   "metadata": {},
   "outputs": [],
   "source": [
    "from math import sin # math라는 모듈에서 일부만 import\n",
    "import math as m # math라는 모듈dml 모든 것을 import"
   ]
  },
  {
   "cell_type": "markdown",
   "metadata": {},
   "source": [
    "# Class\n",
    "- 예시:\n",
    "    - '인간' 이라는 타입(class)\n",
    "    - list라는 타입\n",
    "- 속성(attribute)와 동작(method)를 갖는 **데이터 타입을 정의하는 것**\n",
    "\n",
    "\n",
    "# Object (객체)\n",
    "- 예시:\n",
    "    - 홍길동, 임꺽정 등은 객체(object)\n",
    "    - [1,2,3] 실제로 존재하는 객체"
   ]
  },
  {
   "cell_type": "markdown",
   "metadata": {},
   "source": [
    "# __init__(self, ..)\n",
    "- 가장 먼저 정의하는 함수\n",
    "- self란?\n",
    "    - 함수가 정의하는 객체 자체이다."
   ]
  },
  {
   "cell_type": "code",
   "execution_count": 9,
   "metadata": {},
   "outputs": [
    {
     "name": "stdout",
     "output_type": "stream",
     "text": [
      "<__main__.person object at 0x7fca1983ac40> is generated\n",
      "<__main__.person object at 0x7fca1983af70> is generated\n"
     ]
    }
   ],
   "source": [
    "# Class 예시\n",
    "class person:\n",
    "    # pass # 구현을 잠시 비워두고 싶을 때 사용한다.\n",
    "    def __init__(self): # person의 속성을 만들어준다.\n",
    "        print(self, 'is generated')\n",
    "        self.name = 'Dasol'\n",
    "        self.age = 10\n",
    "        \n",
    "bob = person()\n",
    "joy = person()"
   ]
  },
  {
   "cell_type": "code",
   "execution_count": 10,
   "metadata": {},
   "outputs": [],
   "source": [
    "# Class 예시\n",
    "class person:\n",
    "    # pass # 구현을 잠시 비워두고 싶을 때\n",
    "    def __init__(self, name, age): # person의 속성을 \"동적으로\" 만들어준다.\n",
    "        self.name = name # self.속성이름 = 값\n",
    "        self.age = age\n",
    "        \n",
    "p1 = person('Dasol', 20)"
   ]
  },
  {
   "cell_type": "markdown",
   "metadata": {},
   "source": [
    "# Method\n",
    "- Class가 다루고자하는 데이터를 처리하는 행동\n",
    "- Class 안에서 함수의 형태로 정의\n",
    "- 멤버함수라고 불리며, 해당 클래스의 객체에서만 호출 가능\n",
    "- {obj}.{method}() 형태로 호출\n",
    "\n",
    "## method type\n",
    "- 객체로 호출: instance method\n",
    "- class 호출: static method/class method\n",
    "    - self가 없다 =즉, 속성이 없다\n",
    "    - 내부에 데이터를 유지하지 않고 전달된 데이터만 처리하여 반환한다.\n",
    "\n",
    "    - @staticmethod: 객체를 부르지 않고 class 이름으로 method를 부를 수 있게 해준다."
   ]
  },
  {
   "cell_type": "code",
   "execution_count": 16,
   "metadata": {},
   "outputs": [
    {
     "name": "stdout",
     "output_type": "stream",
     "text": [
      "현재 값은  1\n",
      "현재 값은  2\n",
      "현재 값은  0\n"
     ]
    }
   ],
   "source": [
    "# 객체로 호출: instance method\n",
    "class counter():\n",
    "    def __init__(self):\n",
    "        self.num = 0\n",
    "    def increment(self): # method: 속성을 변경한다.\n",
    "        self.num +=1\n",
    "    def print_current_value(self): # 항상 self를 가지고 있다.\n",
    "        print('현재 값은 ', self.num)\n",
    "        \n",
    "c1 = counter()\n",
    "c1.increment()\n",
    "c1.print_current_value()\n",
    "c1.increment()\n",
    "c1.print_current_value()\n",
    "\n",
    "c2 = counter() # c2는 독립적으로 값을 유지하고 있다.\n",
    "c2.print_current_value()"
   ]
  },
  {
   "cell_type": "code",
   "execution_count": 17,
   "metadata": {},
   "outputs": [
    {
     "data": {
      "text/plain": [
       "200"
      ]
     },
     "execution_count": 17,
     "metadata": {},
     "output_type": "execute_result"
    }
   ],
   "source": [
    "# class 호출: static method\n",
    "class Math: \n",
    "    @staticmethod # python 데코레이터\n",
    "    def add(a, b): # self가 없다.\n",
    "        return a+b\n",
    "    @staticmethod\n",
    "    def multiply(a,b):\n",
    "        return a*b\n",
    "\n",
    "# 객체를 생성하지 않고\n",
    "#m = Math() \n",
    "#m.add(10,20)\n",
    "# class 이름으로 부를 수 있다.\n",
    "Math.add(10,20)\n",
    "Math.multiply(10,20)"
   ]
  },
  {
   "cell_type": "markdown",
   "metadata": {},
   "source": [
    "#  Class 상속\n",
    "- 기존 클래스: Parent, Super, Base class\n",
    "- 상속 받는 새로운 클래스: Child, Sub, Derived class\n",
    "\n",
    "- 기존에 정의해둔 클래스의 기능을 물려받을 수 있다.\n",
    "- 📌코드 재사용을 가능하게 하는 장점이 있다.\n",
    "    - 새로운 class에 메소드가 없더라도 부모 class에 정의해두면 그래도 이용할 수 있다.\n",
    "    - method overwriting: \n",
    "        - 부모 class에서 상속한 method를 사용하지 않고 재정의해서 사용.\n",
    "        - 재정의 하는 순간 부모 class에서 중복되는 method를 사용할 수 없게 된다.\n",
    "            - super().method():를 사용하여 부모 class 기능도 사용 가능\n"
   ]
  },
  {
   "cell_type": "code",
   "execution_count": 25,
   "metadata": {},
   "outputs": [
    {
     "name": "stdout",
     "output_type": "stream",
     "text": [
      "Dasol은 cherry를 먹는다.\n",
      "Dasol은 1분동안 일 말고 공부한다.\n",
      "Dasol은 1분동안 일한다.\n"
     ]
    }
   ],
   "source": [
    "# Student, Employee에 동일하게 사용되는 메소드를 Person 클래스로 빼준다.\n",
    "class Person:\n",
    "    def __init__(self, name, age):\n",
    "        self.name = name\n",
    "        self.age = age\n",
    "    def eat(self, food):\n",
    "        print('{}은 {}를 먹는다.'.format(self.name, food))\n",
    "    def work(self, minute):\n",
    "        print('{}은 {}분동안 일한다.'.format(self.name, minute))\n",
    "\n",
    "class Student(Person): # eat method가 없지만 상속되어 사용가능하다.\n",
    "    def __init__(self, name, age):\n",
    "        self.name = name\n",
    "        self.age = age\n",
    "\n",
    "class Student(Person): \n",
    "    def __init__(self, name, age):\n",
    "        self.name = name\n",
    "        self.age = age\n",
    "    def work(self, minute): # method overwriting: 부모 class에서 상속한 method를 사용하지 않고 재정의해서 사용.\n",
    "        print('{}은 {}분동안 일 말고 공부한다.'.format(self.name, minute))\n",
    "\n",
    "class Student(Person): # 부모 class 기능도 사용하고 싶을 경우\n",
    "    def __init__(self, name, age):\n",
    "        self.name = name\n",
    "        self.age = age\n",
    "    def work(self, minute): \n",
    "        print('{}은 {}분동안 일 말고 공부한다.'.format(self.name, minute)) # method overwriting\n",
    "        super().work(minute)\n",
    "     \n",
    "bob = Student('Dasol', 20)\n",
    "bob.eat('cherry')\n",
    "bob.work(1)"
   ]
  },
  {
   "cell_type": "markdown",
   "metadata": {},
   "source": [
    "# Class 연산자 재정의\n",
    "- class 또한 기본 연산처럼 사용하기 위해 특별한 method를 overwriting 하는 것\n",
    "- print(객체): \n",
    "    - __str__(self)\n",
    "        - return '{}'.format(self.x)\n",
    "    - __add__(self, point)\n",
    "        - return Class(new_x, new_y)\n",
    "    - __sub__(self, pt)\n",
    "    - __mul__(self, factor)\n",
    "        - return Point(self.x*factor, self.y*factor)\n",
    "    - __len__(self)\n",
    "    - __getitem__(self, index)"
   ]
  },
  {
   "cell_type": "code",
   "execution_count": 36,
   "metadata": {},
   "outputs": [
    {
     "name": "stdout",
     "output_type": "stream",
     "text": [
      "(1, 2)\n",
      "(4, 6)\n",
      "(3, 6)\n",
      "3\n"
     ]
    }
   ],
   "source": [
    "class Point:\n",
    "    def __init__(self, x, y):\n",
    "        self.x = x\n",
    "        self.y = y\n",
    "        \n",
    "    def __str__(self): # print(객체)를 가능하게 하는 메서드\n",
    "        return '({}, {})'.format(self.x, self.y)\n",
    "    \n",
    "    def __add__(self, pt):\n",
    "        new_x = self.x + pt.x\n",
    "        new_y = self.y + pt.y\n",
    "        return Point(new_x, new_y)\n",
    "    \n",
    "    def __mul__(self, factor):\n",
    "        return Point(self.x*factor, self.y*factor)\n",
    "    \n",
    "    def __len__(self):\n",
    "        return self.x+self.y\n",
    "    \n",
    "    def __getitem__(self, index):\n",
    "        pass\n",
    "    \n",
    "p1 = Point(1,2)\n",
    "print(p1)\n",
    "\n",
    "p2 = Point(3,4)\n",
    "# ADD\n",
    "# p3 = p1.add(p2)\n",
    "# print(p3)\n",
    "P3 = p1 + p2\n",
    "print(p3)\n",
    "\n",
    "# Multiply\n",
    "p4 = p1*3\n",
    "print(p4)\n",
    "\n",
    "# Length\n",
    "print(len(p1))"
   ]
  }
 ],
 "metadata": {
  "kernelspec": {
   "display_name": "Python 3",
   "language": "python",
   "name": "python3"
  },
  "language_info": {
   "codemirror_mode": {
    "name": "ipython",
    "version": 3
   },
   "file_extension": ".py",
   "mimetype": "text/x-python",
   "name": "python",
   "nbconvert_exporter": "python",
   "pygments_lexer": "ipython3",
   "version": "3.8.5"
  }
 },
 "nbformat": 4,
 "nbformat_minor": 4
}
