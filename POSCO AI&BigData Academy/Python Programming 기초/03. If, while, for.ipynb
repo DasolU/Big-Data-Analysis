{
 "cells": [
  {
   "cell_type": "markdown",
   "metadata": {},
   "source": [
    "# if\n",
    "### 조건 우선순위: not> and> or\n",
    "- 우선 순위를 높이려면 괄호 ()로 묶어준다."
   ]
  },
  {
   "cell_type": "markdown",
   "metadata": {},
   "source": [
    "# while\n",
    "- break: while 문 빠져나오기\n",
    "- continue: 특정 상황에서 다시 while으로 점프해서 실행"
   ]
  },
  {
   "cell_type": "markdown",
   "metadata": {},
   "source": [
    "# For\n",
    "- 순회가 가능한 객체(iterable)를 순회하며 값을 처리할 때 사용\n",
    "    - list, dict\n",
    "        - 예시> for key, value in dict.items():\n",
    "        - 예시> for index, value in enumerate(list):\n",
    "- break: 특정 조건일 때 loop 종료\n",
    "- continue: 해당 아이템을 건너 뛰고 싶을 때 사용"
   ]
  }
 ],
 "metadata": {
  "kernelspec": {
   "display_name": "Python 3",
   "language": "python",
   "name": "python3"
  },
  "language_info": {
   "codemirror_mode": {
    "name": "ipython",
    "version": 3
   },
   "file_extension": ".py",
   "mimetype": "text/x-python",
   "name": "python",
   "nbconvert_exporter": "python",
   "pygments_lexer": "ipython3",
   "version": "3.8.5"
  }
 },
 "nbformat": 4,
 "nbformat_minor": 4
}
