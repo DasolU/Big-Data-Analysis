{
 "cells": [
  {
   "cell_type": "markdown",
   "metadata": {},
   "source": [
    "# Jupyter Notebook 사용법\n",
    "## 단축키\n",
    "- ESC (입력 또는 명령 모드(blue))\n",
    "- h: help\n",
    "- shift+enter: 실행 후 아래 셀로 이동\n",
    "- control+enter: 실행만\n",
    "- option+enter: 실행 후 셀 추가\n",
    "- In[ ]: 코드 타입 셀 \n",
    "- 마크다운 모드 단축키: m\n",
    "- 코드 모드 단축키: y\n",
    "- 인용: >\n",
    ">포스코 AI-BigData 아카데미 온라인 강의 시작!\n",
    "- 코드 인식: 백쿼트(`) \n",
    "    - Mac에서 입력하는 방법: Option+₩키\n",
    "    - 백쿼트 키는 Mac에서 한글 입력 모드일때 원화 ₩으로 표시된다.\n",
    "```python\n",
    "a = 100\n",
    "print(a)\n",
    "```\n",
    "- 링크\n",
    "[내 블로그](https://dasolu.github.io/)"
   ]
  }
 ],
 "metadata": {
  "kernelspec": {
   "display_name": "Python 3",
   "language": "python",
   "name": "python3"
  },
  "language_info": {
   "codemirror_mode": {
    "name": "ipython",
    "version": 3
   },
   "file_extension": ".py",
   "mimetype": "text/x-python",
   "name": "python",
   "nbconvert_exporter": "python",
   "pygments_lexer": "ipython3",
   "version": "3.8.5"
  }
 },
 "nbformat": 4,
 "nbformat_minor": 4
}
