{
 "cells": [
  {
   "cell_type": "markdown",
   "metadata": {},
   "source": [
    "# 최적의 변수 조합 선택 방법\n",
    "- optimal한 방법은 없다.\n",
    "- 1. Feedforward selection:\n",
    "    - 변수를 추가해가며 성능 지표(AIC) 비교\n",
    "- 2. Backward Elimination:\n",
    "    - 변수를 제거해가며 성능 지표(AIC) 비교\n",
    "- 3. 📌Stepwise:\n",
    "    - p-value 임계치 설정\n",
    "    - Feedforward selection으로 변수 설정\n",
    "    - 이미 선택된 변수들의 중요도를 다시 검사하여 추가/제거 반복\n"
   ]
  },
  {
   "cell_type": "code",
   "execution_count": null,
   "metadata": {},
   "outputs": [],
   "source": []
  }
 ],
 "metadata": {
  "kernelspec": {
   "display_name": "Python 3",
   "language": "python",
   "name": "python3"
  },
  "language_info": {
   "codemirror_mode": {
    "name": "ipython",
    "version": 3
   },
   "file_extension": ".py",
   "mimetype": "text/x-python",
   "name": "python",
   "nbconvert_exporter": "python",
   "pygments_lexer": "ipython3",
   "version": "3.8.5"
  }
 },
 "nbformat": 4,
 "nbformat_minor": 4
}
