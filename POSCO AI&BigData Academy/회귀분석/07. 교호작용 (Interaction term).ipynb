{
 "cells": [
  {
   "cell_type": "markdown",
   "metadata": {},
   "source": [
    "# 교호작용 (Interaction term)\n",
    "- 정의: 변수간 시너지 효과\n",
    "    - 예시) 변수가 결합됨으로서 Y에 중요한 영향을 끼칠 수 ㅣㅇㅆ다.\n",
    "- ✔️도메인 지식에 근거해서 추가해야한다.\n",
    "\n",
    "# Dummy variable (명목형 변수)\n",
    "- one-hot incoding으로 처리해준다."
   ]
  }
 ],
 "metadata": {
  "kernelspec": {
   "display_name": "Python 3",
   "language": "python",
   "name": "python3"
  },
  "language_info": {
   "codemirror_mode": {
    "name": "ipython",
    "version": 3
   },
   "file_extension": ".py",
   "mimetype": "text/x-python",
   "name": "python",
   "nbconvert_exporter": "python",
   "pygments_lexer": "ipython3",
   "version": "3.8.5"
  }
 },
 "nbformat": 4,
 "nbformat_minor": 4
}
