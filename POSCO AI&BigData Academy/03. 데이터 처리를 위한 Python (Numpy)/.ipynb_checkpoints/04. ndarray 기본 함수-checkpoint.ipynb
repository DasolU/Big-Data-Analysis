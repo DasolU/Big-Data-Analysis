{
 "cells": [
  {
   "cell_type": "markdown",
   "metadata": {},
   "source": [
    "# 기본 함수\n",
    "- 대부분 axis 방향에 대한 연산이 가능하다\n",
    "- 2차원\n",
    "    - axis 0: 행 방향으로 연산\n",
    "    - axis 1: 열 방향으로 연산\n",
    "- 3차원\n",
    "    - axis 0: 여러개의 행렬에서 같은 위치에 있는 값을 연산 (박스를 포갠다)\n",
    "    - axis 1: 행 방향으로 연산\n",
    "    - axis 2: 열 방향으로 연산\n",
    "- axis를 튜플로 주는 것도 가능하다\n",
    "\n",
    "- np.argmax\n",
    "- np.mean(axis)\n",
    "- np.any\n",
    "- np.all\n",
    "- np.where"
   ]
  }
 ],
 "metadata": {
  "kernelspec": {
   "display_name": "Python 3",
   "language": "python",
   "name": "python3"
  },
  "language_info": {
   "codemirror_mode": {
    "name": "ipython",
    "version": 3
   },
   "file_extension": ".py",
   "mimetype": "text/x-python",
   "name": "python",
   "nbconvert_exporter": "python",
   "pygments_lexer": "ipython3",
   "version": "3.8.5"
  }
 },
 "nbformat": 4,
 "nbformat_minor": 4
}
