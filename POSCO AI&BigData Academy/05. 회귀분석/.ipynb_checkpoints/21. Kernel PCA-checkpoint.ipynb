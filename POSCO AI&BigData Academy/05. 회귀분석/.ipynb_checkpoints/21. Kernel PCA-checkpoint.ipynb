{
 "cells": [
  {
   "cell_type": "markdown",
   "metadata": {},
   "source": [
    "# Kernel PCA\n",
    "- 정의\n",
    "    - 관측치 사이의 **비선형적 패턴**을 수치화하고, 이것의 PC를 구해내는 방법\n",
    "    - K (kernel matrix): 관측치 사이의 유사도 개념\n",
    "        - 예) $xx^{T}$\n",
    "\n",
    "## 필요성\n",
    "- 관측치 사이 패턴이 존재하지만, 선형관계가 아닐 때\n",
    "\n",
    "\n",
    "\n",
    "\n"
   ]
  }
 ],
 "metadata": {
  "kernelspec": {
   "display_name": "Python 3",
   "language": "python",
   "name": "python3"
  },
  "language_info": {
   "codemirror_mode": {
    "name": "ipython",
    "version": 3
   },
   "file_extension": ".py",
   "mimetype": "text/x-python",
   "name": "python",
   "nbconvert_exporter": "python",
   "pygments_lexer": "ipython3",
   "version": "3.8.5"
  }
 },
 "nbformat": 4,
 "nbformat_minor": 4
}
