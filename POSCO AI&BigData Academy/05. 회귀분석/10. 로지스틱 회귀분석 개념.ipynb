{
 "cells": [
  {
   "cell_type": "markdown",
   "metadata": {},
   "source": [
    "# 로지스틱 회귀분석\n",
    "- 정의: 출력 변수가 두 개의 카테고리를 가지는 binary 형태의 출력 변수를 예측하는 회귀분석 방법\n",
    "\n",
    "- logistic function/ sigmoid function\n",
    "- $f(x) = \\frac{e^x}{1+e^x}$ "
   ]
  },
  {
   "cell_type": "markdown",
   "metadata": {},
   "source": [
    "# 로지스틱 회귀 계수 추정\n",
    "### 선형 회귀 계수 추정과 차이점\n",
    "- 최소제곱법이 아닌 최대우도법(maximum likelihood) 사용\n",
    "- 베르누이 확률분포의 likelyhood function 사용하여 추정\n",
    "    - 베르누이 확률분포:\n",
    "        - 0 또는 1의 값을 가지는 확률 변수의 확률 분포\n",
    "    - 베르누이 확률분포의 likelyhood function을 최대화 시키는 $\\beta_0, \\beta_1$ 계산:\n",
    "    - analytic solution이 없다.\n",
    "        - => 따라서 w를 업데이트하며 답을 찾아간다."
   ]
  },
  {
   "cell_type": "markdown",
   "metadata": {},
   "source": [
    "# 로지스틱 회귀 해석 방법\n",
    "### 1. logit의 경우\n",
    "\n",
    "$logit=log(\\frac{p(x)}{1-p(x)}) = \\beta_{0} +\\beta_{1}x$\n",
    "- logit 의미: 회귀식을 선형으로 변환하는 함수\n",
    "- 해석 방법: 변수가 1단위 증가할 때 불량일 logit이 ~단위 증가한다.\n",
    "\n",
    "### 2. odds\n",
    "\n",
    "$odds=\\frac{p(x)}{1-p(x)} = e^{\\beta_{0} +\\beta_{1}x}$\n",
    "- odds 의미: 확률\n",
    "- 해석 방법: 변수가 1단위 증가할 때 불량일 확률이 **exp(logit)배**단위 증가한다.\n",
    "    - 이유: odds는 logit에 exp취한 것이기 때문."
   ]
  }
 ],
 "metadata": {
  "kernelspec": {
   "display_name": "Python 3",
   "language": "python",
   "name": "python3"
  },
  "language_info": {
   "codemirror_mode": {
    "name": "ipython",
    "version": 3
   },
   "file_extension": ".py",
   "mimetype": "text/x-python",
   "name": "python",
   "nbconvert_exporter": "python",
   "pygments_lexer": "ipython3",
   "version": "3.8.5"
  }
 },
 "nbformat": 4,
 "nbformat_minor": 4
}
