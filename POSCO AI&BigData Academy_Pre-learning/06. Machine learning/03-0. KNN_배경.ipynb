{
 "cells": [
  {
   "cell_type": "markdown",
   "metadata": {},
   "source": [
    "# KNN 배경\n",
    "## (k-nearest neighborhood)\n",
    "\n",
    "- 정의\n",
    "    - 새로 들어온 관측치 분류를 위해, 주변 k개 class 중 가까운 class 찾는 것\n",
    "- K 결정 방법 \n",
    "    - 사람이 지정하는 hyper parameter\n",
    "    - 너무 작은 k\n",
    "        - 이상치에 큰 영향 받음\n",
    "        - 패턴이 직관적이지 않다\n",
    "    - 너무 큰 k\n",
    "        - 미세한 경계 잘못 분류\n",
    "- majority voting\n",
    "    - 거리에 반비례하는 weigth를 줄 필요성이 있다.\n",
    "\n",
    "- 중요한 변수를 선별할 필요가 있다.\n",
    "\n",
    "### KNN 방법\n",
    "- 종속 변수에 따라 다르다.\n",
    "- 범주형 변수\n",
    "    - 가장 많이 나타나는 범주 추정\n",
    "- 연속형 변수\n",
    "    - k의 대표값(평균)으로 추정\n",
    "\n",
    "### 거리 구하는 방법\n",
    "- 설명 변수에 따라 다르다.\n",
    "- 연속형 변수\n",
    "    - euclidian\n",
    "    - manhattan\n",
    "- 범주형 변수\n",
    "    - hamming \n",
    "        - 다른 범주 개수를 센다"
   ]
  },
  {
   "cell_type": "markdown",
   "metadata": {},
   "source": [
    "# 모델 정의 및 추정\n",
    "1. 관측치를 거리가 가까운 순서대로 정렬\n",
    "2. 거리 구하기 \n",
    "- 근처 k개 중에 가장 많은 범주를 선택\n",
    "- 근처 k개 중에 평균 선택 + 거리에 반비례하게 weigth 설정"
   ]
  }
 ],
 "metadata": {
  "kernelspec": {
   "display_name": "Python 3",
   "language": "python",
   "name": "python3"
  },
  "language_info": {
   "codemirror_mode": {
    "name": "ipython",
    "version": 3
   },
   "file_extension": ".py",
   "mimetype": "text/x-python",
   "name": "python",
   "nbconvert_exporter": "python",
   "pygments_lexer": "ipython3",
   "version": "3.8.5"
  }
 },
 "nbformat": 4,
 "nbformat_minor": 4
}
