{
 "cells": [
  {
   "cell_type": "markdown",
   "metadata": {},
   "source": [
    "# 의사결정 나무\n",
    "### 장점\n",
    "- 해석력 높다.\n",
    "- 직관적\n",
    "- 범용성\n",
    "\n",
    "### 단점\n",
    "샘플에 민감하여 높은 변동성 가진다.\n",
    "\n",
    "### 용어\n",
    "- node: root/leaf\n",
    "- edge: 샘플 분류 조건이 위치\n",
    "- depth: roote node에서 특정 노드까지 도달하기 위해 거쳐야하는 edge 수\n",
    "\n",
    "### 종류\n",
    "- 분류 트리\n",
    "- 회귀 트리"
   ]
  },
  {
   "cell_type": "markdown",
   "metadata": {},
   "source": [
    "# Entropy \n",
    "- 섞여 있는 상태\n",
    "\n",
    "### 의사결정 나무를 통해 Entropy를 낮춘다.\n",
    "\n",
    "### Information Gain = 이전 Entropy - 이후 Entropy\n"
   ]
  },
  {
   "cell_type": "markdown",
   "metadata": {},
   "source": [
    "# Classification Tree\n",
    "- 정의: 조건에 따라 x가 가질 수 있는 영역을 block으로 나누는 것\n",
    "- 방법: information gain이 최대화 되는 영역 찾기\n"
   ]
  },
  {
   "cell_type": "markdown",
   "metadata": {},
   "source": [
    "# Regression Tree\n",
    "- Classification Tree와 차이점:\n",
    "    - 연속형 변수의 추정값을 반환"
   ]
  },
  {
   "cell_type": "code",
   "execution_count": null,
   "metadata": {},
   "outputs": [],
   "source": []
  }
 ],
 "metadata": {
  "kernelspec": {
   "display_name": "Python 3",
   "language": "python",
   "name": "python3"
  },
  "language_info": {
   "codemirror_mode": {
    "name": "ipython",
    "version": 3
   },
   "file_extension": ".py",
   "mimetype": "text/x-python",
   "name": "python",
   "nbconvert_exporter": "python",
   "pygments_lexer": "ipython3",
   "version": "3.8.5"
  }
 },
 "nbformat": 4,
 "nbformat_minor": 4
}
