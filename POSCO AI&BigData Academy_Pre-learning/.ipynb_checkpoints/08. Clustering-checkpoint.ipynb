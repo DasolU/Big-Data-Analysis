{
 "cells": [
  {
   "cell_type": "markdown",
   "metadata": {},
   "source": [
    "# Clustering\n",
    "- 비지도학습\n",
    "- 목적: 데이터 유사성 높은 집단 분류, 군집 간 상이성 규명\n",
    "- 예시: 마케팅 고객 segmentation\n",
    "\n",
    "## 종류\n",
    "### k-means clustering (잘 안쓴다.)\n",
    "- 사용자가 지정한 k 군집으로 나눔  \n",
    "- 방법: 클러스터 할당이 바뀌지 않을 때까지 데이터를 할당하며, 데이터 **평균** 좌표 업데이트 반복\n",
    "\n",
    "    - 1.점과 점 사이 거리 측정 방법\n",
    "        - 유클리드\n",
    "        - 맨하탄\n",
    "\n",
    "    - 2.최적화된 k 찾는 방법\n",
    "        - Elbow method\n",
    "            - 군집 간 분산과 전체 분산의 비율\n",
    "            - 비율의 증가가 줄어드는 지점(elbow)이 k개수\n",
    "        - Silhouette method\n",
    "\n",
    "\n",
    "- 단점:\n",
    "    - 데이터에 최적화된 k를 찾기 어렵다.\n",
    "        - 군집의 개수 k를 사용자가 임의로 정하기 때문\n",
    "    - 차원이 높아지면 거리 측정이 어려워져 거리 기반 군집 성능이 낮아진다.\n",
    "    - 초기 중심 값에 민감\n",
    "    - 노이즈, 아웃라이어에 민감\n",
    "    - 원형 군집이 아닌 경우 군집화 이루기 어렵다.\n",
    "### K-medoids clustering\n",
    "평균 대신 중간점(medoids) 사용\n",
    "\n",
    "- 장점: k-means보다 이상치에 강함\n",
    "- 단점: \n",
    "    - k-means보다 많은 시간 소요\n",
    "    - 원형 군집이 아닌 경우 군집화 이루기 어렵다.\n",
    "\n",
    "### Hier\n",
    "    \n",
    "### DBSCN\n"
   ]
  },
  {
   "cell_type": "code",
   "execution_count": null,
   "metadata": {},
   "outputs": [],
   "source": []
  }
 ],
 "metadata": {
  "kernelspec": {
   "display_name": "Python 3",
   "language": "python",
   "name": "python3"
  },
  "language_info": {
   "codemirror_mode": {
    "name": "ipython",
    "version": 3
   },
   "file_extension": ".py",
   "mimetype": "text/x-python",
   "name": "python",
   "nbconvert_exporter": "python",
   "pygments_lexer": "ipython3",
   "version": "3.8.5"
  }
 },
 "nbformat": 4,
 "nbformat_minor": 4
}
