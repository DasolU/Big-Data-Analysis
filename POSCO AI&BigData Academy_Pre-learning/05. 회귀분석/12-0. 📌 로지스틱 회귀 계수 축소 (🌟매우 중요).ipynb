{
 "cells": [
  {
   "cell_type": "markdown",
   "metadata": {},
   "source": [
    "# 분석하기 좋은 데이터의 이상적 조건\n",
    "- 이상적인 데이터는 long and thin\n",
    "    - 독립변수 사이에 상관성이 작고\n",
    "    - 독립변수와 종속변수의 상관성이 큰 데이터\n",
    "\n",
    "- 실제 데이터는 short and fat\n",
    "    - =>따라서 feature selection이 중요하다\n",
    "\n",
    "# 좋은 변수란?\n",
    "- Y의 변동성을 잘 설명하면서 x끼리는 상관관계가 없는 변수\n",
    "\n",
    "# 회귀 계수 축소 이유\n",
    "### 필요성\n",
    "- 영향력이 없는 입력 변수를 제거하는 방법\n",
    "\n",
    "### 📌 가능한 장점\n",
    "    - 1. noise 제거해 모형의 정확도 개선\n",
    "    - 2. 모형의 연산 속도 증가\n",
    "    - 📌3. 다중 공선성 문제 완화 가능성 있음 (단, 항상은 아니다.)\n",
    "        - 🌟주의할 점) 오희려 p-value가 낮은 유의미한 변수가 제거될 수도 있다.\n",
    "    \n",
    "# 회귀 계수 축소법 종류\n",
    "\n",
    "1. Ridge 회귀\n",
    "2. Lasso 회귀\n",
    "3. Elastic-Net 회귀\n",
    "- 방법:\n",
    "    - minimize SSE(Sum of Squared Error, 잔차의 제곱합) + **$f(\\beta)$(회귀 계수 축소하는 항)**"
   ]
  },
  {
   "cell_type": "markdown",
   "metadata": {},
   "source": [
    "# 1. Ridge 회귀\n",
    "- $f(\\beta)$: $\\lambda$ X $\\beta$ 제곱의 합\n",
    "    - $\\lambda$(tunning parameter)가 증가하면 많은 회귀계수가 0으로 수렴한다.\n",
    "    - $\\lambda$를 조절하며 $\\beta$를 구한다.\n",
    "    \n",
    "- $\\beta = (x^{T}x+\\lambda I)^{-1}x^{T}y$\n",
    "    - 📌$(x^{T}x)^{-1}$의 대각성분에 $\\lambda$가 추가된 형태\n",
    "        - 📌$\\lambda$가 추가된 형태=>역행렬을 구할 수 있도록 추가된 것"
   ]
  },
  {
   "cell_type": "markdown",
   "metadata": {},
   "source": [
    "# 2. Lasso 회귀\n",
    "- $f(\\beta)$: $\\lambda$ X 회귀계수의 절댓값의 합\n",
    "    - $\\lambda$(tunning parameter)가 증가하면 많은 외귀계수가 0으로 수렴한다.\n",
    "    \n",
    "    \n",
    "- $\\beta$ 한번에 구할 수 없고, 최적화 기법으로 찾아야 한다.\n",
    "    - validation 값(MSE)을 보며 조절해야한다.\n",
    "    \n",
    "- $\\lambda$ 값의 설정 방법\n",
    "    - $\\lambda$ 값을 변화시켜가며 MSE가 최소일 때의 $\\lambda$ 값을 선택\n"
   ]
  },
  {
   "cell_type": "markdown",
   "metadata": {},
   "source": [
    "# 📌 Ridge 와 Lasso의 차이점\n",
    "- 차이점: \n",
    "    - Ridge: $\\beta$를 0에 가까운 수로 축소 (0이 아닌)\n",
    "    - Lasso: 0으로 축소\n",
    "\n",
    "- 사용처: \n",
    "    - Ridge: \n",
    "        - 입력 변수들의 출력 변수에 대한 영향이 비슷한 경우 사용\n",
    "        - 변수를 제거하지 않고 최대한 사용할 경우 사용\n",
    "    - Lasso: \n",
    "        - 특정 회귀 계수 선택이 가능해진다. \n",
    "        - feature selection을 통해 불필요한 변수를 제거할 경우 사용\n",
    "        - 입력 변수들의 출력 변수에 대한 영향 편차가 큰 경우 사용"
   ]
  },
  {
   "cell_type": "markdown",
   "metadata": {},
   "source": [
    "# 3. Elastic-Net 회귀\n",
    "- 정의: Ridge 와 Lasso의 하이브리드(정규화) 회귀 모델\n",
    "- $f(\\beta)$: 회귀계수의 제곱의 합 + 회귀계수의 절댓값의 합\n",
    "\n",
    "- 특징) grouping effect 효과로 예측 성능 향상된다."
   ]
  }
 ],
 "metadata": {
  "kernelspec": {
   "display_name": "Python 3",
   "language": "python",
   "name": "python3"
  },
  "language_info": {
   "codemirror_mode": {
    "name": "ipython",
    "version": 3
   },
   "file_extension": ".py",
   "mimetype": "text/x-python",
   "name": "python",
   "nbconvert_exporter": "python",
   "pygments_lexer": "ipython3",
   "version": "3.8.5"
  }
 },
 "nbformat": 4,
 "nbformat_minor": 4
}
