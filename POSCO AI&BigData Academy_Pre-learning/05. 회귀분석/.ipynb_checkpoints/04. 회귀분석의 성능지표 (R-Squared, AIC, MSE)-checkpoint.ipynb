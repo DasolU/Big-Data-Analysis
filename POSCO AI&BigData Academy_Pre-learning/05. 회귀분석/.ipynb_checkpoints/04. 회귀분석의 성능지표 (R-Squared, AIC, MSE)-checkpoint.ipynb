{
 "cells": [
  {
   "cell_type": "markdown",
   "metadata": {},
   "source": [
    "# 회귀분석에서 사용하는 성능 지표 \n",
    "## (학습 데이터의 성능 지표)\n",
    "## $R^2$\n",
    "- 쓸모없는 변수라도 제곱합의 형태이므로 SSR이 증가하게 되며,\n",
    "- 그 결과 $R^2$도 증가한다.\n",
    "- 따라서 변수가 많을 경우 $R^2$가 의미없다.\n",
    "\n",
    "## Adjusted $R^2$\n",
    "- 변수 수 만큼 penalty를 주어 보정한다.\n",
    "\n",
    "## 📌AIC\n",
    "- MSE에 변수 수 만큼 penalty를 주어 보정한 것.\n",
    "- 단점) 표본이 커질때 정확도 낮아진다.\n",
    "\n",
    "## BIC\n",
    "- AIC 단점 보완\n",
    "\n",
    "## 📌 MSE (mean squared error): 주로 사용\n",
    "- n개 데이터에 대한 평균 오류 제곱\n",
    "- = 실제값과 예측값의 차이의 제곱합의 평균\n",
    "- 📌🌟주의)\n",
    "    - MSE를 과도하게 줄이면 overfitting 발생\n",
    "        - =>validation 데이터의 MSE를 줄이는 방향으로 f를 추정해야함\n",
    "        \n",
    "## MAPE (mean absolute percentage error)\n",
    "- MSE를 비교하는 척도\n",
    "- f가 제대로 추정되었는지 평가하기 위함\n",
    "- %값을 가지며 0에 가까울 때 모형의 성능이 좋다."
   ]
  },
  {
   "cell_type": "code",
   "execution_count": null,
   "metadata": {},
   "outputs": [],
   "source": []
  }
 ],
 "metadata": {
  "kernelspec": {
   "display_name": "Python 3",
   "language": "python",
   "name": "python3"
  },
  "language_info": {
   "codemirror_mode": {
    "name": "ipython",
    "version": 3
   },
   "file_extension": ".py",
   "mimetype": "text/x-python",
   "name": "python",
   "nbconvert_exporter": "python",
   "pygments_lexer": "ipython3",
   "version": "3.8.5"
  }
 },
 "nbformat": 4,
 "nbformat_minor": 4
}
