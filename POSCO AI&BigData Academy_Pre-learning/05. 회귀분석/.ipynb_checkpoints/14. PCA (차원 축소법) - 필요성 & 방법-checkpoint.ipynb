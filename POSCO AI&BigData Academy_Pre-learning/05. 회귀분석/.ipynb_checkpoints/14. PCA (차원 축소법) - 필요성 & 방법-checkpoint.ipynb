{
 "cells": [
  {
   "cell_type": "markdown",
   "metadata": {},
   "source": [
    "# PCA (차원 축소법)\n",
    "\n",
    "## 필요성\n",
    "- 차원의 저주\n",
    "    - 차원이 늘어날수록 전체 자료에서 설명가능한 데이터 영역 감소\n",
    "   - 관측치의 수 한정\n",
    "       - => 차원이 커질수록 한정된 자료는 차원의 패턴을 잘 설명하지 못한다.\n",
    "       - => 모델 분산 증가\n",
    "\n",
    "## 축소법\n",
    "- 상관 계수 높은 변수 중 일부 제거? (X)\n",
    "    - 문제점) 정보의 손실 발생\n",
    "- PCA는 차원 축소 + 정보의 손실 최소화 하고자 함 \n",
    "- 이외 방법\n",
    "    - 변수 선택법\n",
    "    - penalty 기반 regression\n",
    "    - CNN\n",
    "    - drop out & bagging"
   ]
  }
 ],
 "metadata": {
  "kernelspec": {
   "display_name": "Python 3",
   "language": "python",
   "name": "python3"
  },
  "language_info": {
   "codemirror_mode": {
    "name": "ipython",
    "version": 3
   },
   "file_extension": ".py",
   "mimetype": "text/x-python",
   "name": "python",
   "nbconvert_exporter": "python",
   "pygments_lexer": "ipython3",
   "version": "3.8.5"
  }
 },
 "nbformat": 4,
 "nbformat_minor": 4
}
