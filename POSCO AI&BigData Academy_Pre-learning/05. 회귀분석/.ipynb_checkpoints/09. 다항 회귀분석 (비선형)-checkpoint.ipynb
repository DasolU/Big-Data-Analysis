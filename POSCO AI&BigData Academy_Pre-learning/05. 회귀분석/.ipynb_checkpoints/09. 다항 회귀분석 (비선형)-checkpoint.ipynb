{
 "cells": [
  {
   "cell_type": "markdown",
   "metadata": {},
   "source": [
    "# 다항회귀분석\n",
    "## (polynomial regression)\n",
    "- 정의: 2차항 이상을 넣은 비선형 회귀\n",
    "\n",
    "## 필요성\n",
    "- x와 y가 비선형 관계를 가질 때\n",
    "- 다중 회귀 잔차 검증에 위배되는 경우\n",
    "\n",
    "## 다항회귀 적합\n",
    "- x와 y의 관계가 2차식과 같은 비선형일 경우=> 1차 제외, 2차만 고려\n",
    "- 단점) 항이 추가될수록 overfitting이 일어날 가능성이 크다.\n",
    "    - 일반적으로 최대 2차항까지만 넣는다."
   ]
  }
 ],
 "metadata": {
  "kernelspec": {
   "display_name": "Python 3",
   "language": "python",
   "name": "python3"
  },
  "language_info": {
   "codemirror_mode": {
    "name": "ipython",
    "version": 3
   },
   "file_extension": ".py",
   "mimetype": "text/x-python",
   "name": "python",
   "nbconvert_exporter": "python",
   "pygments_lexer": "ipython3",
   "version": "3.8.5"
  }
 },
 "nbformat": 4,
 "nbformat_minor": 4
}
