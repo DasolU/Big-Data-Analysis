{
 "cells": [
  {
   "cell_type": "markdown",
   "metadata": {},
   "source": [
    "# 📌회귀분석의 진단 (매우 중요)\n",
    "\n",
    "## 필요성\n",
    "- 다중 회귀의 데이터 경우 시각화 어렵기 때문에, 잔차 검정을 통해 모델 적합성 판단\n",
    "\n",
    "## 과정\n",
    "- 1. 적절한 변수를 통해 **성능지표**가 잘 나오는 모델 만듦\n",
    "- 2. 이 회귀모델이 잘 만들어진 것인가? 진단 필요\n",
    "- 3. 회귀분석의 가정 만족여부 확인:\n",
    "    - 잔차의 3가지 가정: **정규성, 독립성, 등분산성**\n",
    "    - 이 가정을 만족할 때, 잘 만들어진 회귀모델이라고 판단\n",
    "    - 방법:\n",
    "        - 정규성: 잔차의 분포가 정규분포를 따를 때\n",
    "            - Normal Q-Q plot (quantile)\n",
    "                - data와 정규분포와 비교\n",
    "        - 독립성: \n",
    "            - t시점과 t+1시점의 잔차를 plot하여 correlation이 있다면 독립이 아니다.\n",
    "        - 등분산성:\n",
    "            - 가로(예측값) vs. 세로(residual)\n",
    "            - 잔차가 똑같은 분산을 가지는지 또는 예측값에 따라 증/감하는지 확인\n",
    "\n",
    "\n",
    "## 잔차가 가정에 위배된 경우 해결방안\n",
    "1. Y에 대해 log or root 씌우기\n",
    "2. 이상치 제거\n",
    "3. 다항회귀분석"
   ]
  },
  {
   "cell_type": "markdown",
   "metadata": {},
   "source": [
    "# 📌🌟정리: 다중회귀모형에 대한 검증 과정\n",
    "\n",
    "## [1. 모델 성능] \n",
    "## training 데이터로 만든 모델이 validation 데이터에 잘 맞는가?\n",
    "0. 데이터 전처리\n",
    "1. 모델 fitting\n",
    "2. 모델 성능 확인\n",
    "    - model.summary()\n",
    "    - 학습 데이터의 성능 지표 확인: \n",
    "        - $R^2$, p-value, AIC\n",
    "        \n",
    "3. 제거할 변수 확인\n",
    "    - 도메인 지식 기반으로 해석\n",
    "    - 다중공선성 확인: VIF 또는 correlation matrix\n",
    "    - 변수 선택법: All VS. Forward, Stepwise\n",
    "        - 회귀 모델의 성능지표(MSE), 변수 개수 비교\n",
    "\n",
    "\n",
    "## [2. 모델 검증] \n",
    "    \n",
    "## 완성된 모델을 더 발전시킬 수 있는가?\n",
    "0. train 데이터의 residual 가정 검정 \n",
    "    - 정규성: \n",
    "        - Normal Q-Q plot\n",
    "    - 독립성: \n",
    "        - t시점과 t+1시점의 잔차를 plot하여 correlation이 있다면 독립이 아니다.\n",
    "    - 등분산성 (residual pattern): \n",
    "        - 예측값 vs. residual\n",
    "        - 잔차가 똑같은 분산을 가지는지 또는 예측값에 따라 증/감하는지 확인\n",
    "        \n",
    "1. validation 데이터에 대한 모델 성능 평가\n",
    "    - 성능 평가 방법: 여러 모델의 MSE, MAE ... 비교\n",
    "        -  predict_y VS. test_y\n",
    "    - residual plot\n",
    "        - plt.plot(np.array(test_y - pred_y2))\n",
    "\n",
    "        \n",
    "2. 최적 모델 선택: \n",
    "    - 변수 선택법을 통한 여러 모델 생성후 평가 반복하며 선택"
   ]
  }
 ],
 "metadata": {
  "kernelspec": {
   "display_name": "Python 3",
   "language": "python",
   "name": "python3"
  },
  "language_info": {
   "codemirror_mode": {
    "name": "ipython",
    "version": 3
   },
   "file_extension": ".py",
   "mimetype": "text/x-python",
   "name": "python",
   "nbconvert_exporter": "python",
   "pygments_lexer": "ipython3",
   "version": "3.8.5"
  }
 },
 "nbformat": 4,
 "nbformat_minor": 4
}
