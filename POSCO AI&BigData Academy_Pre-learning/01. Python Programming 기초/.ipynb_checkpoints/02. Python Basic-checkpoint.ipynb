{
 "cells": [
  {
   "cell_type": "markdown",
   "metadata": {},
   "source": [
    "# 문자열\n",
    "## 불변 객체 (immutable)이다.\n",
    "- 문자열 원본을 바꾸는 방법은 없다.\n",
    "- 새로 생성하거나 \n",
    "- str.replace('x', 'y'): 원본을 변환한 새로운 객체를 반환한다.\n",
    "\n",
    "## 동적으로 문자열 생성하기"
   ]
  },
  {
   "cell_type": "code",
   "execution_count": 2,
   "metadata": {},
   "outputs": [
    {
     "name": "stdout",
     "output_type": "stream",
     "text": [
      "오늘은 7월 12일 이다.\n"
     ]
    }
   ],
   "source": [
    "month=7\n",
    "day=12\n",
    "\n",
    "a='오늘은 {}월 {}일 이다.'.format(month, day)\n",
    "print(a)"
   ]
  },
  {
   "cell_type": "markdown",
   "metadata": {},
   "source": [
    "# 리스트\n",
    "## 초기화(생성)\n",
    "- list()\n",
    "- string.split(' ')\n",
    "\n",
    "## 슬라이싱\n",
    "- list[start:end:increment]\n"
   ]
  },
  {
   "cell_type": "code",
   "execution_count": 5,
   "metadata": {},
   "outputs": [
    {
     "data": {
      "text/plain": [
       "['오늘은', '7월', '12일', '이다.']"
      ]
     },
     "execution_count": 5,
     "metadata": {},
     "output_type": "execute_result"
    }
   ],
   "source": [
    "a.split()"
   ]
  },
  {
   "cell_type": "markdown",
   "metadata": {},
   "source": [
    "## 멤버 함수 \n",
    "### (shift+tab키로 함수를 확인할 수 있으니 외우지 말자.)\n",
    "- list.append(원소 하나 추가)\n",
    "- list.extend(리스트끼리 원소를 합병)\n",
    "- 📌list_a+=list_b\n",
    "- list.insert(원하는 위치 인덱스, 추가할 원소)\n",
    "- list.index(찾고자 하는 원소)\n",
    "- 📌원소 in list"
   ]
  },
  {
   "cell_type": "markdown",
   "metadata": {},
   "source": [
    "# 튜플\n",
    "- 사용하는 경우? 여러 개 변수를 생성할 때\n",
    "    - a, b, c = 100, 200, 300\n",
    "    - 📌a, b = b, a"
   ]
  },
  {
   "cell_type": "markdown",
   "metadata": {},
   "source": [
    "# 딕셔너리\n",
    "- 📌파이썬에서 가장 많이 사용하는 컬렉션\n",
    "- 키는 내부에서 hash 값으로 저장되어 index처럼 사용된다.\n",
    "    - 따라서 키를 알면 값을 가져오는데 시간이 짧아 유용하다.\n",
    "    - 또한 동일한 key가 동시에 존재할 수 없다.\n",
    "- dict = {'key': 'value'}\n",
    "- list(dict.keys()), list(dict.values())\n",
    "- dict.update(dict2)\n",
    "- dict.pop('key')\n",
    "- del dict['key']\n",
    "- dict.clear\n",
    "- 📌'key' in dict\n",
    "    - 🌟dict에서 in을 사용하면 시간 복잡도가 낮다! 는 장점이 있다.\n",
    "    - 반면 list에서 in을 사용하면 모든 인덱스를 검사하기 때문에 시간 복잡도가 높다\n",
    "- 📌dict.get('없는 key')\n",
    "    - 존재하지 않는 key에 해당하는 값을 찾을 때 None을 반환한다.\n",
    "    - 프로그램이 죽지 않게 방어적으로 사용하기 유용하다.\n"
   ]
  }
 ],
 "metadata": {
  "kernelspec": {
   "display_name": "Python 3",
   "language": "python",
   "name": "python3"
  },
  "language_info": {
   "codemirror_mode": {
    "name": "ipython",
    "version": 3
   },
   "file_extension": ".py",
   "mimetype": "text/x-python",
   "name": "python",
   "nbconvert_exporter": "python",
   "pygments_lexer": "ipython3",
   "version": "3.8.5"
  }
 },
 "nbformat": 4,
 "nbformat_minor": 4
}
