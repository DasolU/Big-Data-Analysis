{
 "cells": [
  {
   "cell_type": "markdown",
   "metadata": {},
   "source": [
    "# 기본 파라메터 (default parameter)"
   ]
  },
  {
   "cell_type": "code",
   "execution_count": 5,
   "metadata": {},
   "outputs": [
    {
     "data": {
      "text/plain": [
       "35"
      ]
     },
     "execution_count": 5,
     "metadata": {},
     "output_type": "execute_result"
    }
   ],
   "source": [
    "def add(x,y,z=5):\n",
    "    a = x+y+z\n",
    "    return a\n",
    "add(10,20) # z를 입력하지 않아도 오류가 나지 않는다."
   ]
  },
  {
   "cell_type": "markdown",
   "metadata": {},
   "source": [
    "# 여러 개의 값을 반환: 튜플"
   ]
  },
  {
   "cell_type": "code",
   "execution_count": 4,
   "metadata": {},
   "outputs": [
    {
     "name": "stdout",
     "output_type": "stream",
     "text": [
      "6 3\n"
     ]
    }
   ],
   "source": [
    "def add_mul(x,y,z):\n",
    "    a = x+y+z\n",
    "    b = x+y\n",
    "    return a, b # 튜플 하나가 반환된다.\n",
    "sum1, sum2 = add_mul(1,2,3) # z를 입력하지 않아도 오류가 나지 않는다.\n",
    "print(sum1, sum2)"
   ]
  },
  {
   "cell_type": "markdown",
   "metadata": {},
   "source": [
    "# 변수의 스코프\n",
    "- 📌함수에서 사용하는 변수의 생명 주기는 함수 내에서 끝난다.\n",
    "- 스택에 쌓여있다가 없어지기 때문이다. "
   ]
  },
  {
   "cell_type": "markdown",
   "metadata": {},
   "source": [
    "# 입력 변수 개수가 가변적일 때\n",
    "- 📌*args를 사용하여 튜플로 인식하게 만든다.\n",
    "- 📌**kwargs를 사용하여 dict로 인식하게 만든다.\n",
    "    - place holder를 사용하여 문자열과 같은 가변길이 변수를 처리해줄 수 있다."
   ]
  },
  {
   "cell_type": "code",
   "execution_count": 6,
   "metadata": {},
   "outputs": [
    {
     "name": "stdout",
     "output_type": "stream",
     "text": [
      "1\n",
      "2\n",
      "3\n",
      "4\n"
     ]
    }
   ],
   "source": [
    "def test(*args): # arguments\n",
    "    for element in args:\n",
    "        print(element)\n",
    "        \n",
    "test(1,2,3,4)"
   ]
  },
  {
   "cell_type": "code",
   "execution_count": 8,
   "metadata": {},
   "outputs": [
    {
     "name": "stdout",
     "output_type": "stream",
     "text": [
      "a 1\n",
      "b 2\n",
      "c 3\n",
      "d 4\n"
     ]
    }
   ],
   "source": [
    "def test(**kwargs): # key word arguments\n",
    "    for key,value in kwargs.items():\n",
    "        print(key, value)\n",
    "        \n",
    "test(a=1,b=2,c=3,d=4)"
   ]
  },
  {
   "cell_type": "code",
   "execution_count": 9,
   "metadata": {},
   "outputs": [],
   "source": [
    "# place holder\n",
    "x = '{time}시 {min}분'.format(time=12,min=15)"
   ]
  },
  {
   "cell_type": "markdown",
   "metadata": {},
   "source": [
    "# Lambda 함수\n",
    "- lambda 파라메터 이름: 반환되는 값\n",
    "- 굳이 필요는 없지만 코드를 간결하게(파이썬스럽게) 하는 방법이다.\n",
    "    - 주요 사용 경우: \n",
    "        - string.sort(key= lambda s: len(s)\n",
    "        - filter(함수, list) # list의 원소를 각각 함수에 대입하여 참/거짓을 판단.\n",
    "            - list(filter(lambda n: n%2==0, nums)\n",
    "        - list(map(lambda n: n*2, nums))\n",
    "        - functools.reduce(lambda x,y: x*y, a)\n",
    "            "
   ]
  },
  {
   "cell_type": "code",
   "execution_count": 12,
   "metadata": {},
   "outputs": [
    {
     "data": {
      "text/plain": [
       "6"
      ]
     },
     "execution_count": 12,
     "metadata": {},
     "output_type": "execute_result"
    }
   ],
   "source": [
    "square = lambda x, y: x*y\n",
    "square(2,3)"
   ]
  }
 ],
 "metadata": {
  "kernelspec": {
   "display_name": "Python 3",
   "language": "python",
   "name": "python3"
  },
  "language_info": {
   "codemirror_mode": {
    "name": "ipython",
    "version": 3
   },
   "file_extension": ".py",
   "mimetype": "text/x-python",
   "name": "python",
   "nbconvert_exporter": "python",
   "pygments_lexer": "ipython3",
   "version": "3.8.5"
  }
 },
 "nbformat": 4,
 "nbformat_minor": 4
}
