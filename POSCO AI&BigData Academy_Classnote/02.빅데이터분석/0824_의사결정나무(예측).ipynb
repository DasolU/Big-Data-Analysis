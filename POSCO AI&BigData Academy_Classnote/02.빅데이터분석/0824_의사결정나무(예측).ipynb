{
 "cells": [
  {
   "cell_type": "code",
   "execution_count": 1,
   "metadata": {},
   "outputs": [],
   "source": [
    "import pandas as pd\n",
    "import numpy as np\n",
    "import os\n",
    "import matplotlib\n",
    "import matplotlib.pyplot as plt\n",
    "import seaborn as sns\n",
    "\n",
    "import scipy.stats\n",
    "from scipy import stats\n",
    "from scipy.stats import ttest_rel\n",
    "from scipy.stats import ttest_ind\n",
    "from scipy.stats import shapiro\n",
    "from scipy.stats import chi2_contingency\n",
    "from scipy.stats import mannwhitneyu\n",
    "\n",
    "from statsmodels.stats.proportion import proportions_ztest\n",
    "from statsmodels.stats.anova import anova_lm\n",
    "from statsmodels.stats.stattools import omni_normtest\n",
    "\n",
    "from statsmodels.formula.api import ols\n",
    "import statsmodels.formula.api as smf\n",
    "import statsmodels.api as sm\n",
    "from statsmodels.api import qqplot, add_constant\n",
    "\n",
    "from sklearn.preprocessing import scale, minmax_scale, robust_scale\n",
    "from statsmodels.stats.outliers_influence import variance_inflation_factor\n",
    "from sklearn.linear_model import LinearRegression\n",
    "from sklearn.feature_selection import RFE\n",
    "from sklearn.preprocessing import StandardScaler\n",
    "from sklearn.preprocessing import scale\n",
    "from statsmodels.tools.eval_measures import rmse\n",
    "\n",
    "%matplotlib inline\n",
    "sns.set(font=\"AppleGothic\")\n",
    "plt.rcParams['axes.unicode_minus']=False\n",
    "\n",
    "from sklearn.tree import export_graphviz\n",
    "import graphviz\n",
    "from sklearn.model_selection import train_test_split\n",
    "from sklearn.tree import DecisionTreeRegressor\n",
    "from sklearn.model_selection import GridSearchCV\n",
    "\n",
    "import os\n",
    "os.environ['PATH']+=os.pathsep+'/Users/dasol/opt/anaconda3/lib/python3.8/site-packages/graphviz'"
   ]
  },
  {
   "cell_type": "markdown",
   "metadata": {},
   "source": [
    "# 콘크리트 강도 예측\n",
    "## Decision Tree 방법 적용"
   ]
  },
  {
   "cell_type": "code",
   "execution_count": 2,
   "metadata": {},
   "outputs": [
    {
     "data": {
      "text/html": [
       "<div>\n",
       "<style scoped>\n",
       "    .dataframe tbody tr th:only-of-type {\n",
       "        vertical-align: middle;\n",
       "    }\n",
       "\n",
       "    .dataframe tbody tr th {\n",
       "        vertical-align: top;\n",
       "    }\n",
       "\n",
       "    .dataframe thead th {\n",
       "        text-align: right;\n",
       "    }\n",
       "</style>\n",
       "<table border=\"1\" class=\"dataframe\">\n",
       "  <thead>\n",
       "    <tr style=\"text-align: right;\">\n",
       "      <th></th>\n",
       "      <th>cement</th>\n",
       "      <th>blast_furnace_slag</th>\n",
       "      <th>fly_ash</th>\n",
       "      <th>water</th>\n",
       "      <th>superplasticizer</th>\n",
       "      <th>coarse_aggregate</th>\n",
       "      <th>fine_aggregate</th>\n",
       "      <th>age</th>\n",
       "      <th>strength</th>\n",
       "    </tr>\n",
       "  </thead>\n",
       "  <tbody>\n",
       "    <tr>\n",
       "      <th>0</th>\n",
       "      <td>540.0</td>\n",
       "      <td>0.0</td>\n",
       "      <td>0.0</td>\n",
       "      <td>162.0</td>\n",
       "      <td>2.5</td>\n",
       "      <td>1040.0</td>\n",
       "      <td>676.0</td>\n",
       "      <td>28</td>\n",
       "      <td>79.99</td>\n",
       "    </tr>\n",
       "    <tr>\n",
       "      <th>1</th>\n",
       "      <td>540.0</td>\n",
       "      <td>0.0</td>\n",
       "      <td>0.0</td>\n",
       "      <td>162.0</td>\n",
       "      <td>2.5</td>\n",
       "      <td>1055.0</td>\n",
       "      <td>676.0</td>\n",
       "      <td>28</td>\n",
       "      <td>61.89</td>\n",
       "    </tr>\n",
       "    <tr>\n",
       "      <th>2</th>\n",
       "      <td>332.5</td>\n",
       "      <td>142.5</td>\n",
       "      <td>0.0</td>\n",
       "      <td>228.0</td>\n",
       "      <td>0.0</td>\n",
       "      <td>932.0</td>\n",
       "      <td>594.0</td>\n",
       "      <td>270</td>\n",
       "      <td>40.27</td>\n",
       "    </tr>\n",
       "  </tbody>\n",
       "</table>\n",
       "</div>"
      ],
      "text/plain": [
       "   cement  blast_furnace_slag  fly_ash  water  superplasticizer  \\\n",
       "0   540.0                 0.0      0.0  162.0               2.5   \n",
       "1   540.0                 0.0      0.0  162.0               2.5   \n",
       "2   332.5               142.5      0.0  228.0               0.0   \n",
       "\n",
       "   coarse_aggregate  fine_aggregate  age  strength  \n",
       "0            1040.0           676.0   28     79.99  \n",
       "1            1055.0           676.0   28     61.89  \n",
       "2             932.0           594.0  270     40.27  "
      ]
     },
     "execution_count": 2,
     "metadata": {},
     "output_type": "execute_result"
    }
   ],
   "source": [
    "df = pd.read_csv('Concrete.csv', engine='python', encoding='cp949')\n",
    "df.head(n=3)"
   ]
  },
  {
   "cell_type": "markdown",
   "metadata": {},
   "source": [
    "### test 데이터 40%로 약 400개이다."
   ]
  },
  {
   "cell_type": "code",
   "execution_count": 4,
   "metadata": {
    "scrolled": true
   },
   "outputs": [
    {
     "name": "stdout",
     "output_type": "stream",
     "text": [
      "train data X size: (618, 8)\n",
      "train data Y size: (618,)\n",
      "test data X size: (412, 8)\n",
      "test data Y size: (412,)\n"
     ]
    }
   ],
   "source": [
    "df_raw_y = df['strength']\n",
    "df_raw_x = df.drop('strength', axis=1, inplace=False)\n",
    "\n",
    "df_train_x, df_test_x, df_train_y, df_test_y = train_test_split(df_raw_x, df_raw_y, test_size=0.4, random_state=1234)\n",
    "\n",
    "print('train data X size: {}'.format(df_train_x.shape))\n",
    "print('train data Y size: {}'.format(df_train_y.shape))\n",
    "print('test data X size: {}'.format(df_test_x.shape))\n",
    "print('test data Y size: {}'.format(df_test_y.shape))"
   ]
  },
  {
   "cell_type": "markdown",
   "metadata": {},
   "source": [
    "# 1. 모델 생성\n",
    "## score해석\n",
    "모델의 설명력은 train 100%, test 79%로 모델이 train 데이터에 과대적합 되어있다."
   ]
  },
  {
   "cell_type": "code",
   "execution_count": 16,
   "metadata": {},
   "outputs": [
    {
     "name": "stdout",
     "output_type": "stream",
     "text": [
      "Tree_uncustomized Score on training set: 0.996010\n",
      "Tree_uncustomized Score on test set: 0.789790\n"
     ]
    }
   ],
   "source": [
    "tree_uncustomized = DecisionTreeRegressor(random_state=1234)\n",
    "tree_uncustomized.fit(df_train_x, df_train_y)\n",
    "\n",
    "print('Tree_uncustomized Score on training set: {:3f}'.format(tree_uncustomized.score(df_train_x, df_train_y)))\n",
    "print('Tree_uncustomized Score on test set: {:3f}'.format(tree_uncustomized.score(df_test_x, df_test_y)))"
   ]
  },
  {
   "cell_type": "markdown",
   "metadata": {},
   "source": [
    "# 1-1. 모델 파라메터 조정: 잎사귀 노드의 최소 자료 수\n",
    "### 해석\n",
    "잎사귀 노드 최소 자료 수 증가에 따라 모델의 설명력은 감소하므로, train과 test 데이터의 성능 차이가 작은 5, 9, 12에 대해 모델 비교하기로 결정\n"
   ]
  },
  {
   "cell_type": "code",
   "execution_count": 37,
   "metadata": {},
   "outputs": [
    {
     "data": {
      "text/html": [
       "<div>\n",
       "<style scoped>\n",
       "    .dataframe tbody tr th:only-of-type {\n",
       "        vertical-align: middle;\n",
       "    }\n",
       "\n",
       "    .dataframe tbody tr th {\n",
       "        vertical-align: top;\n",
       "    }\n",
       "\n",
       "    .dataframe thead th {\n",
       "        text-align: right;\n",
       "    }\n",
       "</style>\n",
       "<table border=\"1\" class=\"dataframe\">\n",
       "  <thead>\n",
       "    <tr style=\"text-align: right;\">\n",
       "      <th></th>\n",
       "      <th>MinSampleLeaf</th>\n",
       "      <th>TrainScore</th>\n",
       "      <th>TestScore</th>\n",
       "    </tr>\n",
       "  </thead>\n",
       "  <tbody>\n",
       "    <tr>\n",
       "      <th>0</th>\n",
       "      <td>1</td>\n",
       "      <td>0.996</td>\n",
       "      <td>0.790</td>\n",
       "    </tr>\n",
       "    <tr>\n",
       "      <th>1</th>\n",
       "      <td>2</td>\n",
       "      <td>0.978</td>\n",
       "      <td>0.783</td>\n",
       "    </tr>\n",
       "    <tr>\n",
       "      <th>2</th>\n",
       "      <td>3</td>\n",
       "      <td>0.959</td>\n",
       "      <td>0.786</td>\n",
       "    </tr>\n",
       "    <tr>\n",
       "      <th>3</th>\n",
       "      <td>4</td>\n",
       "      <td>0.943</td>\n",
       "      <td>0.796</td>\n",
       "    </tr>\n",
       "    <tr>\n",
       "      <th>4</th>\n",
       "      <td>5</td>\n",
       "      <td>0.934</td>\n",
       "      <td>0.811</td>\n",
       "    </tr>\n",
       "    <tr>\n",
       "      <th>5</th>\n",
       "      <td>6</td>\n",
       "      <td>0.920</td>\n",
       "      <td>0.810</td>\n",
       "    </tr>\n",
       "    <tr>\n",
       "      <th>6</th>\n",
       "      <td>7</td>\n",
       "      <td>0.909</td>\n",
       "      <td>0.799</td>\n",
       "    </tr>\n",
       "    <tr>\n",
       "      <th>7</th>\n",
       "      <td>8</td>\n",
       "      <td>0.900</td>\n",
       "      <td>0.792</td>\n",
       "    </tr>\n",
       "    <tr>\n",
       "      <th>8</th>\n",
       "      <td>9</td>\n",
       "      <td>0.877</td>\n",
       "      <td>0.817</td>\n",
       "    </tr>\n",
       "    <tr>\n",
       "      <th>9</th>\n",
       "      <td>10</td>\n",
       "      <td>0.868</td>\n",
       "      <td>0.816</td>\n",
       "    </tr>\n",
       "    <tr>\n",
       "      <th>10</th>\n",
       "      <td>11</td>\n",
       "      <td>0.863</td>\n",
       "      <td>0.810</td>\n",
       "    </tr>\n",
       "    <tr>\n",
       "      <th>11</th>\n",
       "      <td>12</td>\n",
       "      <td>0.854</td>\n",
       "      <td>0.806</td>\n",
       "    </tr>\n",
       "    <tr>\n",
       "      <th>12</th>\n",
       "      <td>13</td>\n",
       "      <td>0.845</td>\n",
       "      <td>0.794</td>\n",
       "    </tr>\n",
       "    <tr>\n",
       "      <th>13</th>\n",
       "      <td>14</td>\n",
       "      <td>0.829</td>\n",
       "      <td>0.771</td>\n",
       "    </tr>\n",
       "    <tr>\n",
       "      <th>14</th>\n",
       "      <td>15</td>\n",
       "      <td>0.819</td>\n",
       "      <td>0.752</td>\n",
       "    </tr>\n",
       "    <tr>\n",
       "      <th>15</th>\n",
       "      <td>16</td>\n",
       "      <td>0.813</td>\n",
       "      <td>0.743</td>\n",
       "    </tr>\n",
       "    <tr>\n",
       "      <th>16</th>\n",
       "      <td>17</td>\n",
       "      <td>0.807</td>\n",
       "      <td>0.719</td>\n",
       "    </tr>\n",
       "    <tr>\n",
       "      <th>17</th>\n",
       "      <td>18</td>\n",
       "      <td>0.802</td>\n",
       "      <td>0.707</td>\n",
       "    </tr>\n",
       "    <tr>\n",
       "      <th>18</th>\n",
       "      <td>19</td>\n",
       "      <td>0.795</td>\n",
       "      <td>0.699</td>\n",
       "    </tr>\n",
       "  </tbody>\n",
       "</table>\n",
       "</div>"
      ],
      "text/plain": [
       "    MinSampleLeaf  TrainScore  TestScore\n",
       "0               1       0.996      0.790\n",
       "1               2       0.978      0.783\n",
       "2               3       0.959      0.786\n",
       "3               4       0.943      0.796\n",
       "4               5       0.934      0.811\n",
       "5               6       0.920      0.810\n",
       "6               7       0.909      0.799\n",
       "7               8       0.900      0.792\n",
       "8               9       0.877      0.817\n",
       "9              10       0.868      0.816\n",
       "10             11       0.863      0.810\n",
       "11             12       0.854      0.806\n",
       "12             13       0.845      0.794\n",
       "13             14       0.829      0.771\n",
       "14             15       0.819      0.752\n",
       "15             16       0.813      0.743\n",
       "16             17       0.807      0.719\n",
       "17             18       0.802      0.707\n",
       "18             19       0.795      0.699"
      ]
     },
     "execution_count": 37,
     "metadata": {},
     "output_type": "execute_result"
    }
   ],
   "source": [
    "train_score, test_score = [], []\n",
    "min_leaf= [n_leaf for n_leaf in range(1,20)] # 잎사귀 최소 자료 수\n",
    "\n",
    "for v_min_samples in min_leaf:\n",
    "    tree = DecisionTreeRegressor(random_state=1234, min_samples_leaf=v_min_samples)\n",
    "    tree.fit(df_train_x, df_train_y)\n",
    "    train_score.append(tree.score(df_train_x, df_train_y))\n",
    "    test_score.append(tree.score(df_test_x, df_test_y))\n",
    "\n",
    "df_score_leaf = pd.DataFrame()\n",
    "df_score_leaf['MinSampleLeaf'] = min_leaf \n",
    "df_score_leaf['TrainScore'] = train_score \n",
    "df_score_leaf['TestScore'] = test_score\n",
    "df_score_leaf.round(3)"
   ]
  },
  {
   "cell_type": "code",
   "execution_count": 32,
   "metadata": {
    "scrolled": false
   },
   "outputs": [
    {
     "data": {
      "text/plain": [
       "<matplotlib.legend.Legend at 0x7f8661610730>"
      ]
     },
     "execution_count": 32,
     "metadata": {},
     "output_type": "execute_result"
    },
    {
     "data": {
      "image/png": "[encoded data removed]",
      "text/plain": [
       "<Figure size 432x288 with 1 Axes>"
      ]
     },
     "metadata": {},
     "output_type": "display_data"
    }
   ],
   "source": [
    "plt.plot(min_leaf, train_score, linestyle='-', label = 'Train Score')\n",
    "plt.plot(min_leaf, test_score, linestyle='-', label = 'Test Score')\n",
    "plt.axvline(x = 5, color = 'r', linestyle = '--')\n",
    "plt.axvline(x = 9, color = 'g', linestyle = '--')\n",
    "plt.axvline(x = 12, color = 'm', linestyle = '--')\n",
    "plt.xlabel('잎사귀 노드 최소 자료 수')\n",
    "plt.legend()"
   ]
  },
  {
   "cell_type": "markdown",
   "metadata": {},
   "source": [
    "# 잎사귀 노드 최소 자료 수: 5개, 8개, 12개인 모델과 비교\n",
    "### 해석\n",
    "- 잎사귀 노드 최소 자료수가 증가할수록 노드 개수가 감소한다.\n",
    "- 잎사귀 노드 최소 자료 수: 5개, 8개, 12개인 모델 모두 왼쪽과 오른쪽 노드의 수가 **불균형** 하다.\n",
    "\n",
    "### 선택=>train 데이터의 성능이 높은 5 선택"
   ]
  },
  {
   "cell_type": "code",
   "execution_count": 33,
   "metadata": {
    "scrolled": false
   },
   "outputs": [],
   "source": [
    "feature_name = df_train_x.columns\n",
    "\n",
    "test_min_sample_leaf = [5,9,12]\n",
    "for minnum in test_min_sample_leaf:\n",
    "    tree_graph = DecisionTreeRegressor(random_state=1234, min_samples_leaf=minnum)\n",
    "    tree_graph.fit(df_train_x, df_train_y)\n",
    "    export_graphviz(tree_graph, out_file='tree_leaf.dot', feature_names=feature_name, impurity=True, filled=True)\n",
    "\n",
    "    with open('tree_leaf.dot') as f:\n",
    "        dot_graph = f.read()\n",
    "\n",
    "    g = graphviz.Source(dot_graph)\n",
    "    g.format='png'\n",
    "    g.render(filename='tree_'+str(minnum)) #tree_n.png 저장\n",
    "#     display(g)"
   ]
  },
  {
   "cell_type": "markdown",
   "metadata": {},
   "source": [
    "# 잎사귀 노드 최소 자료 수: 5개 모델\n",
    "![](tree_5.png)\n",
    "# 잎사귀 노드 최소 자료 수: 9개 모델\n",
    "![](tree_9.png)\n",
    "# 잎사귀 노드 최소 자료 수: 12개 모델\n",
    "![](tree_12.png)"
   ]
  },
  {
   "cell_type": "markdown",
   "metadata": {},
   "source": [
    "# 1-2. 모델 파라메터 조정: 분리 노드의 최소 자료 수\n",
    "### 해석\n",
    "train_score, test_score 의 차이가 작은 12, 24 선택하여 비교하기로 결정"
   ]
  },
  {
   "cell_type": "code",
   "execution_count": 54,
   "metadata": {},
   "outputs": [
    {
     "data": {
      "text/html": [
       "<div>\n",
       "<style scoped>\n",
       "    .dataframe tbody tr th:only-of-type {\n",
       "        vertical-align: middle;\n",
       "    }\n",
       "\n",
       "    .dataframe tbody tr th {\n",
       "        vertical-align: top;\n",
       "    }\n",
       "\n",
       "    .dataframe thead th {\n",
       "        text-align: right;\n",
       "    }\n",
       "</style>\n",
       "<table border=\"1\" class=\"dataframe\">\n",
       "  <thead>\n",
       "    <tr style=\"text-align: right;\">\n",
       "      <th></th>\n",
       "      <th>MinSampleSplit</th>\n",
       "      <th>TrainScore</th>\n",
       "      <th>TestScore</th>\n",
       "    </tr>\n",
       "  </thead>\n",
       "  <tbody>\n",
       "    <tr>\n",
       "      <th>0</th>\n",
       "      <td>4</td>\n",
       "      <td>0.934</td>\n",
       "      <td>0.811</td>\n",
       "    </tr>\n",
       "    <tr>\n",
       "      <th>1</th>\n",
       "      <td>6</td>\n",
       "      <td>0.934</td>\n",
       "      <td>0.811</td>\n",
       "    </tr>\n",
       "    <tr>\n",
       "      <th>2</th>\n",
       "      <td>8</td>\n",
       "      <td>0.934</td>\n",
       "      <td>0.811</td>\n",
       "    </tr>\n",
       "    <tr>\n",
       "      <th>3</th>\n",
       "      <td>10</td>\n",
       "      <td>0.934</td>\n",
       "      <td>0.811</td>\n",
       "    </tr>\n",
       "    <tr>\n",
       "      <th>4</th>\n",
       "      <td>12</td>\n",
       "      <td>0.926</td>\n",
       "      <td>0.822</td>\n",
       "    </tr>\n",
       "    <tr>\n",
       "      <th>5</th>\n",
       "      <td>14</td>\n",
       "      <td>0.919</td>\n",
       "      <td>0.815</td>\n",
       "    </tr>\n",
       "    <tr>\n",
       "      <th>6</th>\n",
       "      <td>16</td>\n",
       "      <td>0.915</td>\n",
       "      <td>0.794</td>\n",
       "    </tr>\n",
       "    <tr>\n",
       "      <th>7</th>\n",
       "      <td>18</td>\n",
       "      <td>0.898</td>\n",
       "      <td>0.794</td>\n",
       "    </tr>\n",
       "    <tr>\n",
       "      <th>8</th>\n",
       "      <td>20</td>\n",
       "      <td>0.894</td>\n",
       "      <td>0.798</td>\n",
       "    </tr>\n",
       "    <tr>\n",
       "      <th>9</th>\n",
       "      <td>22</td>\n",
       "      <td>0.886</td>\n",
       "      <td>0.798</td>\n",
       "    </tr>\n",
       "    <tr>\n",
       "      <th>10</th>\n",
       "      <td>24</td>\n",
       "      <td>0.881</td>\n",
       "      <td>0.805</td>\n",
       "    </tr>\n",
       "    <tr>\n",
       "      <th>11</th>\n",
       "      <td>26</td>\n",
       "      <td>0.872</td>\n",
       "      <td>0.804</td>\n",
       "    </tr>\n",
       "    <tr>\n",
       "      <th>12</th>\n",
       "      <td>28</td>\n",
       "      <td>0.858</td>\n",
       "      <td>0.789</td>\n",
       "    </tr>\n",
       "    <tr>\n",
       "      <th>13</th>\n",
       "      <td>30</td>\n",
       "      <td>0.850</td>\n",
       "      <td>0.778</td>\n",
       "    </tr>\n",
       "    <tr>\n",
       "      <th>14</th>\n",
       "      <td>32</td>\n",
       "      <td>0.842</td>\n",
       "      <td>0.758</td>\n",
       "    </tr>\n",
       "    <tr>\n",
       "      <th>15</th>\n",
       "      <td>34</td>\n",
       "      <td>0.842</td>\n",
       "      <td>0.758</td>\n",
       "    </tr>\n",
       "    <tr>\n",
       "      <th>16</th>\n",
       "      <td>36</td>\n",
       "      <td>0.835</td>\n",
       "      <td>0.744</td>\n",
       "    </tr>\n",
       "    <tr>\n",
       "      <th>17</th>\n",
       "      <td>38</td>\n",
       "      <td>0.822</td>\n",
       "      <td>0.734</td>\n",
       "    </tr>\n",
       "  </tbody>\n",
       "</table>\n",
       "</div>"
      ],
      "text/plain": [
       "    MinSampleSplit  TrainScore  TestScore\n",
       "0                4       0.934      0.811\n",
       "1                6       0.934      0.811\n",
       "2                8       0.934      0.811\n",
       "3               10       0.934      0.811\n",
       "4               12       0.926      0.822\n",
       "5               14       0.919      0.815\n",
       "6               16       0.915      0.794\n",
       "7               18       0.898      0.794\n",
       "8               20       0.894      0.798\n",
       "9               22       0.886      0.798\n",
       "10              24       0.881      0.805\n",
       "11              26       0.872      0.804\n",
       "12              28       0.858      0.789\n",
       "13              30       0.850      0.778\n",
       "14              32       0.842      0.758\n",
       "15              34       0.842      0.758\n",
       "16              36       0.835      0.744\n",
       "17              38       0.822      0.734"
      ]
     },
     "execution_count": 54,
     "metadata": {},
     "output_type": "execute_result"
    }
   ],
   "source": [
    "train_score, test_score = [], []\n",
    "min_split= [n_split*2 for n_split in range(2,20)] # 분리 노드의 최소 자료 수\n",
    "\n",
    "for v_min_samples in min_split:\n",
    "    tree = DecisionTreeRegressor(random_state=1234, min_samples_leaf=5, min_samples_split=v_min_samples)\n",
    "    tree.fit(df_train_x, df_train_y)\n",
    "    train_score.append(tree.score(df_train_x, df_train_y))\n",
    "    test_score.append(tree.score(df_test_x, df_test_y))\n",
    "\n",
    "df_score_leaf = pd.DataFrame()\n",
    "df_score_leaf['MinSampleSplit'] = min_leaf \n",
    "df_score_leaf['TrainScore'] = train_score \n",
    "df_score_leaf['TestScore'] = test_score\n",
    "df_score_leaf.round(3)"
   ]
  },
  {
   "cell_type": "code",
   "execution_count": 51,
   "metadata": {
    "scrolled": true
   },
   "outputs": [
    {
     "data": {
      "text/plain": [
       "<matplotlib.legend.Legend at 0x7f8654bc77f0>"
      ]
     },
     "execution_count": 51,
     "metadata": {},
     "output_type": "execute_result"
    },
    {
     "data": {
      "image/png": "[encoded data removed]",
      "text/plain": [
       "<Figure size 432x288 with 1 Axes>"
      ]
     },
     "metadata": {},
     "output_type": "display_data"
    }
   ],
   "source": [
    "plt.plot(min_split, train_score, linestyle='-', label = 'Train Score')\n",
    "plt.plot(min_split, test_score, linestyle='-', label = 'Test Score')\n",
    "plt.axvline(x = 12, color = 'r', linestyle = '--')\n",
    "plt.axvline(x = 24, color = 'g', linestyle = '--')\n",
    "plt.xlabel('분리 노드의 최소 자료 수')\n",
    "plt.legend()"
   ]
  },
  {
   "cell_type": "code",
   "execution_count": 52,
   "metadata": {},
   "outputs": [],
   "source": [
    "test_min_sample_leaf = [12, 24]\n",
    "for minnum in test_min_sample_leaf:\n",
    "    tree_graph = DecisionTreeRegressor(random_state=1234, min_samples_leaf=5, min_samples_split=minnum)\n",
    "    tree_graph.fit(df_train_x, df_train_y)\n",
    "    export_graphviz(tree_graph, out_file='tree_leaf.dot', feature_names=feature_name, impurity=True, filled=True)\n",
    "\n",
    "    with open('tree_leaf.dot') as f:\n",
    "        dot_graph = f.read()\n",
    "\n",
    "    g = graphviz.Source(dot_graph)\n",
    "    g.format='png'\n",
    "    g.render(filename='tree_5_'+str(minnum)) #tree_5_n.png 저장\n",
    "#     display(g)"
   ]
  },
  {
   "cell_type": "markdown",
   "metadata": {},
   "source": [
    "# 분리 노드의 최소 자료 수: 12개, 24개인 모델과 비교\n",
    "### 해석\n",
    "- 분리 노드의 최소 자료 수가 증가할수록 노드 개수가 감소한다.\n",
    "- 분리 노드의 최소 자료 수: 12개, 24개인 모델 모두 왼쪽과 오른쪽 노드의 수가 **불균형** 하다.\n",
    "\n",
    "### 선택=>train 데이터의 성능이 높은 12 선택"
   ]
  },
  {
   "cell_type": "markdown",
   "metadata": {},
   "source": [
    "# 분리 노드의 최소 자료 수: 12개 모델\n",
    "![](tree_5_12.png)\n",
    "# 분리 노드의 최소 자료 수: 24개 모델\n",
    "![](tree_5_24.png)"
   ]
  },
  {
   "cell_type": "markdown",
   "metadata": {},
   "source": [
    "# 1-3. 모델 파라메터 조정: 최대 깊이\n",
    "## 선택=>6\n",
    "이유: train_score, test_score 가 0.912\t0.815으로 높으므로 선택."
   ]
  },
  {
   "cell_type": "code",
   "execution_count": 55,
   "metadata": {},
   "outputs": [
    {
     "data": {
      "text/html": [
       "<div>\n",
       "<style scoped>\n",
       "    .dataframe tbody tr th:only-of-type {\n",
       "        vertical-align: middle;\n",
       "    }\n",
       "\n",
       "    .dataframe tbody tr th {\n",
       "        vertical-align: top;\n",
       "    }\n",
       "\n",
       "    .dataframe thead th {\n",
       "        text-align: right;\n",
       "    }\n",
       "</style>\n",
       "<table border=\"1\" class=\"dataframe\">\n",
       "  <thead>\n",
       "    <tr style=\"text-align: right;\">\n",
       "      <th></th>\n",
       "      <th>Maxdepth</th>\n",
       "      <th>TrainScore</th>\n",
       "      <th>TestScore</th>\n",
       "    </tr>\n",
       "  </thead>\n",
       "  <tbody>\n",
       "    <tr>\n",
       "      <th>0</th>\n",
       "      <td>1</td>\n",
       "      <td>0.249</td>\n",
       "      <td>0.243</td>\n",
       "    </tr>\n",
       "    <tr>\n",
       "      <th>1</th>\n",
       "      <td>2</td>\n",
       "      <td>0.474</td>\n",
       "      <td>0.406</td>\n",
       "    </tr>\n",
       "    <tr>\n",
       "      <th>2</th>\n",
       "      <td>3</td>\n",
       "      <td>0.644</td>\n",
       "      <td>0.567</td>\n",
       "    </tr>\n",
       "    <tr>\n",
       "      <th>3</th>\n",
       "      <td>4</td>\n",
       "      <td>0.749</td>\n",
       "      <td>0.671</td>\n",
       "    </tr>\n",
       "    <tr>\n",
       "      <th>4</th>\n",
       "      <td>5</td>\n",
       "      <td>0.832</td>\n",
       "      <td>0.734</td>\n",
       "    </tr>\n",
       "    <tr>\n",
       "      <th>5</th>\n",
       "      <td>6</td>\n",
       "      <td>0.881</td>\n",
       "      <td>0.794</td>\n",
       "    </tr>\n",
       "    <tr>\n",
       "      <th>6</th>\n",
       "      <td>7</td>\n",
       "      <td>0.912</td>\n",
       "      <td>0.815</td>\n",
       "    </tr>\n",
       "    <tr>\n",
       "      <th>7</th>\n",
       "      <td>8</td>\n",
       "      <td>0.920</td>\n",
       "      <td>0.815</td>\n",
       "    </tr>\n",
       "    <tr>\n",
       "      <th>8</th>\n",
       "      <td>9</td>\n",
       "      <td>0.925</td>\n",
       "      <td>0.812</td>\n",
       "    </tr>\n",
       "    <tr>\n",
       "      <th>9</th>\n",
       "      <td>10</td>\n",
       "      <td>0.926</td>\n",
       "      <td>0.812</td>\n",
       "    </tr>\n",
       "  </tbody>\n",
       "</table>\n",
       "</div>"
      ],
      "text/plain": [
       "   Maxdepth  TrainScore  TestScore\n",
       "0         1       0.249      0.243\n",
       "1         2       0.474      0.406\n",
       "2         3       0.644      0.567\n",
       "3         4       0.749      0.671\n",
       "4         5       0.832      0.734\n",
       "5         6       0.881      0.794\n",
       "6         7       0.912      0.815\n",
       "7         8       0.920      0.815\n",
       "8         9       0.925      0.812\n",
       "9        10       0.926      0.812"
      ]
     },
     "execution_count": 55,
     "metadata": {},
     "output_type": "execute_result"
    }
   ],
   "source": [
    "train_score, test_score = [], []\n",
    "para_depth= [i for i in range(1,11)] # 분리 노드의 최소 자료 수\n",
    "\n",
    "for v_depth in para_depth:\n",
    "    tree = DecisionTreeRegressor(random_state=1234, min_samples_leaf=5, min_samples_split=12, max_depth=v_depth)\n",
    "    tree.fit(df_train_x, df_train_y)\n",
    "    train_score.append(tree.score(df_train_x, df_train_y))\n",
    "    test_score.append(tree.score(df_test_x, df_test_y))\n",
    "\n",
    "df_score_depth = pd.DataFrame()\n",
    "df_score_depth['Maxdepth'] = para_depth\n",
    "df_score_depth['TrainScore'] = train_score \n",
    "df_score_depth['TestScore'] = test_score\n",
    "df_score_depth.round(3)"
   ]
  },
  {
   "cell_type": "code",
   "execution_count": 59,
   "metadata": {},
   "outputs": [
    {
     "data": {
      "text/plain": [
       "<matplotlib.legend.Legend at 0x7f86548bbaf0>"
      ]
     },
     "execution_count": 59,
     "metadata": {},
     "output_type": "execute_result"
    },
    {
     "data": {
      "image/png": "[encoded data removed]",
      "text/plain": [
       "<Figure size 432x288 with 1 Axes>"
      ]
     },
     "metadata": {},
     "output_type": "display_data"
    }
   ],
   "source": [
    "plt.plot(para_depth, train_score, linestyle='-', label = 'Train Score')\n",
    "plt.plot(para_depth, test_score, linestyle='-', label = 'Test Score')\n",
    "plt.axvline(x = 6, color = 'r', linestyle = '--')\n",
    "plt.xlabel('최대 깊이')\n",
    "plt.legend()"
   ]
  },
  {
   "cell_type": "code",
   "execution_count": 63,
   "metadata": {},
   "outputs": [],
   "source": [
    "feature_name = df_train_x.columns\n",
    "\n",
    "test_depth = [6]\n",
    "for minmum in test_depth:\n",
    "    tree_graph = DecisionTreeRegressor(random_state=1234, min_samples_leaf=5, min_samples_split=12, max_depth=minmum)\n",
    "    tree_graph.fit(df_train_x, df_train_y)\n",
    "    export_graphviz(tree_graph, out_file='tree_leaf.dot', feature_names=feature_name, impurity=True, filled=True)\n",
    "\n",
    "    with open('tree_leaf.dot') as f:\n",
    "        dot_graph = f.read()\n",
    "\n",
    "    g = graphviz.Source(dot_graph)\n",
    "    g.format='png'\n",
    "    g.render(filename='tree_5_12_'+str(minnum)) #tree_5_12_n.png 저장\n",
    "#     display(g)"
   ]
  },
  {
   "cell_type": "markdown",
   "metadata": {},
   "source": [
    "# 최대 깊이: 6인 모델\n",
    "### 해석\n",
    "\n",
    "잎사귀 노드 최소 자료 수, 분리 노드의 최소 자료 수 파라메터만 설정하고 최대 깊이를 설정하지 않았던 모델보다\n",
    "\n",
    "최대 깊이 설정 후 결과가 더 균형 잡힌 것이 확인됩니다.\n",
    "\n",
    "\n",
    "![](tree_5_12_6.png)"
   ]
  },
  {
   "cell_type": "markdown",
   "metadata": {},
   "source": [
    "# 3.최종 모델\n",
    "## 파라메터: 잎사귀 노드 최소 자료 수=5, 분리 노드의 최소 자료 수=12, 최대 깊이=6\n",
    "\n",
    "## 해석\n",
    "- 트리 분리에 영향이 큰 변수 3가지는 순서대로 age(연식), cement(시멘트 종류), water(물 함량)입니다.\n",
    "\n",
    "- 굵은 입자 콘크리트 재료의 중요도 값은 0으로 나왔지만, 선택된 데이터에 따라 중요도가 변경될 수 있습니다.\n",
    "\n",
    "- 콘크리트 연식이 21년 이하이고 cement 종류가 354.5이하이면, 콘크리트 강도 평균이 35.4->23.0으로 감소+MSE 감소\n",
    "\n",
    "- 콘크리트 연식이 21년 초과이고, 물 함량이 175.55이하이면 콘크리트 강도 평균이 35.4->41.2으로 증가+MSE 감소\n",
    "\t\n",
    "\n",
    "## 최종 해석\n",
    "📌콘크리트는 연식이 높아지고 생성 당시 물 함량이 낮을 수록 강도가 높으며, 시멘트 종류에 따라 영향을 받는 것으로 해석됩니다.\n",
    "\n",
    "![](tree_5_12_6.png)"
   ]
  },
  {
   "cell_type": "code",
   "execution_count": 74,
   "metadata": {},
   "outputs": [
    {
     "data": {
      "text/html": [
       "<div>\n",
       "<style scoped>\n",
       "    .dataframe tbody tr th:only-of-type {\n",
       "        vertical-align: middle;\n",
       "    }\n",
       "\n",
       "    .dataframe tbody tr th {\n",
       "        vertical-align: top;\n",
       "    }\n",
       "\n",
       "    .dataframe thead th {\n",
       "        text-align: right;\n",
       "    }\n",
       "</style>\n",
       "<table border=\"1\" class=\"dataframe\">\n",
       "  <thead>\n",
       "    <tr style=\"text-align: right;\">\n",
       "      <th></th>\n",
       "      <th>Feature</th>\n",
       "      <th>Importance</th>\n",
       "    </tr>\n",
       "  </thead>\n",
       "  <tbody>\n",
       "    <tr>\n",
       "      <th>5</th>\n",
       "      <td>coarse_aggregate</td>\n",
       "      <td>0.000</td>\n",
       "    </tr>\n",
       "    <tr>\n",
       "      <th>6</th>\n",
       "      <td>fine_aggregate</td>\n",
       "      <td>0.029</td>\n",
       "    </tr>\n",
       "    <tr>\n",
       "      <th>1</th>\n",
       "      <td>blast_furnace_slag</td>\n",
       "      <td>0.040</td>\n",
       "    </tr>\n",
       "    <tr>\n",
       "      <th>4</th>\n",
       "      <td>superplasticizer</td>\n",
       "      <td>0.050</td>\n",
       "    </tr>\n",
       "    <tr>\n",
       "      <th>2</th>\n",
       "      <td>fly_ash</td>\n",
       "      <td>0.053</td>\n",
       "    </tr>\n",
       "    <tr>\n",
       "      <th>3</th>\n",
       "      <td>water</td>\n",
       "      <td>0.213</td>\n",
       "    </tr>\n",
       "    <tr>\n",
       "      <th>0</th>\n",
       "      <td>cement</td>\n",
       "      <td>0.250</td>\n",
       "    </tr>\n",
       "    <tr>\n",
       "      <th>7</th>\n",
       "      <td>age</td>\n",
       "      <td>0.366</td>\n",
       "    </tr>\n",
       "  </tbody>\n",
       "</table>\n",
       "</div>"
      ],
      "text/plain": [
       "              Feature  Importance\n",
       "5    coarse_aggregate       0.000\n",
       "6      fine_aggregate       0.029\n",
       "1  blast_furnace_slag       0.040\n",
       "4    superplasticizer       0.050\n",
       "2             fly_ash       0.053\n",
       "3               water       0.213\n",
       "0              cement       0.250\n",
       "7                 age       0.366"
      ]
     },
     "execution_count": 74,
     "metadata": {},
     "output_type": "execute_result"
    }
   ],
   "source": [
    "df_importance = pd.DataFrame()\n",
    "df_importance['Feature'] = feature_name\n",
    "df_importance['Importance'] = tree_final.feature_importances_\n",
    "df_importance.sort_values('Importance', ascending=True, inplace=True)\n",
    "df_importance.round(3)\n"
   ]
  },
  {
   "cell_type": "code",
   "execution_count": 75,
   "metadata": {},
   "outputs": [
    {
     "data": {
      "text/plain": [
       "Text(0, 0.5, '변수')"
      ]
     },
     "execution_count": 75,
     "metadata": {},
     "output_type": "execute_result"
    },
    {
     "data": {
      "image/png": "[encoded data removed]",
      "text/plain": [
       "<Figure size 432x288 with 1 Axes>"
      ]
     },
     "metadata": {},
     "output_type": "display_data"
    }
   ],
   "source": [
    "coordinates = range(len(df_importance))\n",
    "plt.barh(y=coordinates, width=df_importance['Importance'])\n",
    "plt.yticks(coordinates, df_importance['Feature'])\n",
    "plt.xlabel('변수중요도')\n",
    "plt.ylabel('변수')"
   ]
  },
  {
   "cell_type": "markdown",
   "metadata": {},
   "source": [
    "# 4.GridSearchCV: 모델 parameter 자동 조정\n",
    "## 파라메터: min_samples_leaf=4,min_samples_split=8, max_depth=10\n",
    "\n",
    "파라메터를 하나씩 분석하여 지정해주었을 때 결과 (지잎사귀 노드 최소 자료 수=5, 분리 노드의 최소 자료 수=12, 최대 깊이=6)와 다르다.\n",
    "\n",
    "## score: 0.789\n",
    "GridSearchCV로 찾아낸 파라메터 세트로 의사결정 트리 분석을 하면 콘크리트 강도 설명력이 78.9%이다."
   ]
  },
  {
   "cell_type": "code",
   "execution_count": 77,
   "metadata": {},
   "outputs": [
    {
     "data": {
      "text/plain": [
       "GridSearchCV(estimator=DecisionTreeRegressor(), n_jobs=-1,\n",
       "             param_grid={'criterion': ['mse', 'friedman_mse', 'mae'],\n",
       "                         'max_depth': [1, 2, 3, 4, 5, 6, 7, 8, 9, 10],\n",
       "                         'max_features': ['auto', 'sqrt', 'log2'],\n",
       "                         'min_samples_leaf': [4, 6, 8, 10, 12, 14, 16, 18, 20,\n",
       "                                              22, 24, 26, 28, 30, 32, 34, 36,\n",
       "                                              38],\n",
       "                         'min_samples_split': [4, 6, 8, 10, 12, 14, 16, 18, 20,\n",
       "                                               22, 24, 26, 28, 30, 32, 34, 36,\n",
       "                                               38]},\n",
       "             scoring='r2')"
      ]
     },
     "execution_count": 77,
     "metadata": {},
     "output_type": "execute_result"
    }
   ],
   "source": [
    "estimator = DecisionTreeRegressor()\n",
    "param_grid = {'criterion':['mse', 'friedman_mse','mae'], 'max_features':['auto', 'sqrt', 'log2'], 'max_depth': para_depth, \n",
    "             'min_samples_split':min_split, 'min_samples_leaf':min_leaf}\n",
    "grid_dt = GridSearchCV(estimator, param_grid, scoring='r2', n_jobs=-1)\n",
    "grid_dt.fit(df_train_x, df_train_y)"
   ]
  },
  {
   "cell_type": "code",
   "execution_count": 87,
   "metadata": {},
   "outputs": [
    {
     "name": "stdout",
     "output_type": "stream",
     "text": [
      "best estimator model:\n",
      " DecisionTreeRegressor(criterion='friedman_mse', max_depth=10,\n",
      "                      max_features='auto', min_samples_leaf=4,\n",
      "                      min_samples_split=8)\n",
      "\n",
      "best parameter:\n",
      " {'criterion': 'friedman_mse', 'max_depth': 10, 'max_features': 'auto', 'min_samples_leaf': 4, 'min_samples_split': 8}\n",
      "\n",
      "best score:\n",
      " 0.789\n"
     ]
    }
   ],
   "source": [
    "\n",
    "print('best estimator model:\\n',grid_dt.best_estimator_)\n",
    "print('\\nbest parameter:\\n',grid_dt.best_params_)\n",
    "print('\\nbest score:\\n',grid_dt.best_score_.round(3))"
   ]
  }
 ],
 "metadata": {
  "kernelspec": {
   "display_name": "Python 3",
   "language": "python",
   "name": "python3"
  },
  "language_info": {
   "codemirror_mode": {
    "name": "ipython",
    "version": 3
   },
   "file_extension": ".py",
   "mimetype": "text/x-python",
   "name": "python",
   "nbconvert_exporter": "python",
   "pygments_lexer": "ipython3",
   "version": "3.8.5"
  }
 },
 "nbformat": 4,
 "nbformat_minor": 4
}
