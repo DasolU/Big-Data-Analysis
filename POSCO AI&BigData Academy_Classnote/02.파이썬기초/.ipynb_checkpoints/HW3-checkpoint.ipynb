{
 "cells": [
  {
   "cell_type": "markdown",
   "metadata": {},
   "source": [
    "# 📌실습 2: 조건문과 반복문"
   ]
  },
  {
   "cell_type": "markdown",
   "metadata": {},
   "source": [
    "# 2-11. ★ 출력 프로그램"
   ]
  },
  {
   "cell_type": "code",
   "execution_count": 1,
   "metadata": {},
   "outputs": [
    {
     "name": "stdout",
     "output_type": "stream",
     "text": [
      "Input an interger: 3159\n",
      "★★★\n",
      "★\n",
      "★★★★★\n",
      "★★★★★★★★★\n"
     ]
    }
   ],
   "source": [
    "def print_star(num):\n",
    "    for i in num:\n",
    "        print('★' * int(i))\n",
    "\n",
    "num = input('Input an interger: ')\n",
    "print_star(num)"
   ]
  },
  {
   "cell_type": "markdown",
   "metadata": {},
   "source": [
    "# 2-12. "
   ]
  },
  {
   "cell_type": "code",
   "execution_count": 2,
   "metadata": {},
   "outputs": [
    {
     "name": "stdout",
     "output_type": "stream",
     "text": [
      "Enter a number: 7\n",
      "Enter a number: 2\n",
      "Enter a number: 9\n",
      "Enter a number: 3\n",
      "Enter a number: 5\n",
      "Enter a number: done\n",
      "[7.0, 2.0, 9.0, 3.0, 5.0]\n",
      "Average:  5.2\n",
      "Maximum:  9.0\n",
      "Minimum:  2.0\n"
     ]
    }
   ],
   "source": [
    "def mean_max_min():\n",
    "    flag = True\n",
    "    save = []\n",
    "    while flag:\n",
    "        is_done = input('Enter a number: ') \n",
    "        if is_done =='done':\n",
    "            flag = False\n",
    "        else:\n",
    "            save.append(float(is_done))\n",
    "    print(save)\n",
    "    print('Average: ', sum(save)/len(save))\n",
    "    print('Maximum: ', max(save))\n",
    "    print('Minimum: ', min(save))\n",
    "\n",
    "mean_max_min()"
   ]
  },
  {
   "cell_type": "markdown",
   "metadata": {},
   "source": [
    "# 📌실습 3: tuple&set&dictionary"
   ]
  },
  {
   "cell_type": "markdown",
   "metadata": {},
   "source": [
    "# 추가. 리스트-실습 1: done을 입력할 때까지 사용자로부터 입력받고 모든 수 출력"
   ]
  },
  {
   "cell_type": "code",
   "execution_count": 43,
   "metadata": {
    "scrolled": true
   },
   "outputs": [
    {
     "name": "stdout",
     "output_type": "stream",
     "text": [
      "Enter a numver: 7\n",
      "Enter a numver: 2\n",
      "Enter a numver: 9\n",
      "Enter a numver: 3\n",
      "Enter a numver: 5\n",
      "Enter a numver: done\n",
      "['7', '2', '9', '3', '5']\n"
     ]
    }
   ],
   "source": [
    "res_is = []\n",
    "while True:\n",
    "    num = input('Enter a numver: ')\n",
    "    if num == 'done':\n",
    "        break\n",
    "    res_is.append(num)\n",
    "print(res_is)"
   ]
  },
  {
   "cell_type": "markdown",
   "metadata": {},
   "source": [
    "# 1-1. for 문을 사용하여 딕셔너리 타입의 d의 모든 value를 출력"
   ]
  },
  {
   "cell_type": "code",
   "execution_count": 4,
   "metadata": {},
   "outputs": [
    {
     "name": "stdout",
     "output_type": "stream",
     "text": [
      "1 2 10 "
     ]
    }
   ],
   "source": [
    "d = {'youn': 1, 'park': 2, 'kim': 10}\n",
    "for value in d.values():\n",
    "    print(value, end=' ')"
   ]
  },
  {
   "cell_type": "markdown",
   "metadata": {},
   "source": [
    "# 1-2. key의 알파벳을 기준으로 순서대로 아래와 같이 (key, value)로 출력 "
   ]
  },
  {
   "cell_type": "code",
   "execution_count": 11,
   "metadata": {},
   "outputs": [
    {
     "name": "stdout",
     "output_type": "stream",
     "text": [
      "five 5\n",
      "four 4\n",
      "one 1\n",
      "three 3\n",
      "two 2\n"
     ]
    }
   ],
   "source": [
    "d = {'one':1, 'two':2, 'three':3, 'four':4, 'five':5}\n",
    "for key, value in sorted(d.items(), key=lambda x: x[0]):\n",
    "    print(key, value)"
   ]
  },
  {
   "cell_type": "markdown",
   "metadata": {},
   "source": [
    "# 1-3. 어떤 문장을 입력 받으면 해당 문장에서 각 알파벳이 몇 개씩 나오는지 저장하는 딕셔너리"
   ]
  },
  {
   "cell_type": "markdown",
   "metadata": {},
   "source": [
    "## 처음 생각했던 방법"
   ]
  },
  {
   "cell_type": "code",
   "execution_count": 44,
   "metadata": {},
   "outputs": [
    {
     "name": "stdout",
     "output_type": "stream",
     "text": [
      "Enter a sentence: Python is fun!\n",
      "{' ': 2, '!': 1, 'P': 1, 'f': 1, 'h': 1, 'i': 1, 'n': 2, 'o': 1, 's': 1, 't': 1, 'u': 1, 'y': 1}\n"
     ]
    }
   ],
   "source": [
    "import re\n",
    "line = input('Enter a sentence: ')\n",
    "dic = {}\n",
    "for i in sorted(set(line)):\n",
    "    dic[i]=len(re.findall(i, line))\n",
    "print(dic)"
   ]
  },
  {
   "cell_type": "markdown",
   "metadata": {},
   "source": [
    "## 선생님이 알려주신 모범 답안\n",
    "📌string.count(character) 기억하기"
   ]
  },
  {
   "cell_type": "code",
   "execution_count": 45,
   "metadata": {},
   "outputs": [
    {
     "name": "stdout",
     "output_type": "stream",
     "text": [
      "Enter a sentence: Python is fun!\n",
      "{' ': 2, '!': 1, 'P': 1, 'f': 1, 'h': 1, 'i': 1, 'n': 2, 'o': 1, 's': 1, 't': 1, 'u': 1, 'y': 1}\n"
     ]
    }
   ],
   "source": [
    "line = input('Enter a sentence: ')\n",
    "dic = {}\n",
    "for i in sorted(set(line)):\n",
    "    dic[i]=line.count(i)\n",
    "print(dic)"
   ]
  },
  {
   "cell_type": "markdown",
   "metadata": {},
   "source": [
    "# 📌실습 4: file 읽고 쓰기"
   ]
  },
  {
   "cell_type": "markdown",
   "metadata": {},
   "source": [
    "# 1-1. 파일에 있는 각각의 단어 수 구하기\n",
    "파일을 열고 난 뒤 꼭 닫자."
   ]
  },
  {
   "cell_type": "code",
   "execution_count": 5,
   "metadata": {},
   "outputs": [],
   "source": [
    "# test.txt 파일에 자료 쓰기\n",
    "f = open('test.txt', 'w')\n",
    "namelist = ['first', 'second', 'third']\n",
    "\n",
    "for n in namelist:\n",
    "    f.write(n+' line\\n')    \n",
    "f.close()"
   ]
  },
  {
   "cell_type": "code",
   "execution_count": 6,
   "metadata": {},
   "outputs": [
    {
     "name": "stdout",
     "output_type": "stream",
     "text": [
      "line 3\n",
      "first 1\n",
      "second 1\n",
      "third 1\n"
     ]
    }
   ],
   "source": [
    "f = open('test.txt', 'r')\n",
    "\n",
    "dic={}\n",
    "for line in f:\n",
    "    for key in line.split():\n",
    "        dic.setdefault(key, 0)\n",
    "        dic[key]+=1\n",
    "f.close()\n",
    "\n",
    "for key, value in sorted(dic.items(), key=lambda x: x[1], reverse=True):\n",
    "    print(key, value)"
   ]
  },
  {
   "cell_type": "markdown",
   "metadata": {},
   "source": [
    "# 1-2.파일명을 입력 받아, 해당 파일을 한 줄씩 읽어 파일의 내 용을 모두 대문자로 출력하는 프로그램"
   ]
  },
  {
   "cell_type": "code",
   "execution_count": 7,
   "metadata": {},
   "outputs": [
    {
     "name": "stdout",
     "output_type": "stream",
     "text": [
      "Enter a file name: test.txt\n",
      "FIRST LINE\n",
      "SECOND LINE\n",
      "THIRD LINE\n"
     ]
    }
   ],
   "source": [
    "import os\n",
    "\n",
    "fname = input(\"Enter a file name: \")\n",
    "if os.path.exists(fname):\n",
    "    with open(fname, 'r') as f:\n",
    "        for line in f:\n",
    "            print(line.upper(), end='')\n",
    "else:\n",
    "    print('파일이 존재하지 않는다')"
   ]
  },
  {
   "cell_type": "markdown",
   "metadata": {},
   "source": [
    "# 1-3. 리눅스 쉘에서 원본파일명 (src.txt)과 사본파일(dst.txt)을 입력 받아, 복사하는 프 로그램\n",
    "\n",
    "#### sys.argv란?\n",
    "\n",
    "파이썬 스크립트를 터미널에서 실행하는 경우,\n",
    "파이썬 명령행 인자값을 전달받아 사용할 때 사용한다."
   ]
  },
  {
   "cell_type": "code",
   "execution_count": null,
   "metadata": {},
   "outputs": [],
   "source": [
    "# ex3.py 내용입니다.\n",
    "import sys\n",
    "args = sys.argv[1:3]\n",
    "f = open(args[0],'r')\n",
    "with open(args[1],'w') as f_copy:\n",
    "    f_copy.write(f.read())\n",
    "f.close()"
   ]
  },
  {
   "cell_type": "markdown",
   "metadata": {},
   "source": [
    "# 1-4. score.txt를 읽어서 학생들의 성적을 처리 하여 그 결과를 report.txt로 출력하는 프로그램"
   ]
  },
  {
   "cell_type": "code",
   "execution_count": 9,
   "metadata": {},
   "outputs": [],
   "source": [
    "def cal_score(mid, final):\n",
    "    total = mid*0.4+final*0.6\n",
    "    if total>=90:\n",
    "        grade = 'A'\n",
    "    elif total>=80:\n",
    "        grade = 'B'\n",
    "    elif total>=70:\n",
    "        grade = 'C'\n",
    "    elif total>=60:\n",
    "        grade = 'D'\n",
    "    else:\n",
    "        grade = 'F'\n",
    "    return (str(total)+'('+grade+')')\n",
    "\n",
    "f = open('score.txt','r')\n",
    "f_out = open('report.txt','w')\n",
    "\n",
    "for line in f.readlines():\n",
    "    if line =='':\n",
    "        break        \n",
    "    scores = line[:-1].split(' ')[-1]\n",
    "    mid, final = int(scores[:2]), int(scores[2:])\n",
    "    add_score = cal_score(mid, final)\n",
    "    f_out.write(line[:-1]+' '+add_score+'\\n')\n",
    "\n",
    "f.close()\n",
    "f_out.close()"
   ]
  },
  {
   "cell_type": "markdown",
   "metadata": {},
   "source": [
    "## 개인 메모\n",
    "close안하면 pointer 위치가 변경될 수 있다."
   ]
  },
  {
   "cell_type": "code",
   "execution_count": 4,
   "metadata": {
    "scrolled": false
   },
   "outputs": [
    {
     "name": "stdout",
     "output_type": "stream",
     "text": [
      "first line\n",
      "\n",
      "11\n",
      "second line\n",
      "\n",
      "23\n",
      "third line\n",
      "\n",
      "34\n",
      "end\n"
     ]
    }
   ],
   "source": [
    "f = open('test.txt', 'r')\n",
    "\n",
    "while True:\n",
    "    line = f.readline()\n",
    "    if line == '':\n",
    "        break\n",
    "    print(line)\n",
    "    print(f.tell())\n",
    "print('end')"
   ]
  }
 ],
 "metadata": {
  "kernelspec": {
   "display_name": "Python 3",
   "language": "python",
   "name": "python3"
  },
  "language_info": {
   "codemirror_mode": {
    "name": "ipython",
    "version": 3
   },
   "file_extension": ".py",
   "mimetype": "text/x-python",
   "name": "python",
   "nbconvert_exporter": "python",
   "pygments_lexer": "ipython3",
   "version": "3.8.5"
  }
 },
 "nbformat": 4,
 "nbformat_minor": 4
}
