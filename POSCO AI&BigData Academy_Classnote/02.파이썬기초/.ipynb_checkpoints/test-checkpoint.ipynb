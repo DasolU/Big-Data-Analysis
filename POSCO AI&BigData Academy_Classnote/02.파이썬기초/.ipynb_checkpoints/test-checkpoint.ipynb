{
 "cells": [
  {
   "cell_type": "code",
   "execution_count": 7,
   "metadata": {},
   "outputs": [
    {
     "name": "stdout",
     "output_type": "stream",
     "text": [
      "140225591154176 140225331159744\n",
      "[0, 100] [0, 1]\n"
     ]
    }
   ],
   "source": [
    "import copy\n",
    "a = [0,1]\n",
    "copy_a = copy.deepcopy(a)\n",
    "print(id(a), id(copy_a))\n",
    "#->140225591154176 140225331159744\n",
    "a[1] = 100\n",
    "print(a, copy_a)\n",
    "#->[0, 100] [0, 1]"
   ]
  },
  {
   "cell_type": "code",
   "execution_count": null,
   "metadata": {},
   "outputs": [],
   "source": []
  }
 ],
 "metadata": {
  "kernelspec": {
   "display_name": "Python 3",
   "language": "python",
   "name": "python3"
  },
  "language_info": {
   "codemirror_mode": {
    "name": "ipython",
    "version": 3
   },
   "file_extension": ".py",
   "mimetype": "text/x-python",
   "name": "python",
   "nbconvert_exporter": "python",
   "pygments_lexer": "ipython3",
   "version": "3.8.5"
  }
 },
 "nbformat": 4,
 "nbformat_minor": 4
}
