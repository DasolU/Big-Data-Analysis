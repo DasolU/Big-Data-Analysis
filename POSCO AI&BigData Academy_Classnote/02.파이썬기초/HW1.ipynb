{
 "cells": [
  {
   "cell_type": "markdown",
   "metadata": {},
   "source": [
    "# 📌실습 1"
   ]
  },
  {
   "cell_type": "markdown",
   "metadata": {},
   "source": [
    "# 1-1. 화씨를 섭씨로 변환 프로그램"
   ]
  },
  {
   "cell_type": "code",
   "execution_count": 3,
   "metadata": {},
   "outputs": [
    {
     "name": "stdout",
     "output_type": "stream",
     "text": [
      "화씨온도: 100\n",
      "37.77777777777778\n"
     ]
    }
   ],
   "source": [
    "def FtoC(temp_F):\n",
    "    temp_C = (temp_F-32)*(5/9)\n",
    "    return temp_C\n",
    "\n",
    "temp = input(\"화씨온도: \")\n",
    "print(FtoC(int(temp)))"
   ]
  },
  {
   "cell_type": "markdown",
   "metadata": {},
   "source": [
    "# 1-2. 자동 판매기 프로그램 "
   ]
  },
  {
   "cell_type": "code",
   "execution_count": 5,
   "metadata": {},
   "outputs": [
    {
     "name": "stdout",
     "output_type": "stream",
     "text": [
      "투입한 돈:  5000\n",
      "물건값:  2700\n",
      "거스름돈:  2300\n",
      "500원짜리: 4개\n",
      "100원짜리: 3개\n"
     ]
    },
    {
     "data": {
      "text/plain": [
       "{3, 4, 2300}"
      ]
     },
     "execution_count": 5,
     "metadata": {},
     "output_type": "execute_result"
    }
   ],
   "source": [
    "def cal_change(input_money, item_price):\n",
    "    change = input_money-item_price\n",
    "    _500won = change//500\n",
    "    _100won = (change - _500won*500)//100\n",
    "    print('거스름돈: ', change)\n",
    "    print('500원짜리: {}개'.format(_500won))\n",
    "    print('100원짜리: {}개'.format(_100won))\n",
    "#     return {change, _500won, _100won}\n",
    "\n",
    "input_money = int(input(\"투입한 돈:  \"))\n",
    "item_price =  int(input(\"물건값:  \"))\n",
    "cal_change(input_money, item_price)"
   ]
  },
  {
   "cell_type": "markdown",
   "metadata": {},
   "source": [
    "# 1-3. 원의 둘레와 넓이 구하는 프로그램"
   ]
  },
  {
   "cell_type": "code",
   "execution_count": 6,
   "metadata": {},
   "outputs": [
    {
     "name": "stdout",
     "output_type": "stream",
     "text": [
      "반지름을 입력하시오: 5\n",
      "원 둘레: 31.42\n",
      "원 넓이: 78.54\n"
     ]
    }
   ],
   "source": [
    "def cal_circle(radius):\n",
    "    pi = 3.141592\n",
    "    circle_length = 2*pi*radius\n",
    "    width = pi*radius**2\n",
    "    print('원 둘레: {:.2f}'.format(circle_length))\n",
    "    print('원 넓이: {:.2f}'.format(width))\n",
    "\n",
    "radius = int(input(\"반지름을 입력하시오: \"))\n",
    "cal_circle(radius)\n",
    "    "
   ]
  },
  {
   "cell_type": "markdown",
   "metadata": {},
   "source": [
    "# 1-4. 사칙연산 및 나머지 연산\n",
    "\n"
   ]
  },
  {
   "cell_type": "code",
   "execution_count": 10,
   "metadata": {},
   "outputs": [
    {
     "name": "stdout",
     "output_type": "stream",
     "text": [
      "Enter two integers: 8 5\n",
      "8 + 5 = 13\n",
      "8 - 5 = 3\n",
      "8 * 5 = 40\n",
      "8 / 5 = 1.6\n",
      "8 % 5 = 3\n"
     ]
    }
   ],
   "source": [
    "def cal_integer(one, two):\n",
    "    print('{0} + {1} = {2}'.format(one, two, one+two))\n",
    "    print('{0} - {1} = {2}'.format(one, two, one-two))\n",
    "    print('{0} * {1} = {2}'.format(one, two, one*two))\n",
    "    print('{0} / {1} = {2}'.format(one, two, one/two))\n",
    "    print('{0} % {1} = {2}'.format(one, two, one%two))\n",
    "\n",
    " \n",
    "one, two = map(int,input(\"Enter two integers: \").split())    \n",
    "cal_integer(one, two)"
   ]
  },
  {
   "cell_type": "markdown",
   "metadata": {},
   "source": [
    "# 1-5. 사칙연산 및 나머지 연산\n"
   ]
  },
  {
   "cell_type": "code",
   "execution_count": 11,
   "metadata": {},
   "outputs": [
    {
     "name": "stdout",
     "output_type": "stream",
     "text": [
      "Enter two integers: 70 91\n",
      "The sum of 70 and 91 is 161\n",
      "The average of 70 and 91 is 80.5\n"
     ]
    }
   ],
   "source": [
    "def sum_and_mean(one, two):\n",
    "    print('The sum of {0} and {1} is {2}'.format(one, two, one+two))\n",
    "    print('The average of {0} and {1} is {2}'.format(one, two, (one+two)/2))\n",
    "\n",
    "one, two = map(int,input(\"Enter two integers: \").split())    \n",
    "sum_and_mean(one, two)"
   ]
  },
  {
   "cell_type": "markdown",
   "metadata": {},
   "source": [
    "# 1-6. 사칙연산 및 나머지 연산"
   ]
  },
  {
   "cell_type": "markdown",
   "metadata": {},
   "source": [
    "### split 방법 사용"
   ]
  },
  {
   "cell_type": "code",
   "execution_count": 7,
   "metadata": {},
   "outputs": [
    {
     "name": "stdout",
     "output_type": "stream",
     "text": [
      "날짜(연/월/일)입력: 2021/08/18\n",
      "입력한 날짜의 10년 후는 2031년 8월 18일\n"
     ]
    }
   ],
   "source": [
    "def print_date(inputstr):\n",
    "    data = inputstr.split('/')\n",
    "    after = 10\n",
    "    print('입력한 날짜의 {0}년 후는 {1}년 {2}월 {3}일'.format(after, int(data[0])+after, data[1][-1], data[2])) \n",
    "\n",
    "date = input(\"날짜(연/월/일)입력: \")\n",
    "print_date(date)"
   ]
  },
  {
   "cell_type": "markdown",
   "metadata": {},
   "source": [
    "### unpacking 방법 사용"
   ]
  },
  {
   "cell_type": "code",
   "execution_count": 12,
   "metadata": {},
   "outputs": [
    {
     "name": "stdout",
     "output_type": "stream",
     "text": [
      "날짜(연/월/일)입력: 2021/08/18\n",
      "입력한 날짜의 10년 후는 2031년 8월 18일\n"
     ]
    }
   ],
   "source": [
    "def print_date(inputstr):\n",
    "    year, month, day = map(int,inputstr.split('/'))\n",
    "    after = 10\n",
    "    print('입력한 날짜의 {0}년 후는 {1}년 {2}월 {3}일'.format(after, year+after, month, day)) \n",
    "\n",
    "date = input(\"날짜(연/월/일)입력: \")\n",
    "print_date(date)"
   ]
  },
  {
   "cell_type": "markdown",
   "metadata": {},
   "source": [
    "# 2-0. range() 함수"
   ]
  },
  {
   "cell_type": "code",
   "execution_count": 29,
   "metadata": {},
   "outputs": [
    {
     "name": "stdout",
     "output_type": "stream",
     "text": [
      "[0, 1, 2, 3, 4]\n",
      "[1, 2, 3, 4, 5]\n",
      "[1, 3, 5]\n"
     ]
    }
   ],
   "source": [
    "print(list(range(5)))\n",
    "print(list(range(1,6)))\n",
    "print(list(range(1,7,2)))"
   ]
  },
  {
   "cell_type": "markdown",
   "metadata": {},
   "source": [
    "# 2-1. 1부터 10까지 리스트 생성"
   ]
  },
  {
   "cell_type": "code",
   "execution_count": 30,
   "metadata": {},
   "outputs": [
    {
     "data": {
      "text/plain": [
       "[1, 2, 3, 4, 5, 6, 7, 8, 9, 10]"
      ]
     },
     "execution_count": 30,
     "metadata": {},
     "output_type": "execute_result"
    }
   ],
   "source": [
    "list(range(1,11))"
   ]
  },
  {
   "cell_type": "markdown",
   "metadata": {},
   "source": [
    "# 2-2. 10부터 1까지 리스트 생성"
   ]
  },
  {
   "cell_type": "code",
   "execution_count": 31,
   "metadata": {},
   "outputs": [
    {
     "data": {
      "text/plain": [
       "[10, 9, 8, 7, 6, 5, 4, 3, 2, 1]"
      ]
     },
     "execution_count": 31,
     "metadata": {},
     "output_type": "execute_result"
    }
   ],
   "source": [
    "list(range(1,11))[::-1]"
   ]
  },
  {
   "cell_type": "markdown",
   "metadata": {},
   "source": [
    "# 2-3. 1부터 10까지 짝수 리스트 생성"
   ]
  },
  {
   "cell_type": "code",
   "execution_count": 26,
   "metadata": {},
   "outputs": [
    {
     "data": {
      "text/plain": [
       "[2, 4, 6, 8, 10]"
      ]
     },
     "execution_count": 26,
     "metadata": {},
     "output_type": "execute_result"
    }
   ],
   "source": [
    "even_list = list(range(2,11,2))\n",
    "even_list"
   ]
  },
  {
   "cell_type": "markdown",
   "metadata": {},
   "source": [
    "# 2-4. 1부터 10까지 홀수 리스트 생성"
   ]
  },
  {
   "cell_type": "code",
   "execution_count": 32,
   "metadata": {},
   "outputs": [
    {
     "data": {
      "text/plain": [
       "[1, 3, 5, 7, 9]"
      ]
     },
     "execution_count": 32,
     "metadata": {},
     "output_type": "execute_result"
    }
   ],
   "source": [
    "odd_list = list(range(1,11,2))\n",
    "odd_list"
   ]
  },
  {
   "cell_type": "markdown",
   "metadata": {},
   "source": [
    "# 2-5. 리스트 더하기"
   ]
  },
  {
   "cell_type": "code",
   "execution_count": 35,
   "metadata": {},
   "outputs": [
    {
     "data": {
      "text/plain": [
       "[1, 2, 3, 4, 5, 6, 7, 8, 9, 10]"
      ]
     },
     "execution_count": 35,
     "metadata": {},
     "output_type": "execute_result"
    }
   ],
   "source": [
    "sorted(even_list+odd_list)"
   ]
  }
 ],
 "metadata": {
  "kernelspec": {
   "display_name": "Python 3",
   "language": "python",
   "name": "python3"
  },
  "language_info": {
   "codemirror_mode": {
    "name": "ipython",
    "version": 3
   },
   "file_extension": ".py",
   "mimetype": "text/x-python",
   "name": "python",
   "nbconvert_exporter": "python",
   "pygments_lexer": "ipython3",
   "version": "3.8.5"
  }
 },
 "nbformat": 4,
 "nbformat_minor": 4
}
