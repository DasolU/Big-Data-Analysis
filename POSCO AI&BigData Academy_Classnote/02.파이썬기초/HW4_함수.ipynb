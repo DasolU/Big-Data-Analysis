{
 "cells": [
  {
   "cell_type": "markdown",
   "metadata": {},
   "source": [
    "# 과제 1 prime.py\n",
    "소수(Prime Number) 판단하는 함수 정의"
   ]
  },
  {
   "cell_type": "code",
   "execution_count": 8,
   "metadata": {},
   "outputs": [
    {
     "name": "stdout",
     "output_type": "stream",
     "text": [
      "13는 소수입니다.\n",
      "15는 소수가 아닙니다.\n"
     ]
    }
   ],
   "source": [
    "def check_prime(num):\n",
    "    if num ==1:\n",
    "        return False\n",
    "    for i in range(2,num):\n",
    "        if num%i==0:\n",
    "            return False\n",
    "    return True\n",
    "    \n",
    "def main():\n",
    "    a = 13\n",
    "    b = 15\n",
    "    if check_prime(a):\n",
    "        print(str(a)+'는 소수입니다.')\n",
    "    else:\n",
    "        print(str(a)+'는 소수가 아닙니다.')\n",
    "    if check_prime(b):\n",
    "        print(str(b)+'는 소수입니다.')\n",
    "    else:\n",
    "        print(str(b)+'는 소수가 아닙니다.')\n",
    "        \n",
    "main()"
   ]
  },
  {
   "cell_type": "markdown",
   "metadata": {},
   "source": [
    "# 과제 2 add_comma.py\n",
    "천 단위마다 쉼표(,) 추가하는 함수 정의"
   ]
  },
  {
   "cell_type": "code",
   "execution_count": 77,
   "metadata": {},
   "outputs": [
    {
     "name": "stdout",
     "output_type": "stream",
     "text": [
      "1,234\n",
      "12,345,678\n",
      "12\n"
     ]
    }
   ],
   "source": [
    "def add_comma(val):\n",
    "    num = str(val)\n",
    "    answer = ''\n",
    "    if len(num)//3==0: # 3개 미만 수\n",
    "        return num\n",
    "    \n",
    "    if len(num)%3!=0: # 3개 이상 수&3의 배수가 아닌 경우          \n",
    "        answer +=num[:len(num)%3]\n",
    "        answer+=','\n",
    "        \n",
    "    for i in range(len(num)//3):    # 3개 이상 수&3의 배수인 경우     \n",
    "        answer+=num[len(num)%3+3*i:len(num)%3+3*(i+1)]\n",
    "        answer+=','\n",
    "    return answer[:-1]\n",
    "def main():\n",
    "    comma_added_1234 = add_comma(1234)\n",
    "    comma_added_12345678 = add_comma(12345678)\n",
    "    comma_added_12 = add_comma(12)\n",
    "\n",
    "    print(comma_added_1234) # '1,234'\n",
    "    print(comma_added_12345678) # '12,345,678'\n",
    "    print(comma_added_12) # '12'\n",
    "#     print(add_comma(100000))    \n",
    "main()"
   ]
  },
  {
   "cell_type": "markdown",
   "metadata": {},
   "source": [
    "# 과제 3 tok.py\n",
    "전달받은 단어열의 n-gram을 구해주는 tokenize() 함수 정의"
   ]
  },
  {
   "cell_type": "code",
   "execution_count": 11,
   "metadata": {},
   "outputs": [
    {
     "name": "stdout",
     "output_type": "stream",
     "text": [
      "['There', 'was', 'a', 'farmer', 'who', 'had', 'a', 'dog', '.']\n",
      "['There was', 'was a', 'a farmer', 'farmer who', 'who had', 'had a', 'a dog', 'dog .']\n"
     ]
    }
   ],
   "source": [
    "def tokenize(trg, N=1):\n",
    "    answer = []\n",
    "    if N ==1:\n",
    "        return trg.split()\n",
    "    \n",
    "    for i, word in enumerate(trg.split()):\n",
    "        if i < len(trg.split())-1:\n",
    "            answer.append(word+' '+trg.split()[i+1]) \n",
    "    return answer\n",
    "def main():\n",
    "    a=\"There was a farmer who had a dog .\"\n",
    "    print(tokenize(a))\n",
    "    print(tokenize(a, 2))\n",
    "main()"
   ]
  },
  {
   "attachments": {},
   "cell_type": "markdown",
   "metadata": {},
   "source": [
    "# 과제 4 mean_and_var.py\n",
    "여러 벡터를 전달받아, 평균(Mean)과 분산 (Variance)을 구하는 함\n",
    "수 정의"
   ]
  },
  {
   "cell_type": "code",
   "execution_count": 4,
   "metadata": {},
   "outputs": [
    {
     "name": "stdout",
     "output_type": "stream",
     "text": [
      "평균:  [0.5, 0.5]\n",
      "분산:  [0.16666666666666666, 0.16666666666666666]\n"
     ]
    }
   ],
   "source": [
    "# 가변 매개변수이므로 입력 데이터를 추가할 수 있어야한다.\n",
    "# list 자료형의 마지막에 데이터를 추가/삭제하는 것의 시간복잡도는 O(1)이므로 list를 사용하기로 결정하였다.\n",
    "import numpy as np\n",
    "\n",
    "def mean_and_var(*val): \n",
    "    totallist = []\n",
    "    means = []\n",
    "    variances = []\n",
    "    for axis in range(len(val[0])): # 첫 번째 벡터의 축 개수대로 list 공간 만들기\n",
    "        totallist.append([])\n",
    "        means.append([])\n",
    "        variances.append([])\n",
    "        for v in range(len(val)): # 각 벡터에 대해 축 데이터 모으기\n",
    "            totallist[axis].append(val[v][axis])\n",
    "        means[axis] = np.mean(totallist[axis])\n",
    "        variances[axis] = np.var(totallist[axis])\n",
    "    return means, variances\n",
    "\n",
    "def main():\n",
    "    v1=(0, 1)\n",
    "    v2=(0.5, 0.5)\n",
    "    v3=(1, 0)\n",
    "    m, var = mean_and_var(v1, v2, v3)\n",
    "    print('평균: ', m)\n",
    "    print('분산: ', var)\n",
    "main()"
   ]
  }
 ],
 "metadata": {
  "kernelspec": {
   "display_name": "Python 3",
   "language": "python",
   "name": "python3"
  },
  "language_info": {
   "codemirror_mode": {
    "name": "ipython",
    "version": 3
   },
   "file_extension": ".py",
   "mimetype": "text/x-python",
   "name": "python",
   "nbconvert_exporter": "python",
   "pygments_lexer": "ipython3",
   "version": "3.8.5"
  }
 },
 "nbformat": 4,
 "nbformat_minor": 4
}
