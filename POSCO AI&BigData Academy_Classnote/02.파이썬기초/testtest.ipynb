{
 "cells": [
  {
   "cell_type": "code",
   "execution_count": 10,
   "metadata": {},
   "outputs": [
    {
     "name": "stdout",
     "output_type": "stream",
     "text": [
      "[1, 1]\n",
      "140724621066624\n",
      "[2, 2]\n",
      "140724879389376\n",
      "[1, 1]\n",
      "140724621066624\n"
     ]
    }
   ],
   "source": [
    "def f(x):\n",
    "    x = [2,2]\n",
    "    print(x) #-> [2, 2] 지역 변수로 인식\n",
    "    print(id(x)) #->140724879389376 함수 밖 x와 다른 새로운 주소를 가리킴\n",
    "\n",
    "x = [1,1]\n",
    "print(x) #->[1, 1]\n",
    "print(id(x)) #->140724621066624\n",
    "f(x)\n",
    "print(x) #->[1, 1] 원본 변경 안됨\n",
    "print(id(x)) #->140724621066624 원본과 동일한 주소를 가짐. 변경 안됨"
   ]
  },
  {
   "cell_type": "code",
   "execution_count": 12,
   "metadata": {
    "scrolled": false
   },
   "outputs": [
    {
     "name": "stdout",
     "output_type": "stream",
     "text": [
      "[1, 1]\n",
      "140724633191488\n",
      "[2, 1]\n",
      "140724633191488\n",
      "[2, 1]\n",
      "140724633191488\n"
     ]
    }
   ],
   "source": [
    "def f(x):\n",
    "    x[0] = 2\n",
    "    print(x) #-> [2, 1] 전역 변수로 인식\n",
    "    print(id(x)) #->1140724633650432 함수 밖 원본 x와 동일한 주소를 가짐\n",
    "\n",
    "x = [1,1]\n",
    "print(x) #->[1, 1]\n",
    "print(id(x)) #->140724633650432\n",
    "\n",
    "f(x)\n",
    "print(x) #->[2, 1] 원본 변경됨\n",
    "print(id(x)) #->1140724633650432 원본과 동일한 주소를 가짐"
   ]
  },
  {
   "cell_type": "code",
   "execution_count": 24,
   "metadata": {},
   "outputs": [
    {
     "name": "stdout",
     "output_type": "stream",
     "text": [
      "4344387936\n",
      "2\n",
      "4344387968\n",
      "2\n",
      "4344387968\n",
      "1\n",
      "4344387936\n"
     ]
    }
   ],
   "source": [
    "def function(integer):\n",
    "    integer +=1\n",
    "    print(integer) #-> 2\n",
    "    print(id(integer)) #->4344387968 지역변수이므로 다른 주소를 가짐\n",
    "    return integer # 지역 변수의 주소와 같은 주소를 return\n",
    "\n",
    "integer = 1\n",
    "print(id(integer)) #->4344387936\n",
    "\n",
    "new_integer = function(integer)\n",
    "print(new_integer) #-> 2\n",
    "print(id(new_integer)) #->4344387968 함수 내부에서 사용하던 지역변수와 같은 주소 return\n",
    "\n",
    "print(integer) #-> 1 원본 값 변경 안됨\n",
    "print(id(integer)) #->4344387936 원본과 동일한 주소"
   ]
  },
  {
   "cell_type": "code",
   "execution_count": 32,
   "metadata": {},
   "outputs": [
    {
     "name": "stdout",
     "output_type": "stream",
     "text": [
      "4344387936\n",
      "4344387936\n",
      "2\n",
      "4344387968\n",
      "2\n",
      "4344387968\n",
      "2\n",
      "4344387968\n"
     ]
    }
   ],
   "source": [
    "def function():\n",
    "    global integer\n",
    "    print(id(integer)) #->4344387936 global을 사용하여 원본과 동일한 주소 가짐\n",
    "    \n",
    "    integer +=1 # immutable 객체는 연산을 통해 새로운 객체 생성\n",
    "    print(integer) #-> 2\n",
    "    print(id(integer)) #->4344387968 새로운 주소를 가지는 새 객체\n",
    "    return integer # 지역 변수의 주소와 같은 주소를 return\n",
    "\n",
    "integer = 1\n",
    "print(id(integer)) #->4344387936\n",
    "\n",
    "new_integer = function()\n",
    "print(new_integer) #-> 2\n",
    "print(id(new_integer)) #->4344387968 함수 내부에서 사용하던 지역변수와 같은 주소 return\n",
    "\n",
    "print(integer) #-> 2 원본 값 변경\n",
    "print(id(integer)) #->4344387968 원본과 다른 주소 "
   ]
  },
  {
   "cell_type": "code",
   "execution_count": 31,
   "metadata": {},
   "outputs": [
    {
     "name": "stdout",
     "output_type": "stream",
     "text": [
      "4344387968 4344388000\n"
     ]
    }
   ],
   "source": [
    "a=2\n",
    "b=a+1\n",
    "print(id(a), id(b))"
   ]
  },
  {
   "cell_type": "code",
   "execution_count": 45,
   "metadata": {},
   "outputs": [],
   "source": [
    "class person():\n",
    "    def __init__(self, name, age, tall, weight):\n",
    "        self.name = name\n",
    "        self.age = age\n",
    "        self.tall = tall\n",
    "        self.weight = weight\n",
    "    def name():\n",
    "        print('이름: ', self.name)"
   ]
  },
  {
   "cell_type": "code",
   "execution_count": 46,
   "metadata": {},
   "outputs": [],
   "source": [
    "t1 = person('선생님1', 100, 1, 1)"
   ]
  },
  {
   "cell_type": "code",
   "execution_count": 47,
   "metadata": {},
   "outputs": [
    {
     "data": {
      "text/plain": [
       "100"
      ]
     },
     "execution_count": 47,
     "metadata": {},
     "output_type": "execute_result"
    }
   ],
   "source": [
    "t1.age"
   ]
  },
  {
   "cell_type": "code",
   "execution_count": 48,
   "metadata": {},
   "outputs": [
    {
     "data": {
      "text/plain": [
       "'선생님1'"
      ]
     },
     "execution_count": 48,
     "metadata": {},
     "output_type": "execute_result"
    }
   ],
   "source": [
    "t1.name"
   ]
  },
  {
   "cell_type": "code",
   "execution_count": 49,
   "metadata": {},
   "outputs": [
    {
     "data": {
      "text/plain": [
       "1"
      ]
     },
     "execution_count": 49,
     "metadata": {},
     "output_type": "execute_result"
    }
   ],
   "source": [
    "t1.tall"
   ]
  },
  {
   "cell_type": "code",
   "execution_count": null,
   "metadata": {},
   "outputs": [],
   "source": [
    "class "
   ]
  }
 ],
 "metadata": {
  "kernelspec": {
   "display_name": "Python 3",
   "language": "python",
   "name": "python3"
  },
  "language_info": {
   "codemirror_mode": {
    "name": "ipython",
    "version": 3
   },
   "file_extension": ".py",
   "mimetype": "text/x-python",
   "name": "python",
   "nbconvert_exporter": "python",
   "pygments_lexer": "ipython3",
   "version": "3.8.5"
  }
 },
 "nbformat": 4,
 "nbformat_minor": 4
}
