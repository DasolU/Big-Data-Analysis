{
 "cells": [
  {
   "cell_type": "code",
   "execution_count": 37,
   "metadata": {},
   "outputs": [],
   "source": [
    "import pandas as pd\n",
    "import numpy as np\n",
    "import matplotlib.pyplot as plt\n",
    "import scipy.stats\n",
    "import statsmodels.api as sm\n",
    "from scipy import stats\n",
    "import seaborn as sns\n",
    "from statsmodels.stats.proportion import proportions_ztest\n",
    "import os\n",
    "import matplotlib\n",
    "\n",
    "from scipy.stats import ttest_rel\n",
    "from scipy.stats import ttest_ind\n",
    "from statsmodels.stats.anova import anova_lm\n",
    "from scipy.stats import shapiro\n",
    "from statsmodels.formula.api import ols\n",
    "import statsmodels.formula.api as smf\n",
    "import statsmodels.api as sm\n",
    "\n",
    "%matplotlib inline\n",
    "sns.set(font=\"AppleGothic\")\n",
    "plt.rcParams['axes.unicode_minus']=False"
   ]
  },
  {
   "cell_type": "markdown",
   "metadata": {},
   "source": [
    "# 1. [실습] 2-sample t-test 평균검정\n"
   ]
  },
  {
   "cell_type": "code",
   "execution_count": 27,
   "metadata": {
    "scrolled": true
   },
   "outputs": [
    {
     "data": {
      "text/html": [
       "<div>\n",
       "<style scoped>\n",
       "    .dataframe tbody tr th:only-of-type {\n",
       "        vertical-align: middle;\n",
       "    }\n",
       "\n",
       "    .dataframe tbody tr th {\n",
       "        vertical-align: top;\n",
       "    }\n",
       "\n",
       "    .dataframe thead th {\n",
       "        text-align: right;\n",
       "    }\n",
       "</style>\n",
       "<table border=\"1\" class=\"dataframe\">\n",
       "  <thead>\n",
       "    <tr style=\"text-align: right;\">\n",
       "      <th></th>\n",
       "      <th>thickness</th>\n",
       "      <th>supplier</th>\n",
       "    </tr>\n",
       "  </thead>\n",
       "  <tbody>\n",
       "    <tr>\n",
       "      <th>0</th>\n",
       "      <td>1.435</td>\n",
       "      <td>B</td>\n",
       "    </tr>\n",
       "    <tr>\n",
       "      <th>1</th>\n",
       "      <td>1.572</td>\n",
       "      <td>B</td>\n",
       "    </tr>\n",
       "    <tr>\n",
       "      <th>2</th>\n",
       "      <td>1.486</td>\n",
       "      <td>B</td>\n",
       "    </tr>\n",
       "    <tr>\n",
       "      <th>3</th>\n",
       "      <td>1.883</td>\n",
       "      <td>A</td>\n",
       "    </tr>\n",
       "    <tr>\n",
       "      <th>4</th>\n",
       "      <td>1.715</td>\n",
       "      <td>A</td>\n",
       "    </tr>\n",
       "  </tbody>\n",
       "</table>\n",
       "</div>"
      ],
      "text/plain": [
       "   thickness supplier\n",
       "0      1.435        B\n",
       "1      1.572        B\n",
       "2      1.486        B\n",
       "3      1.883        A\n",
       "4      1.715        A"
      ]
     },
     "execution_count": 27,
     "metadata": {},
     "output_type": "execute_result"
    }
   ],
   "source": [
    "thick = [1.435, 1.572, 1.486, 1.883, 1.715, 1.799, 1.511, 1.457, 1.548, 1.768, 1.711, 1.832, 1.427, 1.344, 1.404, 1.883]\n",
    "supplier = ['B', 'B', 'B', 'A', 'A', 'A','B', 'B', 'B', 'A', 'A', 'A', 'A', 'A', 'B', 'B']\n",
    "df = pd.DataFrame({'thickness': thick, 'supplier':supplier})\n",
    "df.head()"
   ]
  },
  {
   "cell_type": "markdown",
   "metadata": {},
   "source": [
    "## 1-0. 공급자 범주에 따른 thickness를 정리한 새로운 dataframe생성"
   ]
  },
  {
   "cell_type": "code",
   "execution_count": 32,
   "metadata": {},
   "outputs": [
    {
     "data": {
      "text/html": [
       "<div>\n",
       "<style scoped>\n",
       "    .dataframe tbody tr th:only-of-type {\n",
       "        vertical-align: middle;\n",
       "    }\n",
       "\n",
       "    .dataframe tbody tr th {\n",
       "        vertical-align: top;\n",
       "    }\n",
       "\n",
       "    .dataframe thead th {\n",
       "        text-align: right;\n",
       "    }\n",
       "</style>\n",
       "<table border=\"1\" class=\"dataframe\">\n",
       "  <thead>\n",
       "    <tr style=\"text-align: right;\">\n",
       "      <th></th>\n",
       "      <th>sup_a</th>\n",
       "      <th>sup_b</th>\n",
       "    </tr>\n",
       "  </thead>\n",
       "  <tbody>\n",
       "    <tr>\n",
       "      <th>0</th>\n",
       "      <td>1.883</td>\n",
       "      <td>1.435</td>\n",
       "    </tr>\n",
       "    <tr>\n",
       "      <th>1</th>\n",
       "      <td>1.715</td>\n",
       "      <td>1.572</td>\n",
       "    </tr>\n",
       "    <tr>\n",
       "      <th>2</th>\n",
       "      <td>1.799</td>\n",
       "      <td>1.486</td>\n",
       "    </tr>\n",
       "    <tr>\n",
       "      <th>3</th>\n",
       "      <td>1.768</td>\n",
       "      <td>1.511</td>\n",
       "    </tr>\n",
       "    <tr>\n",
       "      <th>4</th>\n",
       "      <td>1.711</td>\n",
       "      <td>1.457</td>\n",
       "    </tr>\n",
       "    <tr>\n",
       "      <th>5</th>\n",
       "      <td>1.832</td>\n",
       "      <td>1.548</td>\n",
       "    </tr>\n",
       "    <tr>\n",
       "      <th>6</th>\n",
       "      <td>1.427</td>\n",
       "      <td>1.404</td>\n",
       "    </tr>\n",
       "    <tr>\n",
       "      <th>7</th>\n",
       "      <td>1.344</td>\n",
       "      <td>1.883</td>\n",
       "    </tr>\n",
       "  </tbody>\n",
       "</table>\n",
       "</div>"
      ],
      "text/plain": [
       "   sup_a  sup_b\n",
       "0  1.883  1.435\n",
       "1  1.715  1.572\n",
       "2  1.799  1.486\n",
       "3  1.768  1.511\n",
       "4  1.711  1.457\n",
       "5  1.832  1.548\n",
       "6  1.427  1.404\n",
       "7  1.344  1.883"
      ]
     },
     "execution_count": 32,
     "metadata": {},
     "output_type": "execute_result"
    }
   ],
   "source": [
    "sup_a = list(df.loc[(df['supplier']=='A')]['thickness'])\n",
    "sup_b = list(df.loc[(df['supplier']=='B')]['thickness'])\n",
    "df_new = pd.DataFrame({'sup_a': sup_a, 'sup_b':sup_b})\n",
    "df_new"
   ]
  },
  {
   "cell_type": "markdown",
   "metadata": {},
   "source": [
    "## 1-1. 통계분석 전에 그래프를 그려 확인\n",
    "### 목적> 1. 이상치 2. 경향 확인\n",
    "### 해석> \n",
    "공급자 A와 공급자 B의 표본평균에 차이가 있어보인다. \n",
    "\n",
    "하지만 모평균의 차이가 존재하는지 정확한 확인을 위해 t-test평균검정이 필요하다.\n",
    "\n",
    "공급자 B에 이상치일 가능성이 있는 데이터가 있다."
   ]
  },
  {
   "cell_type": "code",
   "execution_count": 34,
   "metadata": {},
   "outputs": [
    {
     "data": {
      "text/plain": [
       "<AxesSubplot:>"
      ]
     },
     "execution_count": 34,
     "metadata": {},
     "output_type": "execute_result"
    },
    {
     "data": {
      "image/png": "[encoded data removed]",
      "text/plain": [
       "<Figure size 432x288 with 1 Axes>"
      ]
     },
     "metadata": {},
     "output_type": "display_data"
    }
   ],
   "source": [
    "df_new.boxplot(['sup_a','sup_b'])"
   ]
  },
  {
   "cell_type": "markdown",
   "metadata": {},
   "source": [
    "## 1-2. 정규성 확인\n",
    "### 해석\n",
    "sup_a가 공급한 제품 두께의 p-value가 0.08로 0.05보다 크므로 정규성을 만족한다.\n",
    "\n",
    "sup_b가 공급한 제품 두께의 p-value가 0.014로 0.05보다 작으므로 정규성을 만족하지 않는다."
   ]
  },
  {
   "cell_type": "code",
   "execution_count": 35,
   "metadata": {},
   "outputs": [
    {
     "name": "stdout",
     "output_type": "stream",
     "text": [
      "sup_a의 Shapiro-wilk test: statistic=0.8425756096839905, p-value=0.08004552870988846\n"
     ]
    }
   ],
   "source": [
    "stats, p = stats.shapiro(df_new['sup_a'])\n",
    "print(\"{}의 Shapiro-wilk test: statistic={}, p-value={}\".format('sup_a',stats, p))"
   ]
  },
  {
   "cell_type": "code",
   "execution_count": 38,
   "metadata": {},
   "outputs": [
    {
     "name": "stdout",
     "output_type": "stream",
     "text": [
      "sup_b의 Shapiro-wilk test: statistic=0.7734811902046204, p-value=0.014793740585446358\n"
     ]
    }
   ],
   "source": [
    "stats, p = stats.shapiro(df_new['sup_b'])\n",
    "print(\"{}의 Shapiro-wilk test: statistic={}, p-value={}\".format('sup_b',stats, p))"
   ]
  },
  {
   "cell_type": "markdown",
   "metadata": {},
   "source": [
    "## 1-3. 등분산성 검정: Levene's test (정규분포를 따르지 않을 때)\n",
    "### 해석\n",
    "Levene's test결과 p-value이 0.51으로 두 집단의 분산이 동일하다."
   ]
  },
  {
   "cell_type": "code",
   "execution_count": 45,
   "metadata": {},
   "outputs": [
    {
     "name": "stdout",
     "output_type": "stream",
     "text": [
      "LeveneResult(statistic=0.4408416728536036, pvalue=0.5175025061092301)\n"
     ]
    }
   ],
   "source": [
    "print(stats.levene(df_new['sup_a'], df_new['sup_b']))"
   ]
  },
  {
   "cell_type": "markdown",
   "metadata": {},
   "source": [
    "## 1-4. 평균검정\n",
    "문제> 정규성을 만족하지 않고, 등분산성을 만족하는 상황에서 어떤 t-test를 해야할까?\n",
    "\n",
    "1. (교재 118page)에 따르면 정규성을 만족하지 않으므로 **mann-whitney 검정**을 실시해야한다.\n",
    "    - **mann-whitney 검정**=> p-value=0.12이므로 두 집단의 평균은 **같지 않다**.\n",
    "\n",
    "\n",
    "2. 추가 실험으로 **독립적 2 sample t-test** 실시해보았다.\n",
    "    - **독립적 2 sample t-test**=>p-value=0.111으로 두 집단의 평균은 같지 않다는 결과가 나왔다."
   ]
  },
  {
   "cell_type": "code",
   "execution_count": 46,
   "metadata": {},
   "outputs": [
    {
     "name": "stdout",
     "output_type": "stream",
     "text": [
      "MannwhitneyuResult(statistic=20.5, pvalue=0.12382392305144829)\n"
     ]
    }
   ],
   "source": [
    "# mann-whitney 검정\n",
    "from scipy.stats import mannwhitneyu\n",
    "print(mannwhitneyu(df_new['sup_a'], df_new['sup_b']))"
   ]
  },
  {
   "cell_type": "code",
   "execution_count": 76,
   "metadata": {
    "scrolled": true
   },
   "outputs": [
    {
     "name": "stdout",
     "output_type": "stream",
     "text": [
      "독립적 2 sample t-test\n",
      "t 검정 통계량: 1.7\n",
      "p-value: 0.111\n"
     ]
    }
   ],
   "source": [
    "# 독립적 2 sample t-test \n",
    "t_result = stats.ttest_ind(df_new['sup_a'], df_new['sup_b'], equal_var = True)\n",
    "t, p = t_result.statistic.round(3), t_result.pvalue.round(3)\n",
    "print('독립적 2 sample t-test')\n",
    "print('t 검정 통계량: {}'.format(t))\n",
    "print('p-value: {}'.format(p))"
   ]
  },
  {
   "cell_type": "markdown",
   "metadata": {},
   "source": [
    "# 2. [실습] paired t-test\n",
    "### 해석\n",
    "유의수준 5%에서 검정결과 P값이 0.05이므로 학원 수강 전후 점수 차이가 있다고 할 수 있다."
   ]
  },
  {
   "cell_type": "code",
   "execution_count": 53,
   "metadata": {},
   "outputs": [
    {
     "name": "stdout",
     "output_type": "stream",
     "text": [
      "t 검정통계량: -2.266\n",
      "p-value: 0.05\n"
     ]
    }
   ],
   "source": [
    "before = [720, 589, 780, 648, 720, 589, 780, 648, 780, 648]\n",
    "after = [710, 580, 787, 712, 750, 600, 782, 670, 790, 680]\n",
    "df = pd.DataFrame({'before': before, 'after':after})\n",
    "df1 = df['before']\n",
    "df2 = df['after']\n",
    "t_result = ttest_rel(df1, df2)\n",
    "t,p = t_result.statistic.round(3),  t_result.pvalue.round(3)\n",
    "print('t 검정통계량: {}'.format(t))\n",
    "print('p-value: {}'.format(p))"
   ]
  },
  {
   "cell_type": "markdown",
   "metadata": {},
   "source": [
    "# 3. [실습] 1 proportion test\n",
    "### 해석\n",
    "유의수준 5%에서 검정결과 P값이 0.041이므로 정상적인 동전이 가지는 앞면 비율과 차이가 있다."
   ]
  },
  {
   "cell_type": "code",
   "execution_count": 28,
   "metadata": {},
   "outputs": [],
   "source": [
    "from statsmodels.stats.proportion import proportions_ztest"
   ]
  },
  {
   "cell_type": "code",
   "execution_count": 61,
   "metadata": {},
   "outputs": [
    {
     "name": "stdout",
     "output_type": "stream",
     "text": [
      "z: -2.041\n",
      "p-value: 0.041\n"
     ]
    }
   ],
   "source": [
    "value = 0.5\n",
    "count = 40\n",
    "n_obs = 100 # 앞면 횟수\n",
    "\n",
    "stat, p = proportions_ztest(count, n_obs, value)\n",
    "\n",
    "print('z: {0:0.3f}'.format(stat))\n",
    "print('p-value: {0:0.3f}'.format(p))"
   ]
  },
  {
   "cell_type": "markdown",
   "metadata": {},
   "source": [
    "# 4. [실습] 2 proportion test\n",
    "### 해석\n",
    "유의수준 5%에서 검정결과 P값이 0.038이므로 두 공정의 불량률 같지 않다."
   ]
  },
  {
   "cell_type": "code",
   "execution_count": 60,
   "metadata": {},
   "outputs": [
    {
     "name": "stdout",
     "output_type": "stream",
     "text": [
      "z: 2.073\n",
      "p: 0.038\n"
     ]
    }
   ],
   "source": [
    "\n",
    "count = np.array([14,5])\n",
    "n_obs = np.array([1200, 1200])\n",
    "\n",
    "stat, p = proportions_ztest(count, n_obs)\n",
    "print('z: {0:0.3f}'.format(stat))\n",
    "print('p: {0:0.3f}'.format(p))"
   ]
  },
  {
   "cell_type": "markdown",
   "metadata": {},
   "source": [
    "# 5. [실습] 카이제곱 검정 \n",
    "### 해석\n",
    "카이제곱 값이 95.76으로 매우 크며, p-value가 0.0000000086으로 거의 0에 가깝다.\n",
    "\n",
    "=>따라서 유의수준 5%에서 각 제품별로 이미지에 차이가 있다고 할 수 있다."
   ]
  },
  {
   "cell_type": "code",
   "execution_count": 62,
   "metadata": {},
   "outputs": [
    {
     "data": {
      "text/html": [
       "<div>\n",
       "<style scoped>\n",
       "    .dataframe tbody tr th:only-of-type {\n",
       "        vertical-align: middle;\n",
       "    }\n",
       "\n",
       "    .dataframe tbody tr th {\n",
       "        vertical-align: top;\n",
       "    }\n",
       "\n",
       "    .dataframe thead th {\n",
       "        text-align: right;\n",
       "    }\n",
       "</style>\n",
       "<table border=\"1\" class=\"dataframe\">\n",
       "  <thead>\n",
       "    <tr style=\"text-align: right;\">\n",
       "      <th></th>\n",
       "      <th>A</th>\n",
       "      <th>B</th>\n",
       "      <th>C</th>\n",
       "      <th>D</th>\n",
       "      <th>E</th>\n",
       "      <th>F</th>\n",
       "    </tr>\n",
       "  </thead>\n",
       "  <tbody>\n",
       "    <tr>\n",
       "      <th>0</th>\n",
       "      <td>18</td>\n",
       "      <td>8</td>\n",
       "      <td>4</td>\n",
       "      <td>4</td>\n",
       "      <td>3</td>\n",
       "      <td>3</td>\n",
       "    </tr>\n",
       "    <tr>\n",
       "      <th>1</th>\n",
       "      <td>2</td>\n",
       "      <td>2</td>\n",
       "      <td>1</td>\n",
       "      <td>1</td>\n",
       "      <td>1</td>\n",
       "      <td>25</td>\n",
       "    </tr>\n",
       "    <tr>\n",
       "      <th>2</th>\n",
       "      <td>14</td>\n",
       "      <td>14</td>\n",
       "      <td>3</td>\n",
       "      <td>2</td>\n",
       "      <td>3</td>\n",
       "      <td>8</td>\n",
       "    </tr>\n",
       "    <tr>\n",
       "      <th>3</th>\n",
       "      <td>5</td>\n",
       "      <td>5</td>\n",
       "      <td>4</td>\n",
       "      <td>3</td>\n",
       "      <td>1</td>\n",
       "      <td>10</td>\n",
       "    </tr>\n",
       "    <tr>\n",
       "      <th>4</th>\n",
       "      <td>5</td>\n",
       "      <td>5</td>\n",
       "      <td>9</td>\n",
       "      <td>2</td>\n",
       "      <td>1</td>\n",
       "      <td>2</td>\n",
       "    </tr>\n",
       "    <tr>\n",
       "      <th>5</th>\n",
       "      <td>9</td>\n",
       "      <td>9</td>\n",
       "      <td>5</td>\n",
       "      <td>7</td>\n",
       "      <td>1</td>\n",
       "      <td>1</td>\n",
       "    </tr>\n",
       "    <tr>\n",
       "      <th>6</th>\n",
       "      <td>4</td>\n",
       "      <td>4</td>\n",
       "      <td>4</td>\n",
       "      <td>3</td>\n",
       "      <td>1</td>\n",
       "      <td>7</td>\n",
       "    </tr>\n",
       "  </tbody>\n",
       "</table>\n",
       "</div>"
      ],
      "text/plain": [
       "    A   B  C  D  E   F\n",
       "0  18   8  4  4  3   3\n",
       "1   2   2  1  1  1  25\n",
       "2  14  14  3  2  3   8\n",
       "3   5   5  4  3  1  10\n",
       "4   5   5  9  2  1   2\n",
       "5   9   9  5  7  1   1\n",
       "6   4   4  4  3  1   7"
      ]
     },
     "execution_count": 62,
     "metadata": {},
     "output_type": "execute_result"
    }
   ],
   "source": [
    "dir_ = '/Users/dasol/Documents/GitHub/Big-Data-Analysis/POSCO_classnote'\n",
    "df = pd.read_csv(dir_+'/통계data/카이제곱_노트북.csv', engine=\"python\")\n",
    "df"
   ]
  },
  {
   "cell_type": "code",
   "execution_count": 66,
   "metadata": {},
   "outputs": [
    {
     "name": "stdout",
     "output_type": "stream",
     "text": [
      "chi-square test\n",
      "chisq: 95.76\n",
      "p: 0.0000000086\n",
      "degree pf freedom: 30\n",
      "expected value: \n",
      "[[10.2  8.4  5.4  3.9  2.  10. ]\n",
      " [ 8.2  6.7  4.3  3.2  1.6  8. ]\n",
      " [11.2  9.3  5.9  4.3  2.2 11. ]\n",
      " [ 7.2  5.9  3.8  2.8  1.4  7. ]\n",
      " [ 6.1  5.1  3.2  2.4  1.2  6. ]\n",
      " [ 8.2  6.7  4.3  3.2  1.6  8. ]\n",
      " [ 5.9  4.8  3.1  2.3  1.1  5.8]]\n"
     ]
    }
   ],
   "source": [
    "# chi-square test 실행\n",
    "# 차이가 있다.\n",
    "from scipy.stats import chi2_contingency\n",
    "\n",
    "chi, pval, dof, expected = stats.chi2_contingency(df)\n",
    "\n",
    "print('chi-square test')\n",
    "print('chisq: {:0.2f}'.format(chi))\n",
    "print('p: {:0.10f}'.format(pval))\n",
    "print('degree pf freedom: {}'.format(dof))\n",
    "print('expected value: \\n{}'.format(expected.round(1)))"
   ]
  },
  {
   "cell_type": "markdown",
   "metadata": {},
   "source": [
    "# 6. [실습] One-way ANOVA"
   ]
  },
  {
   "cell_type": "markdown",
   "metadata": {},
   "source": [
    "### 6-1. y는 연속형, x인 gangjong과 type은 범주형이므로 ANOVA분석을 실행한다."
   ]
  },
  {
   "cell_type": "code",
   "execution_count": 69,
   "metadata": {},
   "outputs": [
    {
     "name": "stdout",
     "output_type": "stream",
     "text": [
      "<class 'pandas.core.frame.DataFrame'>\n",
      "RangeIndex: 24 entries, 0 to 23\n",
      "Data columns (total 4 columns):\n",
      " #   Column    Non-Null Count  Dtype  \n",
      "---  ------    --------------  -----  \n",
      " 0   time      24 non-null     float64\n",
      " 1   charge    24 non-null     object \n",
      " 2   gangjong  24 non-null     object \n",
      " 3   type      24 non-null     object \n",
      "dtypes: float64(1), object(3)\n",
      "memory usage: 896.0+ bytes\n"
     ]
    }
   ],
   "source": [
    "df = pd.read_csv(dir_+'/1 통계이해/ANOVA.csv', engine=\"python\")\n",
    "df.info()"
   ]
  },
  {
   "cell_type": "code",
   "execution_count": 71,
   "metadata": {},
   "outputs": [
    {
     "data": {
      "text/html": [
       "<div>\n",
       "<style scoped>\n",
       "    .dataframe tbody tr th:only-of-type {\n",
       "        vertical-align: middle;\n",
       "    }\n",
       "\n",
       "    .dataframe tbody tr th {\n",
       "        vertical-align: top;\n",
       "    }\n",
       "\n",
       "    .dataframe thead th {\n",
       "        text-align: right;\n",
       "    }\n",
       "</style>\n",
       "<table border=\"1\" class=\"dataframe\">\n",
       "  <thead>\n",
       "    <tr style=\"text-align: right;\">\n",
       "      <th></th>\n",
       "      <th>time</th>\n",
       "      <th>charge</th>\n",
       "      <th>gangjong</th>\n",
       "      <th>type</th>\n",
       "    </tr>\n",
       "  </thead>\n",
       "  <tbody>\n",
       "    <tr>\n",
       "      <th>0</th>\n",
       "      <td>32.2</td>\n",
       "      <td>A</td>\n",
       "      <td>a</td>\n",
       "      <td>a</td>\n",
       "    </tr>\n",
       "    <tr>\n",
       "      <th>1</th>\n",
       "      <td>30.4</td>\n",
       "      <td>B</td>\n",
       "      <td>a</td>\n",
       "      <td>a</td>\n",
       "    </tr>\n",
       "    <tr>\n",
       "      <th>2</th>\n",
       "      <td>33.6</td>\n",
       "      <td>C</td>\n",
       "      <td>a</td>\n",
       "      <td>a</td>\n",
       "    </tr>\n",
       "    <tr>\n",
       "      <th>3</th>\n",
       "      <td>36.4</td>\n",
       "      <td>D</td>\n",
       "      <td>a</td>\n",
       "      <td>a</td>\n",
       "    </tr>\n",
       "    <tr>\n",
       "      <th>4</th>\n",
       "      <td>33.9</td>\n",
       "      <td>E</td>\n",
       "      <td>a</td>\n",
       "      <td>a</td>\n",
       "    </tr>\n",
       "  </tbody>\n",
       "</table>\n",
       "</div>"
      ],
      "text/plain": [
       "   time charge gangjong type\n",
       "0  32.2      A        a    a\n",
       "1  30.4      B        a    a\n",
       "2  33.6      C        a    a\n",
       "3  36.4      D        a    a\n",
       "4  33.9      E        a    a"
      ]
     },
     "execution_count": 71,
     "metadata": {},
     "output_type": "execute_result"
    }
   ],
   "source": [
    "df.head()"
   ]
  },
  {
   "cell_type": "markdown",
   "metadata": {},
   "source": [
    "### 6-2. 강종 종류에 따른 박스 plot으로 시각화\n",
    "해석: 강종은 4가지 그룹으로 나뉘어져 있으며, 특히 강종 a와 강종 d의 2차정련시간 차이가 가장 커보인다.\n",
    "\n",
    "     반면 type은 두 범주(a와 b) 밖에 없어서 집단간 차이가 상대적으로 작게 측정될 것으로 예상해보았다."
   ]
  },
  {
   "cell_type": "code",
   "execution_count": 70,
   "metadata": {},
   "outputs": [
    {
     "data": {
      "text/plain": [
       "<AxesSubplot:title={'center':'time'}, xlabel='gangjong'>"
      ]
     },
     "execution_count": 70,
     "metadata": {},
     "output_type": "execute_result"
    },
    {
     "data": {
      "image/png": "[encoded data removed]",
      "text/plain": [
       "<Figure size 432x288 with 1 Axes>"
      ]
     },
     "metadata": {},
     "output_type": "display_data"
    }
   ],
   "source": [
    "df.boxplot(column='time', by='gangjong') # by: 범주별로 시간 보여준다"
   ]
  },
  {
   "cell_type": "code",
   "execution_count": 73,
   "metadata": {},
   "outputs": [
    {
     "data": {
      "text/plain": [
       "<AxesSubplot:title={'center':'time'}, xlabel='type'>"
      ]
     },
     "execution_count": 73,
     "metadata": {},
     "output_type": "execute_result"
    },
    {
     "data": {
      "image/png": "[encoded data removed]",
      "text/plain": [
       "<Figure size 432x288 with 1 Axes>"
      ]
     },
     "metadata": {},
     "output_type": "display_data"
    }
   ],
   "source": [
    "df.boxplot(column='time', by='type') "
   ]
  },
  {
   "cell_type": "markdown",
   "metadata": {},
   "source": [
    "### 6-3. ordinary linear square 적합\n",
    "OLS 적합 이유> x가 범주형 y가 연속형인 데이터를 선형회귀모델에 적합시켜 **총 변동에 대한 오차에 의한 변동의 비율을 계산하기 위해서**.\n",
    "\n",
    "해석1 : 유의수준 5%에서 강종의 p-value가 0.019이므로 강종별 2차정련시간이 같지 않다.\n",
    "\n",
    "해석2 : 유의수준 5%에서 type의 p-value가 0.005이므로 type별 2차정련시간이 같지 않다."
   ]
  },
  {
   "cell_type": "code",
   "execution_count": 75,
   "metadata": {},
   "outputs": [
    {
     "name": "stdout",
     "output_type": "stream",
     "text": [
      "               df      sum_sq    mean_sq         F    PR(>F)\n",
      "C(gangjong)   3.0  104.603333  34.867778  4.171868  0.019013\n",
      "Residual     20.0  167.156667   8.357833       NaN       NaN\n"
     ]
    }
   ],
   "source": [
    "# OLS=>Create a Model from a formula and dataframe.\n",
    "lm = ols('time ~ C(gangjong)', data=df).fit() # linear_model\n",
    "print(anova_lm(lm))"
   ]
  },
  {
   "cell_type": "code",
   "execution_count": 80,
   "metadata": {},
   "outputs": [
    {
     "name": "stdout",
     "output_type": "stream",
     "text": [
      "            df      sum_sq    mean_sq         F   PR(>F)\n",
      "C(type)    1.0   82.881667  82.881667  9.653816  0.00514\n",
      "Residual  22.0  188.878333   8.585379       NaN      NaN\n"
     ]
    }
   ],
   "source": [
    "lm = ols('time ~ C(type)', data=df).fit() \n",
    "print(anova_lm(lm))"
   ]
  }
 ],
 "metadata": {
  "kernelspec": {
   "display_name": "Python 3",
   "language": "python",
   "name": "python3"
  },
  "language_info": {
   "codemirror_mode": {
    "name": "ipython",
    "version": 3
   },
   "file_extension": ".py",
   "mimetype": "text/x-python",
   "name": "python",
   "nbconvert_exporter": "python",
   "pygments_lexer": "ipython3",
   "version": "3.8.5"
  }
 },
 "nbformat": 4,
 "nbformat_minor": 4
}
