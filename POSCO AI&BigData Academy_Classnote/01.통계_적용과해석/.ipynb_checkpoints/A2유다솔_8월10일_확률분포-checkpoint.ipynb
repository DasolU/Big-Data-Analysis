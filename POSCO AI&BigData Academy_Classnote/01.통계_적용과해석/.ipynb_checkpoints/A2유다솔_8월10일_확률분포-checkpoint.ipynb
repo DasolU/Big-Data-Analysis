{
 "cells": [
  {
   "cell_type": "markdown",
   "metadata": {},
   "source": [
    "# 확률 분포 개념\n",
    "- 확률: 사건이 발생할 가능성\n",
    "\n",
    "- 포본공간: 실험 결과 발생 가능한 모든 결과의 집합\n",
    "- 확률변수: 표본공간상 모든 가능한 결과에 특정 수치를 부여하는 것\n",
    "\n",
    "- 확률함수: 확률변수에 대해 정의된 실수를 0과 1 사이의 실수(확률)에 대응시키는 함수\n",
    "    - PMF 이산확률함수 (probabilty mass function) \n",
    "    - PDF 연속확률함수 (probabilty density function) )\n",
    "\n",
    "- 누적확률함수: CDF (cumulative PDF)\n",
    "\n",
    "- 확률분포: 확률 변수 값과 그 값이 발생활 확률 값을 도수분포표나 그래프로 나타낸 것\n"
   ]
  },
  {
   "cell_type": "code",
   "execution_count": 4,
   "metadata": {},
   "outputs": [],
   "source": [
    "import pandas as pd\n",
    "import numpy as np\n",
    "import matplotlib.pyplot as plt\n",
    "import scipy.stats\n",
    "import statsmodels.api as sm\n",
    "from scipy import stats\n",
    "import seaborn as sns\n",
    "from statsmodels.stats.proportion import proportions_ztest\n",
    "import os\n",
    "import matplotlib\n",
    "%matplotlib inline\n",
    "sns.set(font=\"AppleGothic\")\n",
    "plt.rcParams['axes.unicode_minus']=False"
   ]
  },
  {
   "cell_type": "markdown",
   "metadata": {},
   "source": [
    "## 1. [실습] 정규분포의 확률 계산\n",
    "### 해석\n",
    "    - 180cm인 남성의 키는 상위 15.9%에 해당하며, 남성 100명 중 약 16명 정도가 180cm이상의 키를 가진다고 해석된다."
   ]
  },
  {
   "cell_type": "code",
   "execution_count": 6,
   "metadata": {},
   "outputs": [
    {
     "name": "stdout",
     "output_type": "stream",
     "text": [
      "x(180)까지 누적 확률 값:  0.841\n",
      "180cm인 남성의 %범위: 15.9%\n"
     ]
    }
   ],
   "source": [
    "mu = 175\n",
    "sigma = 5\n",
    "x = 180\n",
    "\n",
    "# x(180)까지 누적 확률 값: CDF\n",
    "prob=stats.norm.cdf(x,mu,sigma)\n",
    "print('x({})까지 누적 확률 값: '.format(x), prob.round(3))\n",
    "\n",
    "# 180이상의 누적확률값 계산\n",
    "print('{0}cm인 남성의 %범위: {1:.1f}%'.format(x, (1-prob)*100))"
   ]
  },
  {
   "cell_type": "markdown",
   "metadata": {},
   "source": [
    "## 2. [실습] 정규분포의 확률 계산\n",
    "\n",
    "### 방법\n",
    "    - 9km이상 15km이하 확률 값 계산 방법:\n",
    "        - 15km까지 누적 확률 - 9km까지 누적 확률"
   ]
  },
  {
   "cell_type": "code",
   "execution_count": 11,
   "metadata": {},
   "outputs": [
    {
     "name": "stdout",
     "output_type": "stream",
     "text": [
      "x(15)까지 누적 확률 값:  0.841\n",
      "x(9)까지 누적 확률 값:  0.159\n",
      "1) 9km이상 15km이하 달릴 확률: 68.3%\n",
      "2) 9km이상 달릴 확률: 15.9%\n"
     ]
    }
   ],
   "source": [
    "mu = 12\n",
    "sigma = 3\n",
    "\n",
    "\n",
    "# x(15)까지 누적 확률 값: CDF\n",
    "x = 15\n",
    "prob_15=stats.norm.cdf(x,mu,sigma)\n",
    "print('x({})까지 누적 확률 값: '.format(x), prob_15.round(3))\n",
    "\n",
    "# x(9)까지 누적 확률 값: CDF\n",
    "x = 9\n",
    "prob_9=stats.norm.cdf(x,mu,sigma)\n",
    "print('x({})까지 누적 확률 값: '.format(x), prob_9.round(3))\n",
    "\n",
    "# 9km이상 15km이하 확률 값\n",
    "prob_over9_under15 = prob_15 - prob_9\n",
    "print('1) {0}km이상 {1}km이하 달릴 확률: {2:.1f}%'.format(9,15, (prob_15 - prob_9)*100))\n",
    "\n",
    "# 15이상의 누적확률값 계산\n",
    "print('2) {0}km이상 달릴 확률: {1:.1f}%'.format(x, (1-prob_15)*100))"
   ]
  },
  {
   "cell_type": "markdown",
   "metadata": {},
   "source": [
    "## 3. [실습] t 분포\n",
    "\n",
    "### 해석\n",
    "t 분포에서는 자유도가 커질수록 정규분포화 형태가 비슷해지며 꼬리쪽 확률 함수 면적이 줄어들며 뾰족한 종 모양 형태가 된다.\n",
    "\n",
    "이에 따라 t값이 같더라도 자유도가 5일 때의 누적확률에서는 꼬리쪽 면적이 상대적으로 클 것이므로\n",
    "\n",
    "자유도가 5일 때 누적확률이 더 작은 것으로 해석된다."
   ]
  },
  {
   "cell_type": "code",
   "execution_count": 17,
   "metadata": {},
   "outputs": [
    {
     "name": "stdout",
     "output_type": "stream",
     "text": [
      "자유도가 100인 t분포에서 t<=2.0 누적 확률 값: 0.976\n",
      "자유도가 5인 t분포에서 t<=2.0 누적 확률 값: 0.949\n"
     ]
    }
   ],
   "source": [
    "df= 100\n",
    "t = 2.0\n",
    "\n",
    "# 누적 확률 값: CDF\n",
    "prob=stats.t.cdf(t, df)\n",
    "prob_df_5=stats.t.cdf(t, 5)\n",
    "\n",
    "# 누적확률값 계산\n",
    "print('자유도가 100인 t분포에서 t<={} 누적 확률 값: {:.3f}'.format(t,prob))\n",
    "\n",
    "# 자유도가 5경우 누적확률값 계산\n",
    "print('자유도가 5인 t분포에서 t<={} 누적 확률 값: {:.3f}'.format(t,prob_df_5))\n"
   ]
  },
  {
   "cell_type": "markdown",
   "metadata": {},
   "source": [
    "## 4. [실습] 카이제곱 분포 ($\\chi{2}$)\n",
    "\n",
    "### 해석\n",
    "**자유도가 커질수록 정규분포 형태를 띈다.**\n",
    "\n",
    "자유도가 증가할수록 왼쪽으로 skewed된 분포에서 maximum peak이 오른쪽으로 이동하며 산포가 증가한다."
   ]
  },
  {
   "cell_type": "code",
   "execution_count": 35,
   "metadata": {},
   "outputs": [
    {
     "name": "stderr",
     "output_type": "stream",
     "text": [
      "/Users/dasol/opt/anaconda3/lib/python3.8/site-packages/seaborn/distributions.py:2551: FutureWarning: `distplot` is a deprecated function and will be removed in a future version. Please adapt your code to use either `displot` (a figure-level function with similar flexibility) or `histplot` (an axes-level function for histograms).\n",
      "  warnings.warn(msg, FutureWarning)\n",
      "/Users/dasol/opt/anaconda3/lib/python3.8/site-packages/seaborn/distributions.py:2551: FutureWarning: `distplot` is a deprecated function and will be removed in a future version. Please adapt your code to use either `displot` (a figure-level function with similar flexibility) or `histplot` (an axes-level function for histograms).\n",
      "  warnings.warn(msg, FutureWarning)\n",
      "/Users/dasol/opt/anaconda3/lib/python3.8/site-packages/seaborn/distributions.py:2551: FutureWarning: `distplot` is a deprecated function and will be removed in a future version. Please adapt your code to use either `displot` (a figure-level function with similar flexibility) or `histplot` (an axes-level function for histograms).\n",
      "  warnings.warn(msg, FutureWarning)\n",
      "/Users/dasol/opt/anaconda3/lib/python3.8/site-packages/seaborn/distributions.py:2551: FutureWarning: `distplot` is a deprecated function and will be removed in a future version. Please adapt your code to use either `displot` (a figure-level function with similar flexibility) or `histplot` (an axes-level function for histograms).\n",
      "  warnings.warn(msg, FutureWarning)\n"
     ]
    },
    {
     "data": {
      "image/png": "[encoded data removed]",
      "text/plain": [
       "<Figure size 432x288 with 1 Axes>"
      ]
     },
     "metadata": {},
     "output_type": "display_data"
    }
   ],
   "source": [
    "dflist = [3,10,30,50]\n",
    "n =1000\n",
    "np.random.seed(seed=1)\n",
    "for df in dflist:\n",
    "    \n",
    "    chisq_df = np.random.chisquare(df=df, size = n)\n",
    "    sns.distplot(chisq_df,fit=stats.norm, kde = False, label='자유도 '+str(df))\n",
    "    plt.title('자유도에 따른 카이제곱 분포 모양 변화')\n",
    "plt.legend()\n",
    "plt.show()    \n",
    "plt.close()"
   ]
  },
  {
   "cell_type": "markdown",
   "metadata": {},
   "source": [
    "## 5. [실습] 카이제곱 분포 ($\\chi{2}$) 확률 계산\n",
    "chi2 ~  $\\chi2(8)$"
   ]
  },
  {
   "cell_type": "code",
   "execution_count": 6,
   "metadata": {},
   "outputs": [
    {
     "name": "stdout",
     "output_type": "stream",
     "text": [
      "P(x<=3): 0.0656\n"
     ]
    }
   ],
   "source": [
    "chisq=3\n",
    "df=8\n",
    "\n",
    "prob=stats.chi2.cdf(chisq,df)\n",
    "print(\"P(x<={}): {:.4f}\".format(chisq, prob))"
   ]
  },
  {
   "cell_type": "markdown",
   "metadata": {},
   "source": [
    "## 6. [실습] F 분포\n",
    "### 추가 실험 해석\n",
    "분모의 자유도가 분자의 자유도 보다 10배 큰 경우 확률은 0.850, \n",
    "\n",
    "분모의 자유도가 분자의 자유도와 같은 경우 확률은 0.733으로 상대적으로 감소하였다.\n",
    "\n",
    "이유를 생각해보면, F분포 확률밀도함수 수식에서 분모의 자유도가 곱셈의 형태로 이루어져있기 때문에 \n",
    "\n",
    "분모의 자유도가 증가하면, 확률밀도함수 값들이 증가하며 분포가 오른쪽으로 이동했기 때문으로 해석된다."
   ]
  },
  {
   "cell_type": "code",
   "execution_count": 50,
   "metadata": {},
   "outputs": [
    {
     "name": "stdout",
     "output_type": "stream",
     "text": [
      "제출하는 답: P(x<=1.5, 10,100) = 0.850\n",
      "추가 실험: P(x<=1.5, 10,10) = 0.733\n"
     ]
    }
   ],
   "source": [
    "f = 1.5\n",
    "df_num = 10\n",
    "df_den = 100\n",
    "\n",
    "prob=stats.f.cdf(f, df_num, df_den)\n",
    "print(\"제출하는 답: P(x<={}, {},{}) = {:.3f}\".format(f,df_num,df_den,prob))\n",
    "\n",
    "f = 1.5\n",
    "df_num = 10\n",
    "df_den = 10\n",
    "prob=stats.f.cdf(f, df_num, df_den)\n",
    "print(\"추가 실험: P(x<={}, {},{}) = {:.3f}\".format(f,df_num,df_den,prob))"
   ]
  },
  {
   "cell_type": "markdown",
   "metadata": {},
   "source": [
    "## 7. [실습] 와이블 분포\n",
    "### 해석\n",
    "2500시간 이상 작동할 확률이 14.3% 이다."
   ]
  },
  {
   "cell_type": "code",
   "execution_count": 51,
   "metadata": {
    "scrolled": true
   },
   "outputs": [
    {
     "name": "stdout",
     "output_type": "stream",
     "text": [
      "2500시간 이상 작동할 확률 P(x>=2500) = 0.143\n"
     ]
    }
   ],
   "source": [
    "x = 2500\n",
    "alpha = 5.2 #형상모수\n",
    "beta = 2200 #척도모수\n",
    "\n",
    "prob=stats.weibull_min.cdf(x, alpha, scale=beta)\n",
    "print(\"2500시간 이상 작동할 확률 P(x>={}) = {:.3f}\".format(x,1-prob))"
   ]
  },
  {
   "cell_type": "markdown",
   "metadata": {},
   "source": [
    "## 8. [실습] 이항분포 (binomial distribution)\n",
    "### 해석\n",
    "불량률이 30%일 때, 5대 차량을 선택했을 때 불량이 나온다면 가장 흔한 사건은 불량이 1개인 경우이다."
   ]
  },
  {
   "cell_type": "code",
   "execution_count": 52,
   "metadata": {},
   "outputs": [
    {
     "name": "stdout",
     "output_type": "stream",
     "text": [
      "P(x=0) = 0.168\n",
      "P(x=1) = 0.360\n",
      "P(x=2) = 0.309\n",
      "P(x=3) = 0.132\n",
      "P(x=4) = 0.028\n",
      "P(x=5) = 0.002\n"
     ]
    }
   ],
   "source": [
    "n = 5 # 차량 수\n",
    "p = 0.3 # 공정 불량 확률\n",
    "\n",
    "for i in range(n+1):\n",
    "    prob=stats.binom.pmf(k=i, n=n, p=p)\n",
    "    print(\"P(x={}) = {:.3f}\".format(i,prob))"
   ]
  },
  {
   "cell_type": "markdown",
   "metadata": {},
   "source": [
    "## 9. [실습] 포아송 분포"
   ]
  },
  {
   "cell_type": "code",
   "execution_count": 56,
   "metadata": {},
   "outputs": [
    {
     "name": "stdout",
     "output_type": "stream",
     "text": [
      "1) 1시간동안 2명 손님 도착할 확률: 22.4%\n",
      "2) 1시간동안 1명 이하의 손님 도착할 확률: 19.9%\n",
      "3) 1시간동안 3명 이상의 손님 도착할 확률: 35.3%\n"
     ]
    }
   ],
   "source": [
    "# 1시간에 평균 3명 손님 도착\n",
    "mu = 3\n",
    "\n",
    "# 1시간동안 2명 손님 도착할 확률\n",
    "num = 2\n",
    "prob = stats.poisson.pmf(num,mu)\n",
    "print(\"1) 1시간동안 {0}명 손님 도착할 확률: {1:.1f}%\".format(num,prob*100))\n",
    "\n",
    "# 1시간동안 1명 이하 손님 도착할 확률 \n",
    "num = 1\n",
    "cdf_prob = stats.poisson.cdf(num,mu)\n",
    "print(\"2) 1시간동안 {0}명 이하의 손님 도착할 확률: {1:.1f}%\".format(num,cdf_prob*100))\n",
    "\n",
    "# 1시간동안 3명 이상 손님 도착할 확률 \n",
    "\n",
    "num = 3\n",
    "cdf_prob = stats.poisson.cdf(num,mu)\n",
    "print(\"3) 1시간동안 {0}명 이상의 손님 도착할 확률: {1:.1f}%\".format(num,(1-cdf_prob)*100))"
   ]
  }
 ],
 "metadata": {
  "kernelspec": {
   "display_name": "Python 3",
   "language": "python",
   "name": "python3"
  },
  "language_info": {
   "codemirror_mode": {
    "name": "ipython",
    "version": 3
   },
   "file_extension": ".py",
   "mimetype": "text/x-python",
   "name": "python",
   "nbconvert_exporter": "python",
   "pygments_lexer": "ipython3",
   "version": "3.8.5"
  }
 },
 "nbformat": 4,
 "nbformat_minor": 4
}
