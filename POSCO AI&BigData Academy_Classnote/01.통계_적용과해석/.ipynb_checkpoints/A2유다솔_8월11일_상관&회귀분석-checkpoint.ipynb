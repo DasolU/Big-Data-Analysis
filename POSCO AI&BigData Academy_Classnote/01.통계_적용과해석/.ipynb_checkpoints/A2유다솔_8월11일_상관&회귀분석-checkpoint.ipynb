{
 "cells": [
  {
   "cell_type": "code",
   "execution_count": 1,
   "metadata": {},
   "outputs": [],
   "source": [
    "import pandas as pd\n",
    "import numpy as np\n",
    "import matplotlib.pyplot as plt\n",
    "import scipy.stats\n",
    "import statsmodels.api as sm\n",
    "from scipy import stats\n",
    "import seaborn as sns\n",
    "import os\n",
    "import matplotlib\n",
    "\n",
    "from scipy.stats import ttest_rel\n",
    "from scipy.stats import ttest_ind\n",
    "from statsmodels.stats.anova import anova_lm\n",
    "from scipy.stats import shapiro\n",
    "from statsmodels.formula.api import ols\n",
    "import statsmodels.formula.api as smf\n",
    "from scipy.stats import mannwhitneyu\n",
    "from statsmodels.stats.proportion import proportions_ztest\n",
    "from scipy.stats import chi2_contingency\n",
    "\n",
    "\n",
    "%matplotlib inline\n",
    "sns.set(font=\"AppleGothic\")\n",
    "plt.rcParams['axes.unicode_minus']=False"
   ]
  },
  {
   "cell_type": "markdown",
   "metadata": {},
   "source": [
    "# 1. [실습] 상관분석\n",
    "모수에 대한 가설\n",
    "- $H_0$: p =0 (상관성이 없다.)\n",
    "- $H_1$: p !=0 (상관성이 있다.)\n",
    "\n",
    "### 해석\n",
    "p-value=0으로 매우 작기 때문에 H1가설 채택 => 유의수준 5%에서 초코칩 강도와 재료 반죽온도간에 상관관계가 있다.\n",
    "\n",
    "강도와 온도의 상관계수는 -0.899으로 음의 방향이며, -1에 가까운 큰 값을 가지므로 음의 상관관계가 매우 큰 것으로 해석된다."
   ]
  },
  {
   "cell_type": "code",
   "execution_count": 3,
   "metadata": {},
   "outputs": [
    {
     "data": {
      "text/html": [
       "<div>\n",
       "<style scoped>\n",
       "    .dataframe tbody tr th:only-of-type {\n",
       "        vertical-align: middle;\n",
       "    }\n",
       "\n",
       "    .dataframe tbody tr th {\n",
       "        vertical-align: top;\n",
       "    }\n",
       "\n",
       "    .dataframe thead th {\n",
       "        text-align: right;\n",
       "    }\n",
       "</style>\n",
       "<table border=\"1\" class=\"dataframe\">\n",
       "  <thead>\n",
       "    <tr style=\"text-align: right;\">\n",
       "      <th></th>\n",
       "      <th>strength</th>\n",
       "      <th>temp</th>\n",
       "      <th>Quantity</th>\n",
       "      <th>b_time</th>\n",
       "      <th>Oven_TMP</th>\n",
       "    </tr>\n",
       "  </thead>\n",
       "  <tbody>\n",
       "    <tr>\n",
       "      <th>0</th>\n",
       "      <td>37.6</td>\n",
       "      <td>14</td>\n",
       "      <td>120.790646</td>\n",
       "      <td>0.798922</td>\n",
       "      <td>307.106574</td>\n",
       "    </tr>\n",
       "    <tr>\n",
       "      <th>1</th>\n",
       "      <td>38.6</td>\n",
       "      <td>15</td>\n",
       "      <td>99.643155</td>\n",
       "      <td>0.849020</td>\n",
       "      <td>318.178850</td>\n",
       "    </tr>\n",
       "    <tr>\n",
       "      <th>2</th>\n",
       "      <td>37.2</td>\n",
       "      <td>14</td>\n",
       "      <td>115.102395</td>\n",
       "      <td>0.816163</td>\n",
       "      <td>339.715122</td>\n",
       "    </tr>\n",
       "    <tr>\n",
       "      <th>3</th>\n",
       "      <td>36.4</td>\n",
       "      <td>16</td>\n",
       "      <td>114.640504</td>\n",
       "      <td>0.758266</td>\n",
       "      <td>341.174398</td>\n",
       "    </tr>\n",
       "    <tr>\n",
       "      <th>4</th>\n",
       "      <td>38.6</td>\n",
       "      <td>17</td>\n",
       "      <td>141.266536</td>\n",
       "      <td>0.815894</td>\n",
       "      <td>335.904402</td>\n",
       "    </tr>\n",
       "  </tbody>\n",
       "</table>\n",
       "</div>"
      ],
      "text/plain": [
       "   strength  temp    Quantity    b_time    Oven_TMP\n",
       "0      37.6    14  120.790646  0.798922  307.106574\n",
       "1      38.6    15   99.643155  0.849020  318.178850\n",
       "2      37.2    14  115.102395  0.816163  339.715122\n",
       "3      36.4    16  114.640504  0.758266  341.174398\n",
       "4      38.6    17  141.266536  0.815894  335.904402"
      ]
     },
     "execution_count": 3,
     "metadata": {},
     "output_type": "execute_result"
    }
   ],
   "source": [
    "df = pd.read_csv('../통계data/correlation.csv', engine=\"python\")\n",
    "df.head()"
   ]
  },
  {
   "cell_type": "code",
   "execution_count": 5,
   "metadata": {},
   "outputs": [
    {
     "name": "stderr",
     "output_type": "stream",
     "text": [
      "*c* argument looks like a single numeric RGB or RGBA sequence, which should be avoided as value-mapping will have precedence in case its length matches with *x* & *y*.  Please use the *color* keyword-argument or provide a 2-D array with a single row if you intend to specify the same RGB or RGBA value for all points.\n"
     ]
    },
    {
     "data": {
      "text/plain": [
       "<AxesSubplot:xlabel='strength', ylabel='temp'>"
      ]
     },
     "execution_count": 5,
     "metadata": {},
     "output_type": "execute_result"
    },
    {
     "data": {
      "image/png": "[encoded data removed]",
      "text/plain": [
       "<Figure size 432x288 with 1 Axes>"
      ]
     },
     "metadata": {},
     "output_type": "display_data"
    }
   ],
   "source": [
    "df.plot.scatter(x = 'strength', y = 'temp')"
   ]
  },
  {
   "cell_type": "code",
   "execution_count": 3,
   "metadata": {
    "scrolled": true
   },
   "outputs": [
    {
     "name": "stdout",
     "output_type": "stream",
     "text": [
      "corr: -0.899\n",
      "p-value: 0.0000000000\n"
     ]
    }
   ],
   "source": [
    "df1 = df['strength']\n",
    "df2 = df['temp']\n",
    "corr, pval = stats.pearsonr(df1, df2)\n",
    "\n",
    "print('corr: {0:0.3f}'.format(corr))\n",
    "print('p-value: {0:0.10f}'.format(pval))"
   ]
  },
  {
   "cell_type": "markdown",
   "metadata": {},
   "source": [
    "# 2. [실습] 회귀분석"
   ]
  },
  {
   "cell_type": "code",
   "execution_count": 4,
   "metadata": {},
   "outputs": [
    {
     "data": {
      "text/html": [
       "<div>\n",
       "<style scoped>\n",
       "    .dataframe tbody tr th:only-of-type {\n",
       "        vertical-align: middle;\n",
       "    }\n",
       "\n",
       "    .dataframe tbody tr th {\n",
       "        vertical-align: top;\n",
       "    }\n",
       "\n",
       "    .dataframe thead th {\n",
       "        text-align: right;\n",
       "    }\n",
       "</style>\n",
       "<table border=\"1\" class=\"dataframe\">\n",
       "  <thead>\n",
       "    <tr style=\"text-align: right;\">\n",
       "      <th></th>\n",
       "      <th>Flaws</th>\n",
       "      <th>Period</th>\n",
       "      <th>Strength</th>\n",
       "      <th>Baking Time</th>\n",
       "      <th>Cabbage weight</th>\n",
       "    </tr>\n",
       "  </thead>\n",
       "  <tbody>\n",
       "    <tr>\n",
       "      <th>0</th>\n",
       "      <td>Scratch</td>\n",
       "      <td>Day</td>\n",
       "      <td>37.6</td>\n",
       "      <td>0.798922</td>\n",
       "      <td>3.6</td>\n",
       "    </tr>\n",
       "    <tr>\n",
       "      <th>1</th>\n",
       "      <td>Scratch</td>\n",
       "      <td>Day</td>\n",
       "      <td>38.6</td>\n",
       "      <td>0.849020</td>\n",
       "      <td>2.9</td>\n",
       "    </tr>\n",
       "    <tr>\n",
       "      <th>2</th>\n",
       "      <td>Peel</td>\n",
       "      <td>Day</td>\n",
       "      <td>37.2</td>\n",
       "      <td>0.816163</td>\n",
       "      <td>2.8</td>\n",
       "    </tr>\n",
       "    <tr>\n",
       "      <th>3</th>\n",
       "      <td>Peel</td>\n",
       "      <td>Day</td>\n",
       "      <td>36.4</td>\n",
       "      <td>0.758266</td>\n",
       "      <td>2.6</td>\n",
       "    </tr>\n",
       "    <tr>\n",
       "      <th>4</th>\n",
       "      <td>Smudge</td>\n",
       "      <td>Day</td>\n",
       "      <td>38.6</td>\n",
       "      <td>0.815894</td>\n",
       "      <td>3.4</td>\n",
       "    </tr>\n",
       "  </tbody>\n",
       "</table>\n",
       "</div>"
      ],
      "text/plain": [
       "     Flaws Period  Strength  Baking Time  Cabbage weight\n",
       "0  Scratch    Day      37.6     0.798922             3.6\n",
       "1  Scratch    Day      38.6     0.849020             2.9\n",
       "2     Peel    Day      37.2     0.816163             2.8\n",
       "3     Peel    Day      36.4     0.758266             2.6\n",
       "4   Smudge    Day      38.6     0.815894             3.4"
      ]
     },
     "execution_count": 4,
     "metadata": {},
     "output_type": "execute_result"
    }
   ],
   "source": [
    "from statsmodels.api import qqplot, add_constant\n",
    "df = pd.read_csv(dir_+'/1 통계이해/EXH_QC1.csv', engine=\"python\")\n",
    "df.head()"
   ]
  },
  {
   "cell_type": "markdown",
   "metadata": {},
   "source": [
    "## 2-1. 데이터 구성하기\n",
    "### 요약통계량\n",
    "\n",
    "우리의 관심 변수인 초코칩 강도와 굽는 시간만 데이터 개수가 50% 적다.\n",
    "\n",
    "따라서 결측치가 있는 row를 제거하여 사용하기로 결정하였다.\n",
    "\n",
    "또한 향후 모델 생성을 위해 변수명을 바꿔주었다. "
   ]
  },
  {
   "cell_type": "code",
   "execution_count": 6,
   "metadata": {
    "scrolled": true
   },
   "outputs": [],
   "source": [
    "df = df.rename(columns={\"Baking Time\": \"BakingTime\"})"
   ]
  },
  {
   "cell_type": "code",
   "execution_count": 7,
   "metadata": {
    "scrolled": true
   },
   "outputs": [
    {
     "name": "stdout",
     "output_type": "stream",
     "text": [
      "<class 'pandas.core.frame.DataFrame'>\n",
      "RangeIndex: 40 entries, 0 to 39\n",
      "Data columns (total 5 columns):\n",
      " #   Column          Non-Null Count  Dtype  \n",
      "---  ------          --------------  -----  \n",
      " 0   Flaws           40 non-null     object \n",
      " 1   Period          40 non-null     object \n",
      " 2   Strength        20 non-null     float64\n",
      " 3   BakingTime      20 non-null     float64\n",
      " 4   Cabbage weight  40 non-null     float64\n",
      "dtypes: float64(3), object(2)\n",
      "memory usage: 1.7+ KB\n"
     ]
    }
   ],
   "source": [
    "df.info()"
   ]
  },
  {
   "cell_type": "markdown",
   "metadata": {},
   "source": [
    "### 결측치 처리\n",
    "결측치가 있는 row를 제거한 dataframe을 반환하고\n",
    "\n",
    "그 중에서도 우리의 관심 변수인 'Strength','Baking Time' 데이터만을 가져와서\n",
    "\n",
    "회귀 분석에 사용할 데이터 프레임으로 삼는다."
   ]
  },
  {
   "cell_type": "code",
   "execution_count": 8,
   "metadata": {},
   "outputs": [
    {
     "name": "stdout",
     "output_type": "stream",
     "text": [
      "<class 'pandas.core.frame.DataFrame'>\n",
      "Int64Index: 20 entries, 0 to 19\n",
      "Data columns (total 2 columns):\n",
      " #   Column      Non-Null Count  Dtype  \n",
      "---  ------      --------------  -----  \n",
      " 0   Strength    20 non-null     float64\n",
      " 1   BakingTime  20 non-null     float64\n",
      "dtypes: float64(2)\n",
      "memory usage: 480.0 bytes\n"
     ]
    }
   ],
   "source": [
    "df = df.dropna(axis=0)\n",
    "df = df[['Strength','BakingTime']]\n",
    "df.info()"
   ]
  },
  {
   "cell_type": "markdown",
   "metadata": {},
   "source": [
    "## 2-2. 변수 간 경향성 파악\n",
    "### 산점도 분석\n",
    "강도가 35이상인 데이터 포인트들과 강도가 34이하인 데이터 사이의 간극이 존재하여 선형성을 가지는지 직관적으로 파악하기 어렵다."
   ]
  },
  {
   "cell_type": "code",
   "execution_count": 13,
   "metadata": {},
   "outputs": [
    {
     "data": {
      "text/plain": [
       "<AxesSubplot:xlabel='BakingTime', ylabel='Strength'>"
      ]
     },
     "execution_count": 13,
     "metadata": {},
     "output_type": "execute_result"
    },
    {
     "data": {
      "image/png": "[encoded data removed]",
      "text/plain": [
       "<Figure size 432x288 with 1 Axes>"
      ]
     },
     "metadata": {},
     "output_type": "display_data"
    }
   ],
   "source": [
    "sns.scatterplot(data=df, y=\"Strength\", x='BakingTime')"
   ]
  },
  {
   "cell_type": "markdown",
   "metadata": {},
   "source": [
    "### 상관관계 분석\n",
    "해석: 강도와 조리시간과의 상관계수가 0.804로 두 변수 간에는 높은 선형 관계가 있다."
   ]
  },
  {
   "cell_type": "code",
   "execution_count": 21,
   "metadata": {},
   "outputs": [
    {
     "data": {
      "text/html": [
       "<div>\n",
       "<style scoped>\n",
       "    .dataframe tbody tr th:only-of-type {\n",
       "        vertical-align: middle;\n",
       "    }\n",
       "\n",
       "    .dataframe tbody tr th {\n",
       "        vertical-align: top;\n",
       "    }\n",
       "\n",
       "    .dataframe thead th {\n",
       "        text-align: right;\n",
       "    }\n",
       "</style>\n",
       "<table border=\"1\" class=\"dataframe\">\n",
       "  <thead>\n",
       "    <tr style=\"text-align: right;\">\n",
       "      <th></th>\n",
       "      <th>Strength</th>\n",
       "      <th>Baking Time</th>\n",
       "    </tr>\n",
       "  </thead>\n",
       "  <tbody>\n",
       "    <tr>\n",
       "      <th>Strength</th>\n",
       "      <td>1.000</td>\n",
       "      <td>0.804</td>\n",
       "    </tr>\n",
       "    <tr>\n",
       "      <th>Baking Time</th>\n",
       "      <td>0.804</td>\n",
       "      <td>1.000</td>\n",
       "    </tr>\n",
       "  </tbody>\n",
       "</table>\n",
       "</div>"
      ],
      "text/plain": [
       "             Strength  Baking Time\n",
       "Strength        1.000        0.804\n",
       "Baking Time     0.804        1.000"
      ]
     },
     "execution_count": 21,
     "metadata": {},
     "output_type": "execute_result"
    }
   ],
   "source": [
    "df.corr(method='pearson').round(3)"
   ]
  },
  {
   "cell_type": "markdown",
   "metadata": {},
   "source": [
    "## 2-3. 회귀 모델 생성\n",
    "### 해석\n",
    "### 1. 모델의 적합성 확인\n",
    "1.$R^2$을 통한 모델의 설명력 확인:\n",
    "- 0.646으로 초코칩 강도 변동의 약 64%가 조리시간에 의해 설명된다.\n",
    "\n",
    "2.ANOVA 검정을 통한 모델의 적합성 확인: \n",
    "- F-통계량 = 32.9이고 p-value = 1.95e-05로 모델이 적합하다고 볼 수 있다.\n",
    "\n",
    "### 2. 모델의 회귀계수 계산 및 유의성 확인\n",
    "BakingTime 변수의 coef값에 대한 p-value가 0이므로\n",
    "    =>조리시간은 초코칩 강도 변동을 설명하는 변수로서 통계적으로 유의미하다.\n",
    "\n",
    "### 3. 잔차의 기본 가정 확인\n",
    "#### 3-1.잔차의 **정규성** 검정: \n",
    "- Prob(Omnibus): p-value = 0.422으로 유의수준 5%에서 모집단은 정규성을 따른다는 귀무가설을 채택한다.\n",
    "\n",
    "#### 3-2.잔차의 **독립성** 검정: \n",
    "- Durbin-wawtson(독립성) 검정 통계량이 0.765으로 0에 가까우므로 양의 자기상관을 가지는 것으로 해석된다.\n",
    "\n",
    "\n",
    "    "
   ]
  },
  {
   "cell_type": "code",
   "execution_count": 9,
   "metadata": {},
   "outputs": [
    {
     "name": "stdout",
     "output_type": "stream",
     "text": [
      "                            OLS Regression Results                            \n",
      "==============================================================================\n",
      "Dep. Variable:               Strength   R-squared:                       0.646\n",
      "Model:                            OLS   Adj. R-squared:                  0.627\n",
      "Method:                 Least Squares   F-statistic:                     32.90\n",
      "Date:                Wed, 11 Aug 2021   Prob (F-statistic):           1.95e-05\n",
      "Time:                        23:21:10   Log-Likelihood:                -26.431\n",
      "No. Observations:                  20   AIC:                             56.86\n",
      "Df Residuals:                      18   BIC:                             58.85\n",
      "Df Model:                           1                                         \n",
      "Covariance Type:            nonrobust                                         \n",
      "==============================================================================\n",
      "                 coef    std err          t      P>|t|      [0.025      0.975]\n",
      "------------------------------------------------------------------------------\n",
      "Intercept     13.0013      4.184      3.108      0.006       4.212      21.791\n",
      "BakingTime    30.8722      5.383      5.736      0.000      19.564      42.181\n",
      "==============================================================================\n",
      "Omnibus:                        1.724   Durbin-Watson:                   0.765\n",
      "Prob(Omnibus):                  0.422   Jarque-Bera (JB):                1.206\n",
      "Skew:                          -0.589   Prob(JB):                        0.547\n",
      "Kurtosis:                       2.753   Cond. No.                         40.4\n",
      "==============================================================================\n",
      "\n",
      "Notes:\n",
      "[1] Standard Errors assume that the covariance matrix of the errors is correctly specified.\n"
     ]
    }
   ],
   "source": [
    "reg_model = smf.ols('Strength ~ BakingTime', data=df) # ordinary least squares (y ~ x, data=)\n",
    "reg_result = reg_model.fit()\n",
    "print(reg_result.summary())"
   ]
  },
  {
   "cell_type": "markdown",
   "metadata": {},
   "source": [
    "### 3. 잔차의 기본 가정 확인\n",
    "#### 3-2.잔차의 **등분산성** 검정\n",
    "\n",
    "해석:\n",
    "잔차들이 0을 중심으로 각각 **y = 0을 기준으로 랜덤하게 분포**하고 모두 +2, -2 범위에 포함된다.=>등분산성 만족\n",
    "\n",
    "1. 등분산성/독립성 검정 결과, 각각 y = 0을 기준으로 랜덤하게 분포하여 가정을 만족한다.\n",
    "2. 정규성검정 결과, 정규분포 직선을 중심으로 데이터가 분포하고 검정 통계량이 귀무가설을 채택하여 정규분포를 따른다고 할 수 있다."
   ]
  },
  {
   "cell_type": "code",
   "execution_count": 19,
   "metadata": {},
   "outputs": [
    {
     "data": {
      "image/png": "[encoded data removed]",
      "text/plain": [
       "<Figure size 432x288 with 1 Axes>"
      ]
     },
     "metadata": {},
     "output_type": "display_data"
    }
   ],
   "source": [
    "plt.scatter(reg_result.fittedvalues, reg_result.resid)\n",
    "plt.xlabel('예측값')\n",
    "plt.ylabel('residual')\n",
    "plt.axhline(y=0, linestyle = '--', c='r')\n",
    "plt.show()\n",
    "plt.close()"
   ]
  },
  {
   "cell_type": "markdown",
   "metadata": {},
   "source": [
    "### 잔차의 독립성 검정\n",
    "해석:\n",
    "\n",
    "가로축에 따른 증가 or 감소 양상은 보이지 않는다. => 독립성 만족\n",
    "\n",
    "(하지만 데이터 개수가 적기 때문에 cycle 패턴 유무를 확실하게 판단하기 어려웠다.)\n"
   ]
  },
  {
   "cell_type": "code",
   "execution_count": 18,
   "metadata": {},
   "outputs": [
    {
     "data": {
      "text/plain": [
       "<matplotlib.lines.Line2D at 0x7fd79cf86820>"
      ]
     },
     "execution_count": 18,
     "metadata": {},
     "output_type": "execute_result"
    },
    {
     "data": {
      "image/png": "[encoded data removed]",
      "text/plain": [
       "<Figure size 432x288 with 1 Axes>"
      ]
     },
     "metadata": {},
     "output_type": "display_data"
    }
   ],
   "source": [
    "plt.scatter(df['BakingTime'], reg_result.resid, marker='o')\n",
    "plt.xlabel('DATA (BakingTime)')\n",
    "plt.ylabel('residual')\n",
    "plt.axhline(y=0, linestyle = '--', c='r')\n",
    "plt.axhline(y=3*np.std(reg_result.resid), linestyle = '--', c='g')\n",
    "plt.axhline(y= -3*np.std(reg_result.resid), linestyle = '--', c='g')\n"
   ]
  },
  {
   "cell_type": "markdown",
   "metadata": {},
   "source": [
    "### 잔차의 정규성 검정\n",
    "해석: \n",
    "\n",
    "1. qqplot에서 데이터 포인트가 정규분포 직선 중심으로 분포한다. =>정규성을 만족한다.\n",
    "2. omni 정규성 검정의 p-value=0.422으로 귀무가설을 채택 =>정규성을 만족한다."
   ]
  },
  {
   "cell_type": "code",
   "execution_count": 21,
   "metadata": {
    "scrolled": true
   },
   "outputs": [
    {
     "data": {
      "image/png": "[encoded data removed]",
      "text/plain": [
       "<Figure size 432x288 with 1 Axes>"
      ]
     },
     "execution_count": 21,
     "metadata": {},
     "output_type": "execute_result"
    },
    {
     "data": {
      "image/png": "[encoded data removed]",
      "text/plain": [
       "<Figure size 432x288 with 1 Axes>"
      ]
     },
     "metadata": {},
     "output_type": "display_data"
    }
   ],
   "source": [
    "qqplot(reg_result.resid, line='q')"
   ]
  },
  {
   "cell_type": "code",
   "execution_count": 22,
   "metadata": {},
   "outputs": [
    {
     "data": {
      "text/plain": [
       "NormaltestResult(statistic=1.723828550857243, pvalue=0.422352808374984)"
      ]
     },
     "execution_count": 22,
     "metadata": {},
     "output_type": "execute_result"
    }
   ],
   "source": [
    "from statsmodels.stats.stattools import omni_normtest\n",
    "omni_normtest(reg_result.resid, axis = 0)"
   ]
  },
  {
   "cell_type": "markdown",
   "metadata": {},
   "source": [
    "## 2-4. 결론 도출\n",
    "\n",
    "1. 회귀 모델 잔차 검정의 3가지 결과를 만족하므로 회귀 모델이 적합하다고 해석된다.\n",
    "\n",
    "2. 회귀식\n",
    "    - $초코칩의 강도 = 13.0013 + 30.8722*조리시간$\n",
    "\n",
    "3. 회귀식 해석\n",
    "    - 조리시간이 1단위 증가할 때마다 초코칩의 강도가 약 31증가한다."
   ]
  },
  {
   "cell_type": "code",
   "execution_count": null,
   "metadata": {},
   "outputs": [],
   "source": []
  }
 ],
 "metadata": {
  "kernelspec": {
   "display_name": "Python 3",
   "language": "python",
   "name": "python3"
  },
  "language_info": {
   "codemirror_mode": {
    "name": "ipython",
    "version": 3
   },
   "file_extension": ".py",
   "mimetype": "text/x-python",
   "name": "python",
   "nbconvert_exporter": "python",
   "pygments_lexer": "ipython3",
   "version": "3.8.5"
  }
 },
 "nbformat": 4,
 "nbformat_minor": 4
}
