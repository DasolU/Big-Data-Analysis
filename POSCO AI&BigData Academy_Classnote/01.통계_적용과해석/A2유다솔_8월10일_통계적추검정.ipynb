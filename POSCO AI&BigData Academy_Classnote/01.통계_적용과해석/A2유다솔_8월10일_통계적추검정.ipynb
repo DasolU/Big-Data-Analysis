{
 "cells": [
  {
   "cell_type": "code",
   "execution_count": 2,
   "metadata": {},
   "outputs": [],
   "source": [
    "import pandas as pd\n",
    "import numpy as np\n",
    "import matplotlib.pyplot as plt\n",
    "import scipy.stats\n",
    "import statsmodels.api as sm\n",
    "from scipy import stats\n",
    "import seaborn as sns\n",
    "from statsmodels.stats.proportion import proportions_ztest\n",
    "import os\n",
    "import matplotlib\n",
    "%matplotlib inline\n",
    "sns.set(font=\"AppleGothic\")\n",
    "plt.rcParams['axes.unicode_minus']=False"
   ]
  },
  {
   "cell_type": "code",
   "execution_count": 3,
   "metadata": {},
   "outputs": [
    {
     "data": {
      "text/html": [
       "<div>\n",
       "<style scoped>\n",
       "    .dataframe tbody tr th:only-of-type {\n",
       "        vertical-align: middle;\n",
       "    }\n",
       "\n",
       "    .dataframe tbody tr th {\n",
       "        vertical-align: top;\n",
       "    }\n",
       "\n",
       "    .dataframe thead th {\n",
       "        text-align: right;\n",
       "    }\n",
       "</style>\n",
       "<table border=\"1\" class=\"dataframe\">\n",
       "  <thead>\n",
       "    <tr style=\"text-align: right;\">\n",
       "      <th></th>\n",
       "      <th>Mat_A</th>\n",
       "      <th>Mat_B</th>\n",
       "      <th>Total</th>\n",
       "      <th>Sub</th>\n",
       "    </tr>\n",
       "  </thead>\n",
       "  <tbody>\n",
       "    <tr>\n",
       "      <th>0</th>\n",
       "      <td>73.4</td>\n",
       "      <td>68.7</td>\n",
       "      <td>73.4</td>\n",
       "      <td>1</td>\n",
       "    </tr>\n",
       "    <tr>\n",
       "      <th>1</th>\n",
       "      <td>77.0</td>\n",
       "      <td>71.4</td>\n",
       "      <td>77.0</td>\n",
       "      <td>1</td>\n",
       "    </tr>\n",
       "    <tr>\n",
       "      <th>2</th>\n",
       "      <td>73.7</td>\n",
       "      <td>69.8</td>\n",
       "      <td>73.7</td>\n",
       "      <td>1</td>\n",
       "    </tr>\n",
       "    <tr>\n",
       "      <th>3</th>\n",
       "      <td>73.3</td>\n",
       "      <td>75.3</td>\n",
       "      <td>73.3</td>\n",
       "      <td>1</td>\n",
       "    </tr>\n",
       "    <tr>\n",
       "      <th>4</th>\n",
       "      <td>73.1</td>\n",
       "      <td>71.3</td>\n",
       "      <td>73.1</td>\n",
       "      <td>1</td>\n",
       "    </tr>\n",
       "  </tbody>\n",
       "</table>\n",
       "</div>"
      ],
      "text/plain": [
       "   Mat_A  Mat_B  Total  Sub\n",
       "0   73.4   68.7   73.4    1\n",
       "1   77.0   71.4   77.0    1\n",
       "2   73.7   69.8   73.7    1\n",
       "3   73.3   75.3   73.3    1\n",
       "4   73.1   71.3   73.1    1"
      ]
     },
     "execution_count": 3,
     "metadata": {},
     "output_type": "execute_result"
    }
   ],
   "source": [
    "dir_ = '/Users/dasol/Documents/GitHub/Big-Data-Analysis/POSCO_classnote'\n",
    "df = pd.read_csv(dir_+'/1 통계이해/2sample_t_test.csv', engine=\"python\")\n",
    "df.head()"
   ]
  },
  {
   "cell_type": "markdown",
   "metadata": {},
   "source": [
    "# 1. [실습] 정규성 검정 (normality test)"
   ]
  },
  {
   "cell_type": "markdown",
   "metadata": {},
   "source": [
    "### 1-1.결측치 여부 파악\n",
    "Mat_A, Mat_B 데이터 개수는 10개\n",
    "\n",
    "Total 데이터 개수는 20개로 \n",
    "\n",
    "Mat_A, Mat_B에 결측치가 존재하는 것을 확인할 수 있다."
   ]
  },
  {
   "cell_type": "code",
   "execution_count": 4,
   "metadata": {},
   "outputs": [
    {
     "name": "stdout",
     "output_type": "stream",
     "text": [
      "<class 'pandas.core.frame.DataFrame'>\n",
      "RangeIndex: 20 entries, 0 to 19\n",
      "Data columns (total 4 columns):\n",
      " #   Column  Non-Null Count  Dtype  \n",
      "---  ------  --------------  -----  \n",
      " 0   Mat_A   10 non-null     float64\n",
      " 1   Mat_B   10 non-null     float64\n",
      " 2   Total   20 non-null     float64\n",
      " 3   Sub     20 non-null     int64  \n",
      "dtypes: float64(3), int64(1)\n",
      "memory usage: 768.0 bytes\n"
     ]
    }
   ],
   "source": [
    "df.info()"
   ]
  },
  {
   "cell_type": "markdown",
   "metadata": {},
   "source": [
    "### 1-2.결측치 제거"
   ]
  },
  {
   "cell_type": "code",
   "execution_count": null,
   "metadata": {},
   "outputs": [],
   "source": [
    "df_clean = df.dropna(axis=0)\n",
    "df_clean"
   ]
  },
  {
   "cell_type": "markdown",
   "metadata": {},
   "source": [
    "### 1-3. 정규성 검정\n",
    "### 해석\n",
    "\n",
    "0. 가설 설정\n",
    "H0(귀무가설): 정규분포를 따른다.\n",
    "H1(대립가설): 정규분포를 따르지 않는다.\n",
    "\n",
    "1. Mat_A\n",
    "\n",
    "   - p-value(0.256) > $\\alpha$(0.05) => H0 채택 => Mat_A은 정규 분포를 따른다.\n",
    "\n",
    "\n",
    "2. Mat_B\n",
    "\n",
    "   - p-value(0.917) > $\\alpha$(0.05) => H0 채택 => Mat_B은 정규 분포를 따른다."
   ]
  },
  {
   "cell_type": "code",
   "execution_count": 20,
   "metadata": {},
   "outputs": [
    {
     "name": "stdout",
     "output_type": "stream",
     "text": [
      "Mat_A의 Shapiro-wilk test: statistic=0.9062636494636536, p-value=0.2562994360923767\n",
      "Mat_B의 Shapiro-wilk test: statistic=0.9729753732681274, p-value=0.9169777035713196\n"
     ]
    }
   ],
   "source": [
    "from scipy.stats import shapiro\n",
    "\n",
    "feature = ['Mat_A', 'Mat_B']\n",
    "for f in feature:\n",
    "    data= df_clean[f]\n",
    "    statistic, p = stats.shapiro(data)\n",
    "    print(\"{}의 Shapiro-wilk test: statistic={}, p-value={}\".format(f,statistic, p))\n",
    "    # 해석: p-value>0.05 => Supp1에 대해서는 정규 분포를 따르고 있다."
   ]
  },
  {
   "cell_type": "markdown",
   "metadata": {},
   "source": [
    "### 1-4. 추가 실험: 시각화를 통한 정규성 확인\n",
    "데이터 개수가 적어서 시각화를 통해 정규성 확인이 어려웠습니다."
   ]
  },
  {
   "cell_type": "code",
   "execution_count": 11,
   "metadata": {},
   "outputs": [
    {
     "data": {
      "image/png": "[encoded data removed]",
      "text/plain": [
       "<Figure size 432x288 with 1 Axes>"
      ]
     },
     "metadata": {},
     "output_type": "display_data"
    }
   ],
   "source": [
    "data= df['Mat_A']\n",
    "plt.hist(data)\n",
    "plt.title('Mat_A')\n",
    "plt.show()"
   ]
  },
  {
   "cell_type": "code",
   "execution_count": 12,
   "metadata": {},
   "outputs": [
    {
     "data": {
      "image/png": "[encoded data removed]",
      "text/plain": [
       "<Figure size 432x288 with 1 Axes>"
      ]
     },
     "metadata": {},
     "output_type": "display_data"
    }
   ],
   "source": [
    "data= df['Mat_B']\n",
    "plt.hist(data)\n",
    "plt.title('Mat_B')\n",
    "plt.show()"
   ]
  },
  {
   "cell_type": "markdown",
   "metadata": {},
   "source": [
    "# 2. [실습] 모평균 추정(모표준편차 아는 경우)~ Z (데이터 수 30개 이상)\n",
    "### 해석\n",
    "감자 무게의 모평균이 (17.83, 21.17) 구간에 있을 확률은 95%이다."
   ]
  },
  {
   "cell_type": "code",
   "execution_count": 22,
   "metadata": {
    "scrolled": true
   },
   "outputs": [
    {
     "name": "stdout",
     "output_type": "stream",
     "text": [
      "Shapiro-wilk test: statistic=0.955651044845581, p-value=0.46101993322372437\n",
      "95% 신뢰구간: ([17.83], [21.17])\n"
     ]
    }
   ],
   "source": [
    "data = [18, 18, 20, 21, 20, 23, 19, 18, 17, 21, 22, 20, 20, 21, 20, 19, 19, 18, 17, 19]\n",
    "df = pd.DataFrame({'sample': data})\n",
    "\n",
    "# 1.정규성 검증\n",
    "# 해석: p-value 크다.=>정규분포를 따르고 있다.\n",
    "statistic, p = stats.shapiro(df)\n",
    "print(\"Shapiro-wilk test: statistic={}, p-value={}\".format(statistic, p))\n",
    "\n",
    "# 정규분포 구간 추정 함수 실행\n",
    "lower, upper = stats.norm.interval(0.95, loc=np.mean(df), scale = 3.8/np.sqrt(20))\n",
    "print(\"95% 신뢰구간: ({0}, {1})\".format(lower.round(2), upper.round(2)))"
   ]
  },
  {
   "cell_type": "markdown",
   "metadata": {},
   "source": [
    "# 3. [실습] 모평균 추정(모표준편차 모르는 경우, 대부분) ~  t\n",
    "### 해석\n",
    "인장강도 무게의 모평균이 (70.6, 72.4) 구간에 있을 확률은 95%이다."
   ]
  },
  {
   "cell_type": "code",
   "execution_count": 26,
   "metadata": {
    "scrolled": true
   },
   "outputs": [
    {
     "name": "stdout",
     "output_type": "stream",
     "text": [
      "표본평균 71.5\n",
      "표본표준편차 1.9330913339165219\n",
      "95% 신뢰구간: ([70.6], [72.4])\n"
     ]
    }
   ],
   "source": [
    "data = [73, 71, 74, 69, 70, 73, 70, 68, 75, 72,\n",
    "        70, 72, 73, 70, 70, 72, 71, 70, 75, 72]\n",
    "df = pd.DataFrame({'strength': data})\n",
    "\n",
    "print('표본평균', df['strength'].mean())\n",
    "print('표본표준편차', df['strength'].std(ddof=1))\n",
    "\n",
    "# t 분포 구간 추정 함수 실행 (loc: 평균의 값, scale: 변동 정도)\n",
    "lower, upper = stats.t.interval(0.95, len(df)-1, loc=np.mean(df), scale = stats.sem(df)) # standard error of mean\n",
    "print(\"95% 신뢰구간: ({0}, {1})\".format(lower.round(2), upper.round(2)))"
   ]
  },
  {
   "cell_type": "markdown",
   "metadata": {},
   "source": [
    "# 4. [실습] 모분산 신뢰구간 추정\n",
    "### 해석\n",
    "통화대기시간의 모분산이 (24.6, 11.1) 구간에 있을 확률은 95%이다."
   ]
  },
  {
   "cell_type": "code",
   "execution_count": 34,
   "metadata": {},
   "outputs": [
    {
     "name": "stdout",
     "output_type": "stream",
     "text": [
      "통화대기 시간 표본표준편차 3.984\n"
     ]
    }
   ],
   "source": [
    "data = [12,9,10,5,16,\n",
    "        13,5,9,8,13,\n",
    "        16,12,12,4,14,\n",
    "        9,11,14,9,17,\n",
    "        5,8,9,6,11,\n",
    "        19,6,6,8,9,\n",
    "        13,10,8,13,19,\n",
    "        8,12,14,16,16,\n",
    "        11,17,5,9,12,\n",
    "        17,11,8,5,8]\n",
    "\n",
    "df = pd.DataFrame({'wait': data})\n",
    "print('통화대기 시간 표본표준편차', np.array(df['wait'].std(ddof=1)).round(3))"
   ]
  },
  {
   "cell_type": "code",
   "execution_count": 44,
   "metadata": {},
   "outputs": [
    {
     "name": "stdout",
     "output_type": "stream",
     "text": [
      "모분산의 95% 신뢰구간: (24.64714130882586, 11.075454188146166)\n"
     ]
    }
   ],
   "source": [
    "# 모분산 신뢰구간 계산\n",
    "n = 50\n",
    "s = 3.984\n",
    "chi2_up = 70.222 \n",
    "chi2_down = 31.555\n",
    "upperlimit = (n-1)*(s**2)/chi2_up\n",
    "lowerlimit = (n-1)*(s**2)/chi2_down\n",
    "\n",
    "print('모분산의 95% 신뢰구간: ({}, {})'.format(lowerlimit,upperlimit))"
   ]
  },
  {
   "cell_type": "markdown",
   "metadata": {},
   "source": [
    "# 5. [실습] 모비율 신뢰구간 추정\n",
    "### 해석\n",
    "통화관리 성공율에 대한 95% 신뢰구간 (0.058, 0.262) 이다."
   ]
  },
  {
   "cell_type": "code",
   "execution_count": 48,
   "metadata": {},
   "outputs": [
    {
     "name": "stdout",
     "output_type": "stream",
     "text": [
      "p_hat:  0.16\n",
      "모비율의 95% 신뢰구간: (0.05838198584896476, 0.26161801415103525)\n"
     ]
    }
   ],
   "source": [
    "# 모비율 신뢰구간 계산\n",
    "p_hat = 8/50\n",
    "q_hat = 1-p_hat\n",
    "print('p_hat: ',p_hat)\n",
    "n = 50\n",
    "z = 1.96\n",
    "\n",
    "upperlimit = p_hat + z*np.sqrt(p_hat*q_hat/n)\n",
    "lowerlimit = p_hat - z*np.sqrt(p_hat*q_hat/n)\n",
    "\n",
    "print('모비율의 95% 신뢰구간: ({}, {})'.format(lowerlimit,upperlimit))"
   ]
  },
  {
   "cell_type": "markdown",
   "metadata": {},
   "source": [
    "# 6. [실습] 평균검정\n",
    "### 해석\n",
    "유의수준 5%에서 검정 결과 P값이 0.008으로 개선활동이 고객만족도 변화를 시켰다고 해석된다."
   ]
  },
  {
   "cell_type": "code",
   "execution_count": 49,
   "metadata": {},
   "outputs": [
    {
     "name": "stdout",
     "output_type": "stream",
     "text": [
      "t 검정 통계량: [3.379]\n",
      "p-value: [0.008]\n"
     ]
    }
   ],
   "source": [
    "data = [85, 79, 79.1, 79.9, 81.6, 78.6, 85.4, 83.4, 78.1, 79.2]\n",
    "df = pd.DataFrame({'satisfac': data})\n",
    "\n",
    "# 1-sample t-test\n",
    "t_result = stats.ttest_1samp(df, 78)\n",
    "\n",
    "t, p = t_result.statistic.round(3), t_result.pvalue.round(3)\n",
    "print('t 검정 통계량: {}'.format(t))\n",
    "print('p-value: {}'.format(p))"
   ]
  }
 ],
 "metadata": {
  "kernelspec": {
   "display_name": "Python 3",
   "language": "python",
   "name": "python3"
  },
  "language_info": {
   "codemirror_mode": {
    "name": "ipython",
    "version": 3
   },
   "file_extension": ".py",
   "mimetype": "text/x-python",
   "name": "python",
   "nbconvert_exporter": "python",
   "pygments_lexer": "ipython3",
   "version": "3.8.5"
  }
 },
 "nbformat": 4,
 "nbformat_minor": 4
}
