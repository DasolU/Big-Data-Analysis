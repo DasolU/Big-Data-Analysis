{
 "cells": [
  {
   "cell_type": "markdown",
   "metadata": {},
   "source": [
    "# 개념\n",
    "- 확률: 사건이 발생할 가능성\n",
    "\n",
    "- 포본공간: 실험 결과 발생 가능한 모든 결과의 집합\n",
    "- 확률변수: 표본공간상 모든 가능한 결과에 특정 수치를 부여하는 것\n",
    "\n",
    "- 확률함수: 확률변수에 대해 정의된 실수를 0과 1 사이의 실수(확률)에 대응시키는 함수\n",
    "    - PMF 이산확률함수 (probabilty mass function) \n",
    "    - PDF 연속확률함수 (probabilty density function) )\n",
    "\n",
    "- 누적확률함수: CDF (cumulative PDF)\n",
    "\n",
    "- 확률분포: 확률 변수 값과 그 값이 발생활 확률 값을 도수분포표나 그래프로 나타낸 것\n"
   ]
  },
  {
   "cell_type": "code",
   "execution_count": 1,
   "metadata": {},
   "outputs": [],
   "source": [
    "import pandas as pd\n",
    "import numpy as np\n",
    "import matplotlib.pyplot as plt\n",
    "import scipy.stats\n",
    "import statsmodels.api as sm\n",
    "from scipy import stats\n",
    "import seaborn as sns\n",
    "from statsmodels.stats.proportion import proportions_ztest\n",
    "import os\n",
    "import matplotlib\n",
    "%matplotlib inline\n",
    "matplotlib.rc('font', family='Maigun Gothic')\n",
    "plt.rc('font', family='Maigun Gothic')\n",
    "plt.rcParams['axes.unicode_minus']=False"
   ]
  },
  {
   "cell_type": "markdown",
   "metadata": {},
   "source": [
    "# 정규분포"
   ]
  },
  {
   "cell_type": "code",
   "execution_count": 17,
   "metadata": {},
   "outputs": [
    {
     "name": "stdout",
     "output_type": "stream",
     "text": [
      "0.8413447460685429\n",
      "135분 이상 걸리는 A/S 작업 비율: 15.9%\n"
     ]
    }
   ],
   "source": [
    "mu = 115\n",
    "sigma = 20\n",
    "x = 135\n",
    "\n",
    "# x(135)까지 누적 확률 값: CDF\n",
    "prob=stats.norm.cdf(x,mu,sigma)\n",
    "print(prob)\n",
    "\n",
    "# 1. 135분 이상의 누적확률값 계산\n",
    "## 100명 중 16명이 불만있는 공장=> 매우 좋지 않다.\n",
    "print('{0}분 이상 걸리는 A/S 작업 비율: {1:.1f}%'.format(x, (1-prob)*100))"
   ]
  },
  {
   "cell_type": "markdown",
   "metadata": {},
   "source": [
    "# Z 변환\n",
    "z로 변환하면 평균이 0이고 표준편차가 1인 표준정규분포가 된다.\n",
    "표준정규분포표는 면적을 적분해놓은 표이다.\n",
    "x,y축은 소수점 개수의 차이이다."
   ]
  },
  {
   "cell_type": "code",
   "execution_count": 16,
   "metadata": {},
   "outputs": [
    {
     "name": "stdout",
     "output_type": "stream",
     "text": [
      "0.8413447460685429\n",
      "12km이상 15km이하 달릴 확률: 34.1%\n"
     ]
    }
   ],
   "source": [
    "# 정규분포\n",
    "mu = 12\n",
    "sigma = 3\n",
    "x = 15\n",
    "\n",
    "# x(135)까지 누적 확률 값: CDF\n",
    "prob=stats.norm.cdf(x,mu,sigma)\n",
    "print(prob)\n",
    "\n",
    "# 15이하의 누적확률값 계산\n",
    "print('{0}km이상 {1}km이하 달릴 확률: {2:.1f}%'.format(mu, x, (prob-0.5)*100)\n",
    "     )"
   ]
  },
  {
   "cell_type": "markdown",
   "metadata": {},
   "source": [
    "# t 분포"
   ]
  },
  {
   "cell_type": "code",
   "execution_count": 20,
   "metadata": {},
   "outputs": [
    {
     "name": "stdout",
     "output_type": "stream",
     "text": [
      "t 분포 누적확률 계산: 0.907\n"
     ]
    }
   ],
   "source": [
    "df=5\n",
    "t = 1.53\n",
    "\n",
    "# 누적 확률 값: CDF\n",
    "prob=stats.t.cdf(t, df)\n",
    "\n",
    "# 누적확률값 계산\n",
    "print('t 분포 누적확률 계산: {:.3f}'.format(prob))    "
   ]
  },
  {
   "cell_type": "markdown",
   "metadata": {},
   "source": [
    "# 카이제곱 분포 ($\\chi{2}$)"
   ]
  },
  {
   "cell_type": "code",
   "execution_count": 23,
   "metadata": {},
   "outputs": [
    {
     "name": "stdout",
     "output_type": "stream",
     "text": [
      "P(x<=F) = 0.904\n"
     ]
    }
   ],
   "source": []
  },
  {
   "cell_type": "markdown",
   "metadata": {},
   "source": [
    "# F 분포"
   ]
  },
  {
   "cell_type": "code",
   "execution_count": 24,
   "metadata": {},
   "outputs": [
    {
     "name": "stdout",
     "output_type": "stream",
     "text": [
      "P(x<=F) = 0.904\n"
     ]
    }
   ],
   "source": [
    "f = 2.0\n",
    "df_num = 15\n",
    "df_den = 15\n",
    "\n",
    "prob=stats.f.cdf(f, df_num, df_den)\n",
    "print(\"P(x<=F) = {:.3f}\".format(prob))"
   ]
  },
  {
   "cell_type": "markdown",
   "metadata": {},
   "source": [
    "# 와이블 분포"
   ]
  },
  {
   "cell_type": "code",
   "execution_count": 26,
   "metadata": {
    "scrolled": true
   },
   "outputs": [
    {
     "name": "stdout",
     "output_type": "stream",
     "text": [
      "P(x>=F) = 0.195\n"
     ]
    }
   ],
   "source": [
    "x = 1500\n",
    "alpha = 2.2\n",
    "beta = 1200\n",
    "\n",
    "prob=stats.weibull_min.cdf(x, alpha, scale=beta)\n",
    "print(\"P(x>=F) = {:.3f}\".format(1-prob))\n",
    "# 해석: 1500시간 이상 작동할 확률이 19.5% 이다."
   ]
  },
  {
   "cell_type": "markdown",
   "metadata": {},
   "source": [
    "# 이항분포 (binomial distribution)\n",
    "베르누이 실행을 여러 번 시행해서 특정 횟수의 성공/실패 나타날 확률\n",
    "\n",
    "## 베르누이 실행\n",
    "표본 공간이 단지 두 \n"
   ]
  },
  {
   "cell_type": "code",
   "execution_count": 31,
   "metadata": {},
   "outputs": [
    {
     "name": "stdout",
     "output_type": "stream",
     "text": [
      "P(x=0) = 0.216\n",
      "P(x=1) = 0.432\n",
      "P(x=2) = 0.288\n",
      "P(x=3) = 0.064\n"
     ]
    }
   ],
   "source": [
    "n = 3 # 차량 수\n",
    "p = 0.4 # 공정 불량 확률\n",
    "\n",
    "for i in range(n+1):\n",
    "    prob=stats.binom.pmf(k=i, n=n, p=p)\n",
    "    print(\"P(x={}) = {:.3f}\".format(i,prob))"
   ]
  },
  {
   "cell_type": "code",
   "execution_count": 33,
   "metadata": {},
   "outputs": [
    {
     "name": "stdout",
     "output_type": "stream",
     "text": [
      "P(x>=2) = 0.936\n"
     ]
    }
   ],
   "source": [
    "n = 3 # 차량 수\n",
    "p = 0.4 # 공정 불량 확률\n",
    "\n",
    "# 2대 이하 나올 누적 확률\n",
    "prob=stats.binom.cdf(2, n=n, p=p)\n",
    "print(\"P(x>={}) = {:.3f}\".format(2,prob))"
   ]
  },
  {
   "cell_type": "markdown",
   "metadata": {},
   "source": [
    "# 포아송 분포\n",
    "일정 시간/공간 단위에서 발생하는 성공 횟수에 대한 이산확률분포"
   ]
  },
  {
   "cell_type": "code",
   "execution_count": 38,
   "metadata": {},
   "outputs": [
    {
     "name": "stdout",
     "output_type": "stream",
     "text": [
      "1분당 3번의 전화가 걸려올 확률: 18.0%\n",
      "1분당 2번 이하의 전화가 걸려올 확률: 67.7%\n"
     ]
    }
   ],
   "source": [
    "# 1분당 2번의 전화가 걸려올 확률\n",
    "mu = 2\n",
    "\n",
    "# 1분당 3번의 전화가 걸려올 확률\n",
    "prob = stats.poisson.pmf(3,mu)\n",
    "\n",
    "# 1분당 최대 2회 이하 전화가 걸려올 확률\n",
    "cdf_prob = stats.poisson.cdf(2,mu)\n",
    "\n",
    "print(\"1분당 {0}번의 전화가 걸려올 확률: {1:.1f}%\".format(3,prob*100))\n",
    "print(\"1분당 {0}번 이하의 전화가 걸려올 확률: {1:.1f}%\".format(2,cdf_prob*100))"
   ]
  },
  {
   "cell_type": "markdown",
   "metadata": {},
   "source": [
    "## 1. [실습] 정규분포의 확률계산"
   ]
  },
  {
   "cell_type": "code",
   "execution_count": null,
   "metadata": {},
   "outputs": [],
   "source": []
  },
  {
   "cell_type": "code",
   "execution_count": null,
   "metadata": {},
   "outputs": [],
   "source": []
  }
 ],
 "metadata": {
  "kernelspec": {
   "display_name": "Python 3",
   "language": "python",
   "name": "python3"
  },
  "language_info": {
   "codemirror_mode": {
    "name": "ipython",
    "version": 3
   },
   "file_extension": ".py",
   "mimetype": "text/x-python",
   "name": "python",
   "nbconvert_exporter": "python",
   "pygments_lexer": "ipython3",
   "version": "3.8.5"
  }
 },
 "nbformat": 4,
 "nbformat_minor": 4
}
