{
 "cells": [
  {
   "cell_type": "markdown",
   "metadata": {},
   "source": [
    "# 통계량은 어떤 분포를 따를까?\n",
    "## 표본추출(Sampling)\n",
    "- 유형\n",
    "    - 랜덤 샘플링\n",
    "    - 층별화된 랜덤 샘플링\n",
    "    - 계통적 샘플링: 매 n번째 찾기\n",
    "- 사용처\n",
    "    train, validation, test set 추출할 때.\n",
    "    \n",
    "## 통계량의 확률분포\n",
    "1. 표본 평균\n",
    "    - 정규분포\n",
    "    - t-분포\n",
    "2. 표본 분산\n",
    "    - $\\chi{2}$분포\n",
    "    - F-분포\n",
    "3. 표본 비율\n",
    "    - 이항 분포"
   ]
  },
  {
   "cell_type": "markdown",
   "metadata": {},
   "source": [
    "## 1. 표본 평균 => 정규분포\n",
    "### 중심극한정리 (Central Limit Theorem)\n",
    "모집단의 분포 종류에 상관없이 \n",
    "크기 n인 확률표본을 취했을 때,\n",
    "표본 평균의 분포는\n",
    "(n>=30)일 때, 정규분포를 따른다."
   ]
  },
  {
   "cell_type": "code",
   "execution_count": null,
   "metadata": {},
   "outputs": [],
   "source": []
  }
 ],
 "metadata": {
  "kernelspec": {
   "display_name": "Python 3",
   "language": "python",
   "name": "python3"
  },
  "language_info": {
   "codemirror_mode": {
    "name": "ipython",
    "version": 3
   },
   "file_extension": ".py",
   "mimetype": "text/x-python",
   "name": "python",
   "nbconvert_exporter": "python",
   "pygments_lexer": "ipython3",
   "version": "3.8.5"
  }
 },
 "nbformat": 4,
 "nbformat_minor": 4
}
