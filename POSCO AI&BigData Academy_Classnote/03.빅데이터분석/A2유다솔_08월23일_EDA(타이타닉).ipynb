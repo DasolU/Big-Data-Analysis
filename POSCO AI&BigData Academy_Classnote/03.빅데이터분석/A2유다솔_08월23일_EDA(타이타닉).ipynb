{
 "cells": [
  {
   "cell_type": "code",
   "execution_count": 1,
   "metadata": {},
   "outputs": [],
   "source": [
    "import pandas as pd\n",
    "import numpy as np\n",
    "import os\n",
    "import matplotlib\n",
    "import matplotlib.pyplot as plt\n",
    "import seaborn as sns\n",
    "\n",
    "import scipy.stats\n",
    "from scipy import stats\n",
    "from scipy.stats import ttest_rel\n",
    "from scipy.stats import ttest_ind\n",
    "from scipy.stats import shapiro\n",
    "from scipy.stats import chi2_contingency\n",
    "from scipy.stats import mannwhitneyu\n",
    "\n",
    "from statsmodels.stats.proportion import proportions_ztest\n",
    "from statsmodels.stats.anova import anova_lm\n",
    "from statsmodels.stats.stattools import omni_normtest\n",
    "\n",
    "from statsmodels.formula.api import ols\n",
    "import statsmodels.formula.api as smf\n",
    "import statsmodels.api as sm\n",
    "from statsmodels.api import qqplot, add_constant\n",
    "\n",
    "from sklearn.preprocessing import scale, minmax_scale, robust_scale\n",
    "\n",
    "%matplotlib inline\n",
    "sns.set(font=\"AppleGothic\")\n",
    "plt.rcParams['axes.unicode_minus']=False"
   ]
  },
  {
   "cell_type": "markdown",
   "metadata": {},
   "source": [
    "# 1. 데이터 속성 및 기술통계량 확인 "
   ]
  },
  {
   "cell_type": "code",
   "execution_count": 10,
   "metadata": {},
   "outputs": [
    {
     "data": {
      "text/html": [
       "<div>\n",
       "<style scoped>\n",
       "    .dataframe tbody tr th:only-of-type {\n",
       "        vertical-align: middle;\n",
       "    }\n",
       "\n",
       "    .dataframe tbody tr th {\n",
       "        vertical-align: top;\n",
       "    }\n",
       "\n",
       "    .dataframe thead th {\n",
       "        text-align: right;\n",
       "    }\n",
       "</style>\n",
       "<table border=\"1\" class=\"dataframe\">\n",
       "  <thead>\n",
       "    <tr style=\"text-align: right;\">\n",
       "      <th></th>\n",
       "      <th>PassengerId</th>\n",
       "      <th>Survived</th>\n",
       "      <th>Pclass</th>\n",
       "      <th>Name</th>\n",
       "      <th>Sex</th>\n",
       "      <th>Age</th>\n",
       "      <th>SibSp</th>\n",
       "      <th>Parch</th>\n",
       "      <th>Ticket</th>\n",
       "      <th>Fare</th>\n",
       "      <th>Cabin</th>\n",
       "      <th>Embarked</th>\n",
       "    </tr>\n",
       "  </thead>\n",
       "  <tbody>\n",
       "    <tr>\n",
       "      <th>0</th>\n",
       "      <td>1</td>\n",
       "      <td>0</td>\n",
       "      <td>3</td>\n",
       "      <td>Braund, Mr. Owen Harris</td>\n",
       "      <td>male</td>\n",
       "      <td>22.0</td>\n",
       "      <td>1</td>\n",
       "      <td>0</td>\n",
       "      <td>A/5 21171</td>\n",
       "      <td>7.2500</td>\n",
       "      <td>NaN</td>\n",
       "      <td>S</td>\n",
       "    </tr>\n",
       "    <tr>\n",
       "      <th>1</th>\n",
       "      <td>2</td>\n",
       "      <td>1</td>\n",
       "      <td>1</td>\n",
       "      <td>Cumings, Mrs. John Bradley (Florence Briggs Th...</td>\n",
       "      <td>female</td>\n",
       "      <td>38.0</td>\n",
       "      <td>1</td>\n",
       "      <td>0</td>\n",
       "      <td>PC 17599</td>\n",
       "      <td>71.2833</td>\n",
       "      <td>C85</td>\n",
       "      <td>C</td>\n",
       "    </tr>\n",
       "    <tr>\n",
       "      <th>2</th>\n",
       "      <td>3</td>\n",
       "      <td>1</td>\n",
       "      <td>3</td>\n",
       "      <td>Heikkinen, Miss. Laina</td>\n",
       "      <td>female</td>\n",
       "      <td>26.0</td>\n",
       "      <td>0</td>\n",
       "      <td>0</td>\n",
       "      <td>STON/O2. 3101282</td>\n",
       "      <td>7.9250</td>\n",
       "      <td>NaN</td>\n",
       "      <td>S</td>\n",
       "    </tr>\n",
       "  </tbody>\n",
       "</table>\n",
       "</div>"
      ],
      "text/plain": [
       "   PassengerId  Survived  Pclass  \\\n",
       "0            1         0       3   \n",
       "1            2         1       1   \n",
       "2            3         1       3   \n",
       "\n",
       "                                                Name     Sex   Age  SibSp  \\\n",
       "0                            Braund, Mr. Owen Harris    male  22.0      1   \n",
       "1  Cumings, Mrs. John Bradley (Florence Briggs Th...  female  38.0      1   \n",
       "2                             Heikkinen, Miss. Laina  female  26.0      0   \n",
       "\n",
       "   Parch            Ticket     Fare Cabin Embarked  \n",
       "0      0         A/5 21171   7.2500   NaN        S  \n",
       "1      0          PC 17599  71.2833   C85        C  \n",
       "2      0  STON/O2. 3101282   7.9250   NaN        S  "
      ]
     },
     "execution_count": 10,
     "metadata": {},
     "output_type": "execute_result"
    }
   ],
   "source": [
    "df = pd.read_csv('titanic.csv', engine='python', encoding='cp949')\n",
    "df.head(n=3)"
   ]
  },
  {
   "cell_type": "markdown",
   "metadata": {},
   "source": [
    "# 1-1. 데이터 속성: 범주형 변수와 연속형 변수 확인\n",
    "Name, Sex, Ticket은 범주형 변수이다.\n",
    "추가적으로 Pclass, SibSp, Parch, Survied는 실수형이지만 범주형 변수이다."
   ]
  },
  {
   "cell_type": "code",
   "execution_count": 19,
   "metadata": {},
   "outputs": [
    {
     "name": "stdout",
     "output_type": "stream",
     "text": [
      "<class 'pandas.core.frame.DataFrame'>\n",
      "RangeIndex: 891 entries, 0 to 890\n",
      "Data columns (total 12 columns):\n",
      " #   Column       Non-Null Count  Dtype  \n",
      "---  ------       --------------  -----  \n",
      " 0   PassengerId  891 non-null    int64  \n",
      " 1   Survived     891 non-null    int64  \n",
      " 2   Pclass       891 non-null    int64  \n",
      " 3   Name         891 non-null    object \n",
      " 4   Sex          891 non-null    object \n",
      " 5   Age          891 non-null    float64\n",
      " 6   SibSp        891 non-null    int64  \n",
      " 7   Parch        891 non-null    int64  \n",
      " 8   Ticket       891 non-null    object \n",
      " 9   Fare         891 non-null    float64\n",
      " 10  Cabin        204 non-null    object \n",
      " 11  Embarked     889 non-null    object \n",
      "dtypes: float64(2), int64(5), object(5)\n",
      "memory usage: 83.7+ KB\n"
     ]
    }
   ],
   "source": [
    "df.info()"
   ]
  },
  {
   "cell_type": "markdown",
   "metadata": {},
   "source": [
    "# 1-2. 기술통계량\n",
    "승객 나이 평균은 약 30세이다.\n",
    "\n",
    "요금 평균은 32파운드이다."
   ]
  },
  {
   "cell_type": "code",
   "execution_count": 3,
   "metadata": {
    "scrolled": true
   },
   "outputs": [
    {
     "data": {
      "text/html": [
       "<div>\n",
       "<style scoped>\n",
       "    .dataframe tbody tr th:only-of-type {\n",
       "        vertical-align: middle;\n",
       "    }\n",
       "\n",
       "    .dataframe tbody tr th {\n",
       "        vertical-align: top;\n",
       "    }\n",
       "\n",
       "    .dataframe thead th {\n",
       "        text-align: right;\n",
       "    }\n",
       "</style>\n",
       "<table border=\"1\" class=\"dataframe\">\n",
       "  <thead>\n",
       "    <tr style=\"text-align: right;\">\n",
       "      <th></th>\n",
       "      <th>Survived</th>\n",
       "      <th>Pclass</th>\n",
       "      <th>Age</th>\n",
       "      <th>SibSp</th>\n",
       "      <th>Parch</th>\n",
       "      <th>Fare</th>\n",
       "    </tr>\n",
       "  </thead>\n",
       "  <tbody>\n",
       "    <tr>\n",
       "      <th>count</th>\n",
       "      <td>891.000000</td>\n",
       "      <td>891.000000</td>\n",
       "      <td>891.000000</td>\n",
       "      <td>891.000000</td>\n",
       "      <td>891.000000</td>\n",
       "      <td>891.000000</td>\n",
       "    </tr>\n",
       "    <tr>\n",
       "      <th>mean</th>\n",
       "      <td>0.383838</td>\n",
       "      <td>2.308642</td>\n",
       "      <td>29.758889</td>\n",
       "      <td>0.523008</td>\n",
       "      <td>0.381594</td>\n",
       "      <td>32.204208</td>\n",
       "    </tr>\n",
       "    <tr>\n",
       "      <th>std</th>\n",
       "      <td>0.486592</td>\n",
       "      <td>0.836071</td>\n",
       "      <td>13.002570</td>\n",
       "      <td>1.102743</td>\n",
       "      <td>0.806057</td>\n",
       "      <td>49.693429</td>\n",
       "    </tr>\n",
       "    <tr>\n",
       "      <th>min</th>\n",
       "      <td>0.000000</td>\n",
       "      <td>1.000000</td>\n",
       "      <td>0.420000</td>\n",
       "      <td>0.000000</td>\n",
       "      <td>0.000000</td>\n",
       "      <td>0.000000</td>\n",
       "    </tr>\n",
       "    <tr>\n",
       "      <th>25%</th>\n",
       "      <td>0.000000</td>\n",
       "      <td>2.000000</td>\n",
       "      <td>22.000000</td>\n",
       "      <td>0.000000</td>\n",
       "      <td>0.000000</td>\n",
       "      <td>7.910400</td>\n",
       "    </tr>\n",
       "    <tr>\n",
       "      <th>50%</th>\n",
       "      <td>0.000000</td>\n",
       "      <td>3.000000</td>\n",
       "      <td>30.000000</td>\n",
       "      <td>0.000000</td>\n",
       "      <td>0.000000</td>\n",
       "      <td>14.454200</td>\n",
       "    </tr>\n",
       "    <tr>\n",
       "      <th>75%</th>\n",
       "      <td>1.000000</td>\n",
       "      <td>3.000000</td>\n",
       "      <td>35.000000</td>\n",
       "      <td>1.000000</td>\n",
       "      <td>0.000000</td>\n",
       "      <td>31.000000</td>\n",
       "    </tr>\n",
       "    <tr>\n",
       "      <th>max</th>\n",
       "      <td>1.000000</td>\n",
       "      <td>3.000000</td>\n",
       "      <td>80.000000</td>\n",
       "      <td>8.000000</td>\n",
       "      <td>6.000000</td>\n",
       "      <td>512.329200</td>\n",
       "    </tr>\n",
       "  </tbody>\n",
       "</table>\n",
       "</div>"
      ],
      "text/plain": [
       "         Survived      Pclass         Age       SibSp       Parch        Fare\n",
       "count  891.000000  891.000000  891.000000  891.000000  891.000000  891.000000\n",
       "mean     0.383838    2.308642   29.758889    0.523008    0.381594   32.204208\n",
       "std      0.486592    0.836071   13.002570    1.102743    0.806057   49.693429\n",
       "min      0.000000    1.000000    0.420000    0.000000    0.000000    0.000000\n",
       "25%      0.000000    2.000000   22.000000    0.000000    0.000000    7.910400\n",
       "50%      0.000000    3.000000   30.000000    0.000000    0.000000   14.454200\n",
       "75%      1.000000    3.000000   35.000000    1.000000    0.000000   31.000000\n",
       "max      1.000000    3.000000   80.000000    8.000000    6.000000  512.329200"
      ]
     },
     "execution_count": 3,
     "metadata": {},
     "output_type": "execute_result"
    }
   ],
   "source": [
    "df.drop('PassengerId', axis=1).describe()"
   ]
  },
  {
   "cell_type": "markdown",
   "metadata": {},
   "source": [
    "# 2. 목표변수 및 설명변수(범주형/연속형)의 분포 확인"
   ]
  },
  {
   "cell_type": "markdown",
   "metadata": {},
   "source": [
    "# 2-1. 범주형 변수들"
   ]
  },
  {
   "cell_type": "markdown",
   "metadata": {},
   "source": [
    "# 설명변수1: 좌석 등급의 count\n",
    "3등급 좌석이 가장 많고 순서는 3등급>1등급>2등급이다."
   ]
  },
  {
   "cell_type": "code",
   "execution_count": 28,
   "metadata": {
    "scrolled": true
   },
   "outputs": [
    {
     "data": {
      "image/png": "[encoded data removed]",
      "text/plain": [
       "<Figure size 432x288 with 1 Axes>"
      ]
     },
     "metadata": {},
     "output_type": "display_data"
    }
   ],
   "source": [
    "df_cnt= df['Pclass'].value_counts()\n",
    "df_cnt.plot.bar()\n",
    "plt.title('Pclass')\n",
    "plt.show()\n",
    "plt.close()"
   ]
  },
  {
   "cell_type": "code",
   "execution_count": 16,
   "metadata": {
    "scrolled": true
   },
   "outputs": [
    {
     "data": {
      "text/plain": [
       "<AxesSubplot:xlabel='Pclass', ylabel='count'>"
      ]
     },
     "execution_count": 16,
     "metadata": {},
     "output_type": "execute_result"
    },
    {
     "data": {
      "image/png": "[encoded data removed]",
      "text/plain": [
       "<Figure size 432x288 with 1 Axes>"
      ]
     },
     "metadata": {},
     "output_type": "display_data"
    }
   ],
   "source": [
    "sns.countplot(x='Pclass', data=df, order=df['Pclass'].value_counts().index)"
   ]
  },
  {
   "cell_type": "markdown",
   "metadata": {},
   "source": [
    "# 설명변수2: 성별 count\n",
    "\n",
    "남성이 여성보다 2배 많다"
   ]
  },
  {
   "cell_type": "code",
   "execution_count": 7,
   "metadata": {
    "scrolled": true
   },
   "outputs": [
    {
     "data": {
      "text/plain": [
       "<AxesSubplot:xlabel='Sex', ylabel='count'>"
      ]
     },
     "execution_count": 7,
     "metadata": {},
     "output_type": "execute_result"
    },
    {
     "data": {
      "image/png": "[encoded data removed]",
      "text/plain": [
       "<Figure size 432x288 with 1 Axes>"
      ]
     },
     "metadata": {},
     "output_type": "display_data"
    }
   ],
   "source": [
    "sns.countplot(x='Sex', data=df, order=df['Sex'].value_counts().index)"
   ]
  },
  {
   "cell_type": "markdown",
   "metadata": {},
   "source": [
    "# 성별 변수 히스토그램 겹처 그리어 해석하기.\n",
    "두 성별의 분포를 비교하기 위해서 히스토그램의 범위를 동일하게 설정하고 겹쳐 그리는 방법을 사용했다.\n",
    "\n",
    "결과: \n",
    "\n",
    "두 성별 모두 30을 평균으로 가지는 분포를 가지며, 나이범위에 따른 승객 분포가 비슷함을 알 수 있다.\n",
    "\n",
    "남, 녀 모두 20대 이상이 대다수를 차지한다."
   ]
  },
  {
   "cell_type": "code",
   "execution_count": 15,
   "metadata": {},
   "outputs": [
    {
     "data": {
      "image/png": "[encoded data removed]",
      "text/plain": [
       "<Figure size 432x288 with 1 Axes>"
      ]
     },
     "metadata": {},
     "output_type": "display_data"
    }
   ],
   "source": [
    "plt.hist(df[df['Sex']=='male']['Age'], label='남성', alpha=1, range=(0,80))\n",
    "plt.hist(df[df['Sex']=='female']['Age'], label='여성', alpha=0.5, range=(0,80))\n",
    "plt.legend()\n",
    "plt.ylabel('Count')\n",
    "plt.xlabel('Sex')\n",
    "plt.show()"
   ]
  },
  {
   "cell_type": "markdown",
   "metadata": {},
   "source": [
    "# 설명변수 3, 4: SibSp, Parch\n",
    "\n",
    "함께 탑승한 형제, 배우자, 자녀, 부모의 수는 대부분 0명이다.\n",
    "\n",
    "=>따라서 아마도 종속 변수에 대한 설명력이 적을 것으로 예상된다.\n",
    "\n",
    "분포는 skewed 분포를 띄고 있다."
   ]
  },
  {
   "cell_type": "code",
   "execution_count": 70,
   "metadata": {},
   "outputs": [
    {
     "data": {
      "image/png": "[encoded data removed]",
      "text/plain": [
       "<Figure size 432x288 with 1 Axes>"
      ]
     },
     "metadata": {},
     "output_type": "display_data"
    },
    {
     "data": {
      "image/png": "[encoded data removed]",
      "text/plain": [
       "<Figure size 432x288 with 1 Axes>"
      ]
     },
     "metadata": {},
     "output_type": "display_data"
    }
   ],
   "source": [
    "labels=['SibSp','Parch']\n",
    "for label in labels:\n",
    "#     sns.countplot(x=label, data=df, order=df[label].value_counts().index)\n",
    "#     plt.show()\n",
    "#     plt.close()\n",
    "    plt.hist(df[label], label=label, alpha=1)#, range=(0,80))\n",
    "    plt.legend()\n",
    "    plt.title(label+' histogram')\n",
    "    plt.ylabel('Count')\n",
    "    plt.xlabel(label)\n",
    "    plt.show()\n",
    "    plt.close()"
   ]
  },
  {
   "cell_type": "markdown",
   "metadata": {},
   "source": [
    "# 2-2. 연속형 변수들"
   ]
  },
  {
   "cell_type": "code",
   "execution_count": 4,
   "metadata": {},
   "outputs": [
    {
     "data": {
      "image/png": "[encoded data removed]",
      "text/plain": [
       "<Figure size 432x288 with 1 Axes>"
      ]
     },
     "metadata": {},
     "output_type": "display_data"
    }
   ],
   "source": [
    "labels=['Fare']\n",
    "for label in labels:\n",
    "\n",
    "    plt.hist(df[label], label=label, range=(0,80))\n",
    "    plt.legend()\n",
    "    plt.title(label+' histogram')\n",
    "    plt.ylabel('Count')\n",
    "    plt.xlabel(label)\n",
    "    plt.show()\n",
    "    plt.close()"
   ]
  },
  {
   "cell_type": "markdown",
   "metadata": {},
   "source": [
    "# 3. 변수들의 결측 및 이상치 처리\n",
    "- Cabin(객실 번호)에 600개 이상의 결측치가 있다.\n",
    "- 결측치 처리 방법 고안: \n",
    "    - 데이터의 대다수(77.1%)가 결측되어있으므로 Cabin 변수가 종속 변수에 영향을 미치치 않는다고 가정하고 분석에서 제외하는 것으로 결정하였다."
   ]
  },
  {
   "cell_type": "code",
   "execution_count": 75,
   "metadata": {
    "scrolled": true
   },
   "outputs": [
    {
     "name": "stdout",
     "output_type": "stream",
     "text": [
      "<class 'pandas.core.frame.DataFrame'>\n",
      "RangeIndex: 891 entries, 0 to 890\n",
      "Data columns (total 10 columns):\n",
      " #   Column       Non-Null Count  Dtype  \n",
      "---  ------       --------------  -----  \n",
      " 0   PassengerId  891 non-null    int64  \n",
      " 1   Survived     891 non-null    int64  \n",
      " 2   Pclass       891 non-null    int64  \n",
      " 3   Sex          891 non-null    object \n",
      " 4   Age          891 non-null    float64\n",
      " 5   SibSp        891 non-null    int64  \n",
      " 6   Parch        891 non-null    int64  \n",
      " 7   Fare         891 non-null    float64\n",
      " 8   Cabin        204 non-null    object \n",
      " 9   Agegroup     891 non-null    int64  \n",
      "dtypes: float64(2), int64(6), object(2)\n",
      "memory usage: 69.7+ KB\n"
     ]
    }
   ],
   "source": [
    "df.info()"
   ]
  },
  {
   "cell_type": "markdown",
   "metadata": {},
   "source": [
    "# 4. 변수간 관계 확인\n",
    "### 종속 변수가 이산형이므로 변수간 상관 관계 확인을 위해 연속형 변수로 파생 변수를 만들었습니다"
   ]
  },
  {
   "cell_type": "markdown",
   "metadata": {},
   "source": [
    "# 4-0. 파생 변수 생성1: 나이그룹\n",
    "나이대에 따른 영향력을 해석하기 위해, age_categorize함수를 정의하고 Age변수에 적용하여 Agegroup변수를 새롭게 만들었습니다."
   ]
  },
  {
   "cell_type": "code",
   "execution_count": 12,
   "metadata": {},
   "outputs": [],
   "source": [
    "# 숫자형 데이터를 범주형으로 변환\n",
    "import math\n",
    "def age_categorize(age):\n",
    "    if math.isnan(age):\n",
    "        return -1\n",
    "    return math.floor(age/10)*10  \n",
    "\n",
    "df['Agegroup']=df['Age'].apply(age_categorize)"
   ]
  },
  {
   "cell_type": "markdown",
   "metadata": {},
   "source": [
    "# 4-1. 파생 변수 생성2: 생존률\n",
    "survived 변수에서 생존은 1이고 생존하지 못한 것은 0으로 표시되므로,\n",
    "\n",
    "생존률은 다음과 같이 정의된다.\n",
    "\n",
    "**그룹별 생존률 = 그룹 내부 survived 변수의 총 합/ 그룹 내부 survived 변수의 총 개수**\n"
   ]
  },
  {
   "cell_type": "code",
   "execution_count": 14,
   "metadata": {},
   "outputs": [],
   "source": [
    "# 그룹화\n",
    "class_group = df.groupby('Pclass') # Pclass 기준으로 그룹화\n",
    "gender_group = df.groupby('Sex') # Sex 기준으로 그룹화\n",
    "age_group = df.groupby('Agegroup') # Agegroup 기준으로 그룹화\n",
    "SibSp_group = df.groupby('SibSp') # SibSp 기준으로 그룹화\n",
    "Parch_group = df.groupby('Parch') # Parch 기준으로 그룹화\n",
    "Fare_group = df.groupby('Fare') # Fare 기준으로 그룹화"
   ]
  },
  {
   "cell_type": "code",
   "execution_count": 15,
   "metadata": {},
   "outputs": [],
   "source": [
    "surv_ratio_class = class_group.mean()['Survived'].sort_values(ascending=False)\n",
    "surv_ratio_gender = gender_group.mean()['Survived'].sort_values(ascending=False)\n",
    "surv_ratio_age = age_group.mean()['Survived'].sort_values(ascending=False)\n",
    "surv_ratio_SibSp = SibSp_group.mean()['Survived'].sort_values(ascending=False)\n",
    "surv_ratio_Parch = Parch_group.mean()['Survived'].sort_values(ascending=False)\n",
    "Fare_ratio_Parch = Fare_group.mean()['Survived'].sort_values(ascending=False)"
   ]
  },
  {
   "cell_type": "markdown",
   "metadata": {},
   "source": [
    "# 📌해석: 설명변수에 따른 생존률\n",
    "## 그에 따른 가설 설정\n",
    "- 승객 등급(좌석 등급)이 높을수록 생존률이 높다. \n",
    "    - =>대립가설(H1): Pclass와 생존률과 상관관계가 있다.\n",
    "\n",
    "\n",
    "- 여성이 남성보다 생존률이 월등히 높다.\n",
    "    - =>대립가설(H1):  Sex와 생존률과 상관관계가 있다.\n",
    "\n",
    "\n",
    "- 나이가 매우 많거나 적은 순서대로 생존률이 높다. 20, 30대의 생존률은 상대적으로 낮다.\n",
    "    - =>대립가설(H1):  Age와 생존률과 상관관계가 있다.\n",
    "\n",
    "\n",
    "- 형제, 배우자 수가 3명 이상인 경우 생존률이 30%이하로 낮다.\n",
    "- 함께 탑승한 자녀, 부모의 수가 3명 이하인 경우 생존률이 50%이상으로 높다.\n",
    "\n",
    "    - =>대립가설(H1):  SibSp와 Parch가 생존률과 상관관계가 있다."
   ]
  },
  {
   "cell_type": "code",
   "execution_count": 155,
   "metadata": {
    "scrolled": false
   },
   "outputs": [
    {
     "name": "stdout",
     "output_type": "stream",
     "text": [
      "====================설명변수 그룹에 따른 생존률====================\n",
      "Pclass\n",
      "1    0.629630\n",
      "2    0.472826\n",
      "3    0.242363\n",
      "Name: Survived, dtype: float64\n"
     ]
    },
    {
     "data": {
      "image/png": "[encoded data removed]",
      "text/plain": [
       "<Figure size 432x288 with 1 Axes>"
      ]
     },
     "metadata": {},
     "output_type": "display_data"
    },
    {
     "name": "stdout",
     "output_type": "stream",
     "text": [
      "========================================\n",
      "Sex\n",
      "female    0.742038\n",
      "male      0.188908\n",
      "Name: Survived, dtype: float64\n"
     ]
    },
    {
     "data": {
      "image/png": "[encoded data removed]",
      "text/plain": [
       "<Figure size 432x288 with 1 Axes>"
      ]
     },
     "metadata": {},
     "output_type": "display_data"
    },
    {
     "name": "stdout",
     "output_type": "stream",
     "text": [
      "========================================\n",
      "Agegroup\n",
      "80    1.000000\n",
      "0     0.612903\n",
      "50    0.416667\n",
      "10    0.401961\n",
      "40    0.382022\n",
      "30    0.363372\n",
      "20    0.350000\n",
      "60    0.315789\n",
      "70    0.000000\n",
      "Name: Survived, dtype: float64\n"
     ]
    },
    {
     "data": {
      "image/png": "[encoded data removed]",
      "text/plain": [
       "<Figure size 432x288 with 1 Axes>"
      ]
     },
     "metadata": {},
     "output_type": "display_data"
    },
    {
     "name": "stdout",
     "output_type": "stream",
     "text": [
      "========================================\n",
      "SibSp\n",
      "1    0.535885\n",
      "2    0.464286\n",
      "0    0.345395\n",
      "3    0.250000\n",
      "4    0.166667\n",
      "8    0.000000\n",
      "5    0.000000\n",
      "Name: Survived, dtype: float64\n"
     ]
    },
    {
     "data": {
      "image/png": "[encoded data removed]",
      "text/plain": [
       "<Figure size 432x288 with 1 Axes>"
      ]
     },
     "metadata": {},
     "output_type": "display_data"
    },
    {
     "name": "stdout",
     "output_type": "stream",
     "text": [
      "========================================\n",
      "Parch\n",
      "3    0.600000\n",
      "1    0.550847\n",
      "2    0.500000\n",
      "0    0.343658\n",
      "5    0.200000\n",
      "6    0.000000\n",
      "4    0.000000\n",
      "Name: Survived, dtype: float64\n"
     ]
    },
    {
     "data": {
      "image/png": "[encoded data removed]",
      "text/plain": [
       "<Figure size 432x288 with 1 Axes>"
      ]
     },
     "metadata": {},
     "output_type": "display_data"
    },
    {
     "name": "stdout",
     "output_type": "stream",
     "text": [
      "========================================\n"
     ]
    }
   ],
   "source": [
    "print('='*20+'설명변수 그룹에 따른 생존률'+'='*20)\n",
    "for g in [surv_ratio_class, surv_ratio_gender, surv_ratio_age, surv_ratio_SibSp, surv_ratio_Parch]:\n",
    "    print(g)\n",
    "    g.plot.bar()\n",
    "    plt.ylabel('생존률 [ratio]')\n",
    "    plt.show()\n",
    "    plt.close()\n",
    "    print('='*40)"
   ]
  },
  {
   "cell_type": "markdown",
   "metadata": {},
   "source": [
    "# 4-2. 산포도와 pearson 상관계수 분석을 통한 연속형 변수의 상관관계 가설 검증\n",
    "## 📌해석\n",
    "\n",
    "### Age와 생존률의 관계: \n",
    "- p-value가 0.89으로 H0 채택=>나이와 생존률의 상관관계가 없다.\n",
    "    - 상관계수: 0.06, p-value: 0.89\n",
    "    - 이러한 결과가 나온 이유를 산포도를 보고 알 수 있었다.\n",
    "        - 나이가 10이하로 적으면 생존률이 높아지지만, 나이가 50이상으로 많으면 생존률이 낮아진다. \n",
    "        - 80대 100% 생존률을 보이는 데이터는 이상치일 것으로 생각된다.\n",
    "            - 이상치를 제거하면 상관계수가 커질 것으로 예상된다.\n",
    "\n",
    "### Fare와 생존률의 관계:\n",
    "- p-value가 0으로 H0 기각=>티켓요금과 생존률은 양의 상관 관계를 가진다.\n",
    "    - 상관계수: 0.29, p-value: 0"
   ]
  },
  {
   "cell_type": "code",
   "execution_count": 18,
   "metadata": {
    "scrolled": false
   },
   "outputs": [
    {
     "name": "stdout",
     "output_type": "stream",
     "text": [
      "corr=0.05596479440169938, p-value=0.8862866108446309\n"
     ]
    },
    {
     "name": "stderr",
     "output_type": "stream",
     "text": [
      "/Users/dasol/opt/anaconda3/lib/python3.8/site-packages/seaborn/_decorators.py:36: FutureWarning: Pass the following variable as a keyword arg: x. From version 0.12, the only valid positional argument will be `data`, and passing other arguments without an explicit keyword will result in an error or misinterpretation.\n",
      "  warnings.warn(\n"
     ]
    },
    {
     "data": {
      "image/png": "[encoded data removed]",
      "text/plain": [
       "<Figure size 432x288 with 1 Axes>"
      ]
     },
     "metadata": {},
     "output_type": "display_data"
    }
   ],
   "source": [
    "### 나이와 생존률\n",
    "data = age_group.mean()[['Survived']]\n",
    "sns.scatterplot(data.index.values.tolist(), y=data['Survived'].tolist())#, hue='Agegroup', style='Agegroup', data=data)\n",
    "plt.xlabel('Agegroup')\n",
    "plt.ylabel('생존률')\n",
    "corr, p = stats.pearsonr(data.index.values.tolist(),data['Survived'].tolist())\n",
    "print('corr={}, p-value={}'.format(corr, p))"
   ]
  },
  {
   "cell_type": "code",
   "execution_count": 16,
   "metadata": {
    "scrolled": false
   },
   "outputs": [
    {
     "name": "stdout",
     "output_type": "stream",
     "text": [
      "corr=0.2904323218401933, p-value=3.2989155352564168e-06\n"
     ]
    },
    {
     "name": "stderr",
     "output_type": "stream",
     "text": [
      "/Users/dasol/opt/anaconda3/lib/python3.8/site-packages/seaborn/_decorators.py:36: FutureWarning: Pass the following variable as a keyword arg: x. From version 0.12, the only valid positional argument will be `data`, and passing other arguments without an explicit keyword will result in an error or misinterpretation.\n",
      "  warnings.warn(\n"
     ]
    },
    {
     "data": {
      "image/png": "[encoded data removed]",
      "text/plain": [
       "<Figure size 432x288 with 1 Axes>"
      ]
     },
     "metadata": {},
     "output_type": "display_data"
    }
   ],
   "source": [
    "### Fare와 생존률\n",
    "data = Fare_group.mean()[['Survived']]\n",
    "sns.scatterplot(data.index.values.tolist(), y=data['Survived'].tolist())#, hue='Agegroup', style='Agegroup', data=data)\n",
    "plt.xlabel('Fare')\n",
    "plt.ylabel('생존률')\n",
    "corr, p = stats.pearsonr(data.index.values.tolist(),data['Survived'].tolist())\n",
    "print('corr={}, p-value={}'.format(corr, p))"
   ]
  },
  {
   "cell_type": "markdown",
   "metadata": {},
   "source": [
    "# 5. 생존에 영향을 미치는 잠재 인자\n",
    "\n",
    "### 범주형 변수는 설명변수 그룹에 따른 생존률 히스토그램 분석,\n",
    "### 연속형 변수는 산포도와 pearson 상관계수 분석을 진행한 결과,\n",
    "\n",
    "### 📌Pclass, Age, SibSp, Parch, Fare가 생존 여부 변수에 영향을 미치는 잠재 인자인 것으로 해석했습니다."
   ]
  }
 ],
 "metadata": {
  "kernelspec": {
   "display_name": "Python 3",
   "language": "python",
   "name": "python3"
  },
  "language_info": {
   "codemirror_mode": {
    "name": "ipython",
    "version": 3
   },
   "file_extension": ".py",
   "mimetype": "text/x-python",
   "name": "python",
   "nbconvert_exporter": "python",
   "pygments_lexer": "ipython3",
   "version": "3.8.5"
  }
 },
 "nbformat": 4,
 "nbformat_minor": 4
}
