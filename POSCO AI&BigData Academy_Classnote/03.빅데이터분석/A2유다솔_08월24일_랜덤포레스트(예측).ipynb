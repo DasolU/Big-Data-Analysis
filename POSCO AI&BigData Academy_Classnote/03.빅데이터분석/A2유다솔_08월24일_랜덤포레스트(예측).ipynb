{
 "cells": [
  {
   "cell_type": "code",
   "execution_count": 5,
   "metadata": {},
   "outputs": [],
   "source": [
    "import pandas as pd\n",
    "import numpy as np\n",
    "import os\n",
    "import matplotlib\n",
    "import matplotlib.pyplot as plt\n",
    "import seaborn as sns\n",
    "\n",
    "import scipy.stats\n",
    "from scipy import stats\n",
    "from scipy.stats import ttest_rel\n",
    "from scipy.stats import ttest_ind\n",
    "from scipy.stats import shapiro\n",
    "from scipy.stats import chi2_contingency\n",
    "from scipy.stats import mannwhitneyu\n",
    "\n",
    "from statsmodels.stats.proportion import proportions_ztest\n",
    "from statsmodels.stats.anova import anova_lm\n",
    "from statsmodels.stats.stattools import omni_normtest\n",
    "\n",
    "from statsmodels.formula.api import ols\n",
    "import statsmodels.formula.api as smf\n",
    "import statsmodels.api as sm\n",
    "from statsmodels.api import qqplot, add_constant\n",
    "\n",
    "from sklearn.preprocessing import scale, minmax_scale, robust_scale\n",
    "from statsmodels.stats.outliers_influence import variance_inflation_factor\n",
    "from sklearn.linear_model import LinearRegression\n",
    "from sklearn.feature_selection import RFE\n",
    "from sklearn.preprocessing import StandardScaler\n",
    "from sklearn.preprocessing import scale\n",
    "from statsmodels.tools.eval_measures import rmse\n",
    "\n",
    "%matplotlib inline\n",
    "sns.set(font=\"AppleGothic\")\n",
    "plt.rcParams['axes.unicode_minus']=False\n",
    "\n",
    "from sklearn.tree import export_graphviz\n",
    "import graphviz\n",
    "from sklearn.model_selection import train_test_split\n",
    "from sklearn.tree import DecisionTreeRegressor\n",
    "from sklearn.model_selection import GridSearchCV\n",
    "\n",
    "from sklearn.ensemble import RandomForestRegressor\n",
    "\n",
    "import os\n",
    "os.environ['PATH']+=os.pathsep+'/Users/dasol/opt/anaconda3/lib/python3.8/site-packages/graphviz'"
   ]
  },
  {
   "cell_type": "markdown",
   "metadata": {},
   "source": [
    "# 콘크리트 강도 예측\n",
    "## Random Forest 방법 적용"
   ]
  },
  {
   "cell_type": "code",
   "execution_count": 2,
   "metadata": {},
   "outputs": [
    {
     "data": {
      "text/html": [
       "<div>\n",
       "<style scoped>\n",
       "    .dataframe tbody tr th:only-of-type {\n",
       "        vertical-align: middle;\n",
       "    }\n",
       "\n",
       "    .dataframe tbody tr th {\n",
       "        vertical-align: top;\n",
       "    }\n",
       "\n",
       "    .dataframe thead th {\n",
       "        text-align: right;\n",
       "    }\n",
       "</style>\n",
       "<table border=\"1\" class=\"dataframe\">\n",
       "  <thead>\n",
       "    <tr style=\"text-align: right;\">\n",
       "      <th></th>\n",
       "      <th>cement</th>\n",
       "      <th>blast_furnace_slag</th>\n",
       "      <th>fly_ash</th>\n",
       "      <th>water</th>\n",
       "      <th>superplasticizer</th>\n",
       "      <th>coarse_aggregate</th>\n",
       "      <th>fine_aggregate</th>\n",
       "      <th>age</th>\n",
       "      <th>strength</th>\n",
       "    </tr>\n",
       "  </thead>\n",
       "  <tbody>\n",
       "    <tr>\n",
       "      <th>0</th>\n",
       "      <td>540.0</td>\n",
       "      <td>0.0</td>\n",
       "      <td>0.0</td>\n",
       "      <td>162.0</td>\n",
       "      <td>2.5</td>\n",
       "      <td>1040.0</td>\n",
       "      <td>676.0</td>\n",
       "      <td>28</td>\n",
       "      <td>79.99</td>\n",
       "    </tr>\n",
       "    <tr>\n",
       "      <th>1</th>\n",
       "      <td>540.0</td>\n",
       "      <td>0.0</td>\n",
       "      <td>0.0</td>\n",
       "      <td>162.0</td>\n",
       "      <td>2.5</td>\n",
       "      <td>1055.0</td>\n",
       "      <td>676.0</td>\n",
       "      <td>28</td>\n",
       "      <td>61.89</td>\n",
       "    </tr>\n",
       "    <tr>\n",
       "      <th>2</th>\n",
       "      <td>332.5</td>\n",
       "      <td>142.5</td>\n",
       "      <td>0.0</td>\n",
       "      <td>228.0</td>\n",
       "      <td>0.0</td>\n",
       "      <td>932.0</td>\n",
       "      <td>594.0</td>\n",
       "      <td>270</td>\n",
       "      <td>40.27</td>\n",
       "    </tr>\n",
       "  </tbody>\n",
       "</table>\n",
       "</div>"
      ],
      "text/plain": [
       "   cement  blast_furnace_slag  fly_ash  water  superplasticizer  \\\n",
       "0   540.0                 0.0      0.0  162.0               2.5   \n",
       "1   540.0                 0.0      0.0  162.0               2.5   \n",
       "2   332.5               142.5      0.0  228.0               0.0   \n",
       "\n",
       "   coarse_aggregate  fine_aggregate  age  strength  \n",
       "0            1040.0           676.0   28     79.99  \n",
       "1            1055.0           676.0   28     61.89  \n",
       "2             932.0           594.0  270     40.27  "
      ]
     },
     "execution_count": 2,
     "metadata": {},
     "output_type": "execute_result"
    }
   ],
   "source": [
    "df = pd.read_csv('Concrete.csv', engine='python', encoding='cp949')\n",
    "df.head(n=3)"
   ]
  },
  {
   "cell_type": "markdown",
   "metadata": {},
   "source": [
    "### test 데이터 40%로 약 400개이다."
   ]
  },
  {
   "cell_type": "code",
   "execution_count": 3,
   "metadata": {
    "scrolled": true
   },
   "outputs": [
    {
     "name": "stdout",
     "output_type": "stream",
     "text": [
      "train data X size: (618, 8)\n",
      "train data Y size: (618,)\n",
      "test data X size: (412, 8)\n",
      "test data Y size: (412,)\n"
     ]
    }
   ],
   "source": [
    "df_raw_y = df['strength']\n",
    "df_raw_x = df.drop('strength', axis=1, inplace=False)\n",
    "\n",
    "df_train_x, df_test_x, df_train_y, df_test_y = train_test_split(df_raw_x, df_raw_y, test_size=0.4, random_state=1234)\n",
    "\n",
    "print('train data X size: {}'.format(df_train_x.shape))\n",
    "print('train data Y size: {}'.format(df_train_y.shape))\n",
    "print('test data X size: {}'.format(df_test_x.shape))\n",
    "print('test data Y size: {}'.format(df_test_y.shape))"
   ]
  },
  {
   "cell_type": "markdown",
   "metadata": {},
   "source": [
    "# 1. 모델 생성\n",
    "## score해석\n",
    "모델의 설명력은 train 98%, test 90.3%로 설명력이 좋은 상태이다.\n",
    "\n",
    "이는 Decision Tree 1개로 분석한 score 78.9% 훨씬 좋은 결과이다."
   ]
  },
  {
   "cell_type": "code",
   "execution_count": 13,
   "metadata": {},
   "outputs": [
    {
     "name": "stdout",
     "output_type": "stream",
     "text": [
      "Tree_uncustomized Score on training set: 0.980068\n",
      "Tree_uncustomized Score on test set: 0.903987\n"
     ]
    }
   ],
   "source": [
    "rf_uncustomized = RandomForestRegressor(random_state=1234)\n",
    "rf_uncustomized.fit(df_train_x, df_train_y)\n",
    "\n",
    "print('Tree_uncustomized Score on training set: {:3f}'.format(rf_uncustomized.score(df_train_x, df_train_y)))\n",
    "print('Tree_uncustomized Score on test set: {:3f}'.format(rf_uncustomized.score(df_test_x, df_test_y)))"
   ]
  },
  {
   "cell_type": "markdown",
   "metadata": {},
   "source": [
    "# 1-1. 모델 파라메터 조정: 트리 수\n",
    "### 해석\n",
    "트리 수 증가에 따라 모델의 설명력은 감소하므로, train과 test 데이터의 성능이 70% 이상인 트리 수 20을 선택하였다.\n"
   ]
  },
  {
   "cell_type": "code",
   "execution_count": 32,
   "metadata": {},
   "outputs": [
    {
     "data": {
      "text/html": [
       "<div>\n",
       "<style scoped>\n",
       "    .dataframe tbody tr th:only-of-type {\n",
       "        vertical-align: middle;\n",
       "    }\n",
       "\n",
       "    .dataframe tbody tr th {\n",
       "        vertical-align: top;\n",
       "    }\n",
       "\n",
       "    .dataframe thead th {\n",
       "        text-align: right;\n",
       "    }\n",
       "</style>\n",
       "<table border=\"1\" class=\"dataframe\">\n",
       "  <thead>\n",
       "    <tr style=\"text-align: right;\">\n",
       "      <th></th>\n",
       "      <th>n_estimators</th>\n",
       "      <th>TrainScore</th>\n",
       "      <th>TestScore</th>\n",
       "    </tr>\n",
       "  </thead>\n",
       "  <tbody>\n",
       "    <tr>\n",
       "      <th>0</th>\n",
       "      <td>10</td>\n",
       "      <td>0.878</td>\n",
       "      <td>0.827</td>\n",
       "    </tr>\n",
       "    <tr>\n",
       "      <th>1</th>\n",
       "      <td>20</td>\n",
       "      <td>0.815</td>\n",
       "      <td>0.766</td>\n",
       "    </tr>\n",
       "    <tr>\n",
       "      <th>2</th>\n",
       "      <td>30</td>\n",
       "      <td>0.773</td>\n",
       "      <td>0.730</td>\n",
       "    </tr>\n",
       "    <tr>\n",
       "      <th>3</th>\n",
       "      <td>40</td>\n",
       "      <td>0.734</td>\n",
       "      <td>0.694</td>\n",
       "    </tr>\n",
       "    <tr>\n",
       "      <th>4</th>\n",
       "      <td>50</td>\n",
       "      <td>0.693</td>\n",
       "      <td>0.658</td>\n",
       "    </tr>\n",
       "    <tr>\n",
       "      <th>5</th>\n",
       "      <td>60</td>\n",
       "      <td>0.644</td>\n",
       "      <td>0.613</td>\n",
       "    </tr>\n",
       "    <tr>\n",
       "      <th>6</th>\n",
       "      <td>70</td>\n",
       "      <td>0.585</td>\n",
       "      <td>0.557</td>\n",
       "    </tr>\n",
       "    <tr>\n",
       "      <th>7</th>\n",
       "      <td>80</td>\n",
       "      <td>0.555</td>\n",
       "      <td>0.533</td>\n",
       "    </tr>\n",
       "    <tr>\n",
       "      <th>8</th>\n",
       "      <td>90</td>\n",
       "      <td>0.538</td>\n",
       "      <td>0.506</td>\n",
       "    </tr>\n",
       "    <tr>\n",
       "      <th>9</th>\n",
       "      <td>100</td>\n",
       "      <td>0.525</td>\n",
       "      <td>0.495</td>\n",
       "    </tr>\n",
       "  </tbody>\n",
       "</table>\n",
       "</div>"
      ],
      "text/plain": [
       "   n_estimators  TrainScore  TestScore\n",
       "0            10       0.878      0.827\n",
       "1            20       0.815      0.766\n",
       "2            30       0.773      0.730\n",
       "3            40       0.734      0.694\n",
       "4            50       0.693      0.658\n",
       "5            60       0.644      0.613\n",
       "6            70       0.585      0.557\n",
       "7            80       0.555      0.533\n",
       "8            90       0.538      0.506\n",
       "9           100       0.525      0.495"
      ]
     },
     "execution_count": 32,
     "metadata": {},
     "output_type": "execute_result"
    }
   ],
   "source": [
    "train_score, test_score = [], []\n",
    "para_n_tree= [n_tree*10 for n_tree in range(1,11)] \n",
    "# 트리 수 변경에 따른 모델 성능\n",
    "for v_n_estimators in para_n_tree:\n",
    "    tree = RandomForestRegressor(random_state=1234, min_samples_leaf=v_n_estimators)\n",
    "    tree.fit(df_train_x, df_train_y)\n",
    "    train_score.append(tree.score(df_train_x, df_train_y))\n",
    "    test_score.append(tree.score(df_test_x, df_test_y))\n",
    "\n",
    "df_score_n = pd.DataFrame()\n",
    "df_score_n['n_estimators'] = para_n_tree\n",
    "df_score_n['TrainScore'] = train_score \n",
    "df_score_n['TestScore'] = test_score\n",
    "df_score_n.round(3)"
   ]
  },
  {
   "cell_type": "code",
   "execution_count": 33,
   "metadata": {
    "scrolled": false
   },
   "outputs": [
    {
     "data": {
      "text/plain": [
       "<matplotlib.legend.Legend at 0x7fbd7c951c70>"
      ]
     },
     "execution_count": 33,
     "metadata": {},
     "output_type": "execute_result"
    },
    {
     "data": {
      "image/png": "[encoded data removed]",
      "text/plain": [
       "<Figure size 432x288 with 1 Axes>"
      ]
     },
     "metadata": {},
     "output_type": "display_data"
    }
   ],
   "source": [
    "plt.plot(para_n_tree, train_score, linestyle='-', label = 'Train Score')\n",
    "plt.plot(para_n_tree, test_score, linestyle='-', label = 'Test Score')\n",
    "plt.axvline(x = 20, color = 'r', linestyle = '--')\n",
    "plt.xlabel('트리 수')\n",
    "plt.ylabel('score')\n",
    "plt.legend()"
   ]
  },
  {
   "cell_type": "markdown",
   "metadata": {},
   "source": [
    "# 1-2. 모델 파라메터 조정: 잎사귀 노드의 최소 자료 수\n",
    "### 해석\n",
    "train과 test 데이터의 성능 차이가 작은 8 선택\n"
   ]
  },
  {
   "cell_type": "code",
   "execution_count": 34,
   "metadata": {},
   "outputs": [
    {
     "data": {
      "text/html": [
       "<div>\n",
       "<style scoped>\n",
       "    .dataframe tbody tr th:only-of-type {\n",
       "        vertical-align: middle;\n",
       "    }\n",
       "\n",
       "    .dataframe tbody tr th {\n",
       "        vertical-align: top;\n",
       "    }\n",
       "\n",
       "    .dataframe thead th {\n",
       "        text-align: right;\n",
       "    }\n",
       "</style>\n",
       "<table border=\"1\" class=\"dataframe\">\n",
       "  <thead>\n",
       "    <tr style=\"text-align: right;\">\n",
       "      <th></th>\n",
       "      <th>MinSampleLeaf</th>\n",
       "      <th>TrainScore</th>\n",
       "      <th>TestScore</th>\n",
       "    </tr>\n",
       "  </thead>\n",
       "  <tbody>\n",
       "    <tr>\n",
       "      <th>0</th>\n",
       "      <td>1</td>\n",
       "      <td>0.978</td>\n",
       "      <td>0.905</td>\n",
       "    </tr>\n",
       "    <tr>\n",
       "      <th>1</th>\n",
       "      <td>2</td>\n",
       "      <td>0.964</td>\n",
       "      <td>0.898</td>\n",
       "    </tr>\n",
       "    <tr>\n",
       "      <th>2</th>\n",
       "      <td>3</td>\n",
       "      <td>0.950</td>\n",
       "      <td>0.888</td>\n",
       "    </tr>\n",
       "    <tr>\n",
       "      <th>3</th>\n",
       "      <td>4</td>\n",
       "      <td>0.937</td>\n",
       "      <td>0.874</td>\n",
       "    </tr>\n",
       "    <tr>\n",
       "      <th>4</th>\n",
       "      <td>5</td>\n",
       "      <td>0.922</td>\n",
       "      <td>0.868</td>\n",
       "    </tr>\n",
       "    <tr>\n",
       "      <th>5</th>\n",
       "      <td>6</td>\n",
       "      <td>0.910</td>\n",
       "      <td>0.857</td>\n",
       "    </tr>\n",
       "    <tr>\n",
       "      <th>6</th>\n",
       "      <td>7</td>\n",
       "      <td>0.900</td>\n",
       "      <td>0.849</td>\n",
       "    </tr>\n",
       "    <tr>\n",
       "      <th>7</th>\n",
       "      <td>8</td>\n",
       "      <td>0.892</td>\n",
       "      <td>0.845</td>\n",
       "    </tr>\n",
       "    <tr>\n",
       "      <th>8</th>\n",
       "      <td>9</td>\n",
       "      <td>0.883</td>\n",
       "      <td>0.836</td>\n",
       "    </tr>\n",
       "    <tr>\n",
       "      <th>9</th>\n",
       "      <td>10</td>\n",
       "      <td>0.873</td>\n",
       "      <td>0.823</td>\n",
       "    </tr>\n",
       "    <tr>\n",
       "      <th>10</th>\n",
       "      <td>11</td>\n",
       "      <td>0.863</td>\n",
       "      <td>0.810</td>\n",
       "    </tr>\n",
       "    <tr>\n",
       "      <th>11</th>\n",
       "      <td>12</td>\n",
       "      <td>0.854</td>\n",
       "      <td>0.800</td>\n",
       "    </tr>\n",
       "    <tr>\n",
       "      <th>12</th>\n",
       "      <td>13</td>\n",
       "      <td>0.849</td>\n",
       "      <td>0.795</td>\n",
       "    </tr>\n",
       "    <tr>\n",
       "      <th>13</th>\n",
       "      <td>14</td>\n",
       "      <td>0.841</td>\n",
       "      <td>0.788</td>\n",
       "    </tr>\n",
       "    <tr>\n",
       "      <th>14</th>\n",
       "      <td>15</td>\n",
       "      <td>0.836</td>\n",
       "      <td>0.788</td>\n",
       "    </tr>\n",
       "    <tr>\n",
       "      <th>15</th>\n",
       "      <td>16</td>\n",
       "      <td>0.831</td>\n",
       "      <td>0.785</td>\n",
       "    </tr>\n",
       "    <tr>\n",
       "      <th>16</th>\n",
       "      <td>17</td>\n",
       "      <td>0.825</td>\n",
       "      <td>0.776</td>\n",
       "    </tr>\n",
       "    <tr>\n",
       "      <th>17</th>\n",
       "      <td>18</td>\n",
       "      <td>0.818</td>\n",
       "      <td>0.770</td>\n",
       "    </tr>\n",
       "    <tr>\n",
       "      <th>18</th>\n",
       "      <td>19</td>\n",
       "      <td>0.812</td>\n",
       "      <td>0.767</td>\n",
       "    </tr>\n",
       "  </tbody>\n",
       "</table>\n",
       "</div>"
      ],
      "text/plain": [
       "    MinSampleLeaf  TrainScore  TestScore\n",
       "0               1       0.978      0.905\n",
       "1               2       0.964      0.898\n",
       "2               3       0.950      0.888\n",
       "3               4       0.937      0.874\n",
       "4               5       0.922      0.868\n",
       "5               6       0.910      0.857\n",
       "6               7       0.900      0.849\n",
       "7               8       0.892      0.845\n",
       "8               9       0.883      0.836\n",
       "9              10       0.873      0.823\n",
       "10             11       0.863      0.810\n",
       "11             12       0.854      0.800\n",
       "12             13       0.849      0.795\n",
       "13             14       0.841      0.788\n",
       "14             15       0.836      0.788\n",
       "15             16       0.831      0.785\n",
       "16             17       0.825      0.776\n",
       "17             18       0.818      0.770\n",
       "18             19       0.812      0.767"
      ]
     },
     "execution_count": 34,
     "metadata": {},
     "output_type": "execute_result"
    }
   ],
   "source": [
    "train_score, test_score = [], []\n",
    "min_leaf= [n_leaf for n_leaf in range(1,20)] # 잎사귀 최소 자료 수\n",
    "\n",
    "for v_min_samples in min_leaf:\n",
    "    tree = RandomForestRegressor(random_state=1234, n_estimators=20,min_samples_leaf=v_min_samples)\n",
    "    tree.fit(df_train_x, df_train_y)\n",
    "    train_score.append(tree.score(df_train_x, df_train_y))\n",
    "    test_score.append(tree.score(df_test_x, df_test_y))\n",
    "\n",
    "df_score_leaf = pd.DataFrame()\n",
    "df_score_leaf['MinSampleLeaf'] = min_leaf \n",
    "df_score_leaf['TrainScore'] = train_score \n",
    "df_score_leaf['TestScore'] = test_score\n",
    "df_score_leaf.round(3)"
   ]
  },
  {
   "cell_type": "code",
   "execution_count": 35,
   "metadata": {},
   "outputs": [
    {
     "data": {
      "text/plain": [
       "<matplotlib.legend.Legend at 0x7fbd7c97e250>"
      ]
     },
     "execution_count": 35,
     "metadata": {},
     "output_type": "execute_result"
    },
    {
     "data": {
      "image/png": "[encoded data removed]",
      "text/plain": [
       "<Figure size 432x288 with 1 Axes>"
      ]
     },
     "metadata": {},
     "output_type": "display_data"
    }
   ],
   "source": [
    "plt.plot(min_leaf, train_score, linestyle='-', label = 'Train Score')\n",
    "plt.plot(min_leaf, test_score, linestyle='-', label = 'Test Score')\n",
    "plt.axvline(x = 8, color = 'g', linestyle = '--')\n",
    "plt.xlabel('잎사귀 노드 최소 자료 수')\n",
    "plt.legend()"
   ]
  },
  {
   "cell_type": "markdown",
   "metadata": {},
   "source": [
    "# 1-2. 모델 파라메터 조정: 분리 노드의 최소 자료 수\n",
    "### 해석\n",
    "train_score, test_score 의 차이가 작고 score 높은 16 선택"
   ]
  },
  {
   "cell_type": "code",
   "execution_count": 38,
   "metadata": {},
   "outputs": [
    {
     "data": {
      "text/html": [
       "<div>\n",
       "<style scoped>\n",
       "    .dataframe tbody tr th:only-of-type {\n",
       "        vertical-align: middle;\n",
       "    }\n",
       "\n",
       "    .dataframe tbody tr th {\n",
       "        vertical-align: top;\n",
       "    }\n",
       "\n",
       "    .dataframe thead th {\n",
       "        text-align: right;\n",
       "    }\n",
       "</style>\n",
       "<table border=\"1\" class=\"dataframe\">\n",
       "  <thead>\n",
       "    <tr style=\"text-align: right;\">\n",
       "      <th></th>\n",
       "      <th>MinSampleSplit</th>\n",
       "      <th>TrainScore</th>\n",
       "      <th>TestScore</th>\n",
       "    </tr>\n",
       "  </thead>\n",
       "  <tbody>\n",
       "    <tr>\n",
       "      <th>0</th>\n",
       "      <td>4</td>\n",
       "      <td>0.892</td>\n",
       "      <td>0.845</td>\n",
       "    </tr>\n",
       "    <tr>\n",
       "      <th>1</th>\n",
       "      <td>6</td>\n",
       "      <td>0.892</td>\n",
       "      <td>0.845</td>\n",
       "    </tr>\n",
       "    <tr>\n",
       "      <th>2</th>\n",
       "      <td>8</td>\n",
       "      <td>0.892</td>\n",
       "      <td>0.845</td>\n",
       "    </tr>\n",
       "    <tr>\n",
       "      <th>3</th>\n",
       "      <td>10</td>\n",
       "      <td>0.892</td>\n",
       "      <td>0.845</td>\n",
       "    </tr>\n",
       "    <tr>\n",
       "      <th>4</th>\n",
       "      <td>12</td>\n",
       "      <td>0.892</td>\n",
       "      <td>0.845</td>\n",
       "    </tr>\n",
       "    <tr>\n",
       "      <th>5</th>\n",
       "      <td>14</td>\n",
       "      <td>0.892</td>\n",
       "      <td>0.845</td>\n",
       "    </tr>\n",
       "    <tr>\n",
       "      <th>6</th>\n",
       "      <td>16</td>\n",
       "      <td>0.892</td>\n",
       "      <td>0.845</td>\n",
       "    </tr>\n",
       "    <tr>\n",
       "      <th>7</th>\n",
       "      <td>18</td>\n",
       "      <td>0.888</td>\n",
       "      <td>0.839</td>\n",
       "    </tr>\n",
       "    <tr>\n",
       "      <th>8</th>\n",
       "      <td>20</td>\n",
       "      <td>0.883</td>\n",
       "      <td>0.833</td>\n",
       "    </tr>\n",
       "    <tr>\n",
       "      <th>9</th>\n",
       "      <td>22</td>\n",
       "      <td>0.878</td>\n",
       "      <td>0.826</td>\n",
       "    </tr>\n",
       "    <tr>\n",
       "      <th>10</th>\n",
       "      <td>24</td>\n",
       "      <td>0.872</td>\n",
       "      <td>0.821</td>\n",
       "    </tr>\n",
       "    <tr>\n",
       "      <th>11</th>\n",
       "      <td>26</td>\n",
       "      <td>0.868</td>\n",
       "      <td>0.818</td>\n",
       "    </tr>\n",
       "    <tr>\n",
       "      <th>12</th>\n",
       "      <td>28</td>\n",
       "      <td>0.863</td>\n",
       "      <td>0.812</td>\n",
       "    </tr>\n",
       "    <tr>\n",
       "      <th>13</th>\n",
       "      <td>30</td>\n",
       "      <td>0.856</td>\n",
       "      <td>0.806</td>\n",
       "    </tr>\n",
       "    <tr>\n",
       "      <th>14</th>\n",
       "      <td>32</td>\n",
       "      <td>0.850</td>\n",
       "      <td>0.800</td>\n",
       "    </tr>\n",
       "    <tr>\n",
       "      <th>15</th>\n",
       "      <td>34</td>\n",
       "      <td>0.844</td>\n",
       "      <td>0.794</td>\n",
       "    </tr>\n",
       "    <tr>\n",
       "      <th>16</th>\n",
       "      <td>36</td>\n",
       "      <td>0.840</td>\n",
       "      <td>0.791</td>\n",
       "    </tr>\n",
       "    <tr>\n",
       "      <th>17</th>\n",
       "      <td>38</td>\n",
       "      <td>0.836</td>\n",
       "      <td>0.786</td>\n",
       "    </tr>\n",
       "  </tbody>\n",
       "</table>\n",
       "</div>"
      ],
      "text/plain": [
       "    MinSampleSplit  TrainScore  TestScore\n",
       "0                4       0.892      0.845\n",
       "1                6       0.892      0.845\n",
       "2                8       0.892      0.845\n",
       "3               10       0.892      0.845\n",
       "4               12       0.892      0.845\n",
       "5               14       0.892      0.845\n",
       "6               16       0.892      0.845\n",
       "7               18       0.888      0.839\n",
       "8               20       0.883      0.833\n",
       "9               22       0.878      0.826\n",
       "10              24       0.872      0.821\n",
       "11              26       0.868      0.818\n",
       "12              28       0.863      0.812\n",
       "13              30       0.856      0.806\n",
       "14              32       0.850      0.800\n",
       "15              34       0.844      0.794\n",
       "16              36       0.840      0.791\n",
       "17              38       0.836      0.786"
      ]
     },
     "execution_count": 38,
     "metadata": {},
     "output_type": "execute_result"
    }
   ],
   "source": [
    "train_score, test_score = [], []\n",
    "min_split= [n_split*2 for n_split in range(2,20)] # 분리 노드의 최소 자료 수\n",
    "\n",
    "for v_min_samples in min_split:\n",
    "    tree = RandomForestRegressor(random_state=1234, n_estimators=20,min_samples_leaf=8, min_samples_split=v_min_samples)\n",
    "    tree.fit(df_train_x, df_train_y)\n",
    "    train_score.append(tree.score(df_train_x, df_train_y))\n",
    "    test_score.append(tree.score(df_test_x, df_test_y))\n",
    "\n",
    "df_score_leaf = pd.DataFrame()\n",
    "df_score_leaf['MinSampleSplit'] = min_split\n",
    "df_score_leaf['TrainScore'] = train_score \n",
    "df_score_leaf['TestScore'] = test_score\n",
    "df_score_leaf.round(3)"
   ]
  },
  {
   "cell_type": "code",
   "execution_count": 40,
   "metadata": {
    "scrolled": true
   },
   "outputs": [
    {
     "data": {
      "text/plain": [
       "<matplotlib.legend.Legend at 0x7fbd180ab8b0>"
      ]
     },
     "execution_count": 40,
     "metadata": {},
     "output_type": "execute_result"
    },
    {
     "data": {
      "image/png": "[encoded data removed]",
      "text/plain": [
       "<Figure size 432x288 with 1 Axes>"
      ]
     },
     "metadata": {},
     "output_type": "display_data"
    }
   ],
   "source": [
    "plt.plot(min_split, train_score, linestyle='-', label = 'Train Score')\n",
    "plt.plot(min_split, test_score, linestyle='-', label = 'Test Score')\n",
    "plt.axvline(x = 16, color = 'r', linestyle = '--')\n",
    "plt.xlabel('분리 노드의 최소 자료 수')\n",
    "plt.legend()"
   ]
  },
  {
   "cell_type": "markdown",
   "metadata": {},
   "source": [
    "# 1-3. 모델 파라메터 조정: 최대 깊이\n",
    "## 선택=>8\n",
    "이유: train_score, test_score가 8 이후로 비슷하게 유자되지만 과대적합 방지를 위해 그중 가장 작은 8 선택"
   ]
  },
  {
   "cell_type": "code",
   "execution_count": 46,
   "metadata": {},
   "outputs": [
    {
     "data": {
      "text/html": [
       "<div>\n",
       "<style scoped>\n",
       "    .dataframe tbody tr th:only-of-type {\n",
       "        vertical-align: middle;\n",
       "    }\n",
       "\n",
       "    .dataframe tbody tr th {\n",
       "        vertical-align: top;\n",
       "    }\n",
       "\n",
       "    .dataframe thead th {\n",
       "        text-align: right;\n",
       "    }\n",
       "</style>\n",
       "<table border=\"1\" class=\"dataframe\">\n",
       "  <thead>\n",
       "    <tr style=\"text-align: right;\">\n",
       "      <th></th>\n",
       "      <th>Maxdepth</th>\n",
       "      <th>TrainScore</th>\n",
       "      <th>TestScore</th>\n",
       "    </tr>\n",
       "  </thead>\n",
       "  <tbody>\n",
       "    <tr>\n",
       "      <th>0</th>\n",
       "      <td>1</td>\n",
       "      <td>0.373</td>\n",
       "      <td>0.360</td>\n",
       "    </tr>\n",
       "    <tr>\n",
       "      <th>1</th>\n",
       "      <td>2</td>\n",
       "      <td>0.612</td>\n",
       "      <td>0.590</td>\n",
       "    </tr>\n",
       "    <tr>\n",
       "      <th>2</th>\n",
       "      <td>3</td>\n",
       "      <td>0.729</td>\n",
       "      <td>0.680</td>\n",
       "    </tr>\n",
       "    <tr>\n",
       "      <th>3</th>\n",
       "      <td>4</td>\n",
       "      <td>0.804</td>\n",
       "      <td>0.761</td>\n",
       "    </tr>\n",
       "    <tr>\n",
       "      <th>4</th>\n",
       "      <td>5</td>\n",
       "      <td>0.859</td>\n",
       "      <td>0.816</td>\n",
       "    </tr>\n",
       "    <tr>\n",
       "      <th>5</th>\n",
       "      <td>6</td>\n",
       "      <td>0.881</td>\n",
       "      <td>0.837</td>\n",
       "    </tr>\n",
       "    <tr>\n",
       "      <th>6</th>\n",
       "      <td>7</td>\n",
       "      <td>0.889</td>\n",
       "      <td>0.843</td>\n",
       "    </tr>\n",
       "    <tr>\n",
       "      <th>7</th>\n",
       "      <td>8</td>\n",
       "      <td>0.891</td>\n",
       "      <td>0.845</td>\n",
       "    </tr>\n",
       "    <tr>\n",
       "      <th>8</th>\n",
       "      <td>9</td>\n",
       "      <td>0.892</td>\n",
       "      <td>0.845</td>\n",
       "    </tr>\n",
       "    <tr>\n",
       "      <th>9</th>\n",
       "      <td>10</td>\n",
       "      <td>0.892</td>\n",
       "      <td>0.845</td>\n",
       "    </tr>\n",
       "  </tbody>\n",
       "</table>\n",
       "</div>"
      ],
      "text/plain": [
       "   Maxdepth  TrainScore  TestScore\n",
       "0         1       0.373      0.360\n",
       "1         2       0.612      0.590\n",
       "2         3       0.729      0.680\n",
       "3         4       0.804      0.761\n",
       "4         5       0.859      0.816\n",
       "5         6       0.881      0.837\n",
       "6         7       0.889      0.843\n",
       "7         8       0.891      0.845\n",
       "8         9       0.892      0.845\n",
       "9        10       0.892      0.845"
      ]
     },
     "execution_count": 46,
     "metadata": {},
     "output_type": "execute_result"
    }
   ],
   "source": [
    "train_score, test_score = [], []\n",
    "para_depth= [i for i in range(1,11)] # 분리 노드의 최소 자료 수\n",
    "\n",
    "for v_depth in para_depth:\n",
    "    tree = RandomForestRegressor(random_state=1234, n_estimators=20, min_samples_leaf=8, min_samples_split=16, max_depth=v_depth)\n",
    "    tree.fit(df_train_x, df_train_y)\n",
    "    train_score.append(tree.score(df_train_x, df_train_y))\n",
    "    test_score.append(tree.score(df_test_x, df_test_y))\n",
    "\n",
    "df_score_depth = pd.DataFrame()\n",
    "df_score_depth['Maxdepth'] = para_depth\n",
    "df_score_depth['TrainScore'] = train_score \n",
    "df_score_depth['TestScore'] = test_score\n",
    "df_score_depth.round(3)"
   ]
  },
  {
   "cell_type": "code",
   "execution_count": 47,
   "metadata": {
    "scrolled": true
   },
   "outputs": [
    {
     "data": {
      "text/plain": [
       "<matplotlib.legend.Legend at 0x7fbd7cb94a30>"
      ]
     },
     "execution_count": 47,
     "metadata": {},
     "output_type": "execute_result"
    },
    {
     "data": {
      "image/png": "[encoded data removed]",
      "text/plain": [
       "<Figure size 432x288 with 1 Axes>"
      ]
     },
     "metadata": {},
     "output_type": "display_data"
    }
   ],
   "source": [
    "plt.plot(para_depth, train_score, linestyle='-', label = 'Train Score')\n",
    "plt.plot(para_depth, test_score, linestyle='-', label = 'Test Score')\n",
    "plt.axvline(x = 8, color = 'r', linestyle = '--')\n",
    "plt.xlabel('최대 깊이')\n",
    "plt.legend()"
   ]
  },
  {
   "cell_type": "markdown",
   "metadata": {},
   "source": [
    "# 선택한 파라메터를 적용한 모델의 score"
   ]
  },
  {
   "cell_type": "code",
   "execution_count": 54,
   "metadata": {},
   "outputs": [
    {
     "name": "stdout",
     "output_type": "stream",
     "text": [
      "Score on training set: 0.891\n",
      "Score on test set: 0.845\n"
     ]
    }
   ],
   "source": [
    "rf_last = RandomForestRegressor(random_state=1234, n_estimators=20, min_samples_leaf=8, min_samples_split=16, max_depth=8)\n",
    "rf_last.fit(df_train_x, df_train_y)\n",
    "print('Score on training set: {:.3f}'.format(rf_final.score(df_train_x, df_train_y)))\n",
    "print('Score on test set: {:.3f}'.format(rf_final.score(df_test_x, df_test_y)))"
   ]
  },
  {
   "cell_type": "markdown",
   "metadata": {},
   "source": [
    "# 3.최종 모델\n",
    "## 파라메터: 트리개수=10, 잎사귀 노드 최소 자료 수=1, 분리 노드의 최소 자료 수=2, 최대 깊이=None\n",
    "\n",
    "## 해석\n",
    "- 굵은 입자 콘크리트 재료의 중요도:  Decision Tree 1개를 사용했을 때는 0이었지만, 중요도가 0.039로 생겼습니다.\n",
    "\n",
    "- 랜덤 포레트트의 파라메터를 트리개수=20, 잎사귀 노드 최소 자료 수=8, 분리 노드의 최소 자료 수=16, 최대 깊이=8로 수정한 결과, 모델의 score은 train 89.1%, test 84.5%이다.\n",
    "\n",
    "    - 이는 Decision Tree 1개로 분석한 score 78.9% 보다는 발전된 결과이지만, \n",
    "\n",
    "    - 파라메터를 수정하지 않은 기본 모델의 설명력은 train 98%, test 90.3%보다 낮아진 결과이다.\n",
    "\n",
    "    - 이유는 무엇일까?\n",
    "        - 파라메터 선정이 잘못 되었을 것이라 추측됩니다.\n",
    "\n",
    "        - 다른 파라메터 조합으로 실험이 필요합니다.\n",
    "\n",
    "\n",
    "## 최종 해석\n",
    "- 트리 분리에 영향이 큰 변수 3가지: Decision Tree 1개를 사용했을 때와 마찬가지로, 트리 분리에 영향이 큰 변수 3가지는 순서대로 age(연식), cement(시멘트 종류), water(물 함량)입니다.\n",
    "\n",
    "- 추가적으로 superplasticizer(고강도 콘크리트를 만드는데 사용되는 첨가제)의 중요도가 4위로 중요 변수입니다.\n",
    "\n",
    "- Decision Tree 1개의 분석 결과와 비교:\n",
    "    - fly_ash(석탄원료의 부산물, 시맨트 재료)의 중요도가 4위->8위로 감소했습니다.\n",
    "    - 순위 변동의 이유는? Decision Tree의 변수 중요도 순위는 data split에 따라 변동 가능하기 때문입니다.\n"
   ]
  },
  {
   "cell_type": "code",
   "execution_count": 58,
   "metadata": {},
   "outputs": [
    {
     "data": {
      "text/html": [
       "<div>\n",
       "<style scoped>\n",
       "    .dataframe tbody tr th:only-of-type {\n",
       "        vertical-align: middle;\n",
       "    }\n",
       "\n",
       "    .dataframe tbody tr th {\n",
       "        vertical-align: top;\n",
       "    }\n",
       "\n",
       "    .dataframe thead th {\n",
       "        text-align: right;\n",
       "    }\n",
       "</style>\n",
       "<table border=\"1\" class=\"dataframe\">\n",
       "  <thead>\n",
       "    <tr style=\"text-align: right;\">\n",
       "      <th></th>\n",
       "      <th>Feature</th>\n",
       "      <th>Importance</th>\n",
       "    </tr>\n",
       "  </thead>\n",
       "  <tbody>\n",
       "    <tr>\n",
       "      <th>2</th>\n",
       "      <td>fly_ash</td>\n",
       "      <td>0.024</td>\n",
       "    </tr>\n",
       "    <tr>\n",
       "      <th>5</th>\n",
       "      <td>coarse_aggregate</td>\n",
       "      <td>0.039</td>\n",
       "    </tr>\n",
       "    <tr>\n",
       "      <th>6</th>\n",
       "      <td>fine_aggregate</td>\n",
       "      <td>0.048</td>\n",
       "    </tr>\n",
       "    <tr>\n",
       "      <th>1</th>\n",
       "      <td>blast_furnace_slag</td>\n",
       "      <td>0.051</td>\n",
       "    </tr>\n",
       "    <tr>\n",
       "      <th>4</th>\n",
       "      <td>superplasticizer</td>\n",
       "      <td>0.085</td>\n",
       "    </tr>\n",
       "    <tr>\n",
       "      <th>3</th>\n",
       "      <td>water</td>\n",
       "      <td>0.150</td>\n",
       "    </tr>\n",
       "    <tr>\n",
       "      <th>0</th>\n",
       "      <td>cement</td>\n",
       "      <td>0.261</td>\n",
       "    </tr>\n",
       "    <tr>\n",
       "      <th>7</th>\n",
       "      <td>age</td>\n",
       "      <td>0.342</td>\n",
       "    </tr>\n",
       "  </tbody>\n",
       "</table>\n",
       "</div>"
      ],
      "text/plain": [
       "              Feature  Importance\n",
       "2             fly_ash       0.024\n",
       "5    coarse_aggregate       0.039\n",
       "6      fine_aggregate       0.048\n",
       "1  blast_furnace_slag       0.051\n",
       "4    superplasticizer       0.085\n",
       "3               water       0.150\n",
       "0              cement       0.261\n",
       "7                 age       0.342"
      ]
     },
     "execution_count": 58,
     "metadata": {},
     "output_type": "execute_result"
    }
   ],
   "source": [
    "df_importance = pd.DataFrame()\n",
    "feature_name = df_train_x.columns\n",
    "df_importance['Feature'] = feature_name\n",
    "df_importance['Importance'] = rf_uncustomized.feature_importances_\n",
    "df_importance.sort_values('Importance', ascending=True, inplace=True)\n",
    "df_importance.round(3)\n"
   ]
  },
  {
   "cell_type": "code",
   "execution_count": 59,
   "metadata": {},
   "outputs": [
    {
     "data": {
      "text/plain": [
       "Text(0, 0.5, '변수')"
      ]
     },
     "execution_count": 59,
     "metadata": {},
     "output_type": "execute_result"
    },
    {
     "data": {
      "image/png": "[encoded data removed]",
      "text/plain": [
       "<Figure size 432x288 with 1 Axes>"
      ]
     },
     "metadata": {},
     "output_type": "display_data"
    }
   ],
   "source": [
    "coordinates = range(len(df_importance))\n",
    "plt.barh(y=coordinates, width=df_importance['Importance'])\n",
    "plt.yticks(coordinates, df_importance['Feature'])\n",
    "plt.xlabel('변수중요도')\n",
    "plt.ylabel('변수')"
   ]
  },
  {
   "cell_type": "markdown",
   "metadata": {},
   "source": [
    "# 4.GridSearchCV: 모델 parameter 자동 조정\n",
    "## 최적 파라메터: 'max_depth': 10, 'min_samples_leaf': 1, 'min_samples_split': 4\n",
    "\n",
    "앞선 분석에서 임의로 선택한 파라메터 조합 (트리개수=20, 잎사귀 노드 최소 자료 수=8, 분리 노드의 최소 자료 수=16, 최대 깊이=8)과 많은 차이가 난다.\n",
    "\n",
    "특히 잎사귀 노드 최소 자료 수=1로 과적합을 유도하는 숫자이지만, Randomforest에서는 각 트리가 과적합 되는 것이 총 평균 score를 높이는데 도움이 되기 때문에 1개가 최적값인 것으로 해석된다.\n",
    "\n",
    "## score: 0.869\n",
    "GridSearchCV로 찾아낸 파라메터 세트로 의사결정 트리 분석을 하면 콘크리트 강도 설명력이 86.9%이다."
   ]
  },
  {
   "cell_type": "code",
   "execution_count": 60,
   "metadata": {},
   "outputs": [
    {
     "data": {
      "text/plain": [
       "GridSearchCV(estimator=RandomForestRegressor(random_state=1234), n_jobs=-1,\n",
       "             param_grid={'max_depth': [1, 2, 3, 4, 5, 6, 7, 8, 9, 10],\n",
       "                         'min_samples_leaf': [1, 2, 3, 4, 5, 6, 7, 8, 9, 10, 11,\n",
       "                                              12, 13, 14, 15, 16, 17, 18, 19],\n",
       "                         'min_samples_split': [4, 6, 8, 10, 12, 14, 16, 18, 20,\n",
       "                                               22, 24, 26, 28, 30, 32, 34, 36,\n",
       "                                               38]},\n",
       "             scoring='r2')"
      ]
     },
     "execution_count": 60,
     "metadata": {},
     "output_type": "execute_result"
    }
   ],
   "source": [
    "estimator = RandomForestRegressor(random_state=1234)\n",
    "param_grid = {'max_depth': para_depth, \n",
    "             'min_samples_split':min_split, 'min_samples_leaf':min_leaf}\n",
    "grid_dt = GridSearchCV(estimator, param_grid, scoring='r2', n_jobs=-1)\n",
    "grid_dt.fit(df_train_x, df_train_y)"
   ]
  },
  {
   "cell_type": "code",
   "execution_count": 61,
   "metadata": {},
   "outputs": [
    {
     "name": "stdout",
     "output_type": "stream",
     "text": [
      "best estimator model:\n",
      " RandomForestRegressor(max_depth=10, min_samples_split=4, random_state=1234)\n",
      "\n",
      "best parameter:\n",
      " {'max_depth': 10, 'min_samples_leaf': 1, 'min_samples_split': 4}\n",
      "\n",
      "best score:\n",
      " 0.869\n"
     ]
    }
   ],
   "source": [
    "\n",
    "print('best estimator model:\\n',grid_dt.best_estimator_)\n",
    "print('\\nbest parameter:\\n',grid_dt.best_params_)\n",
    "print('\\nbest score:\\n',grid_dt.best_score_.round(3))"
   ]
  },
  {
   "cell_type": "code",
   "execution_count": null,
   "metadata": {},
   "outputs": [],
   "source": []
  }
 ],
 "metadata": {
  "kernelspec": {
   "display_name": "Python 3",
   "language": "python",
   "name": "python3"
  },
  "language_info": {
   "codemirror_mode": {
    "name": "ipython",
    "version": 3
   },
   "file_extension": ".py",
   "mimetype": "text/x-python",
   "name": "python",
   "nbconvert_exporter": "python",
   "pygments_lexer": "ipython3",
   "version": "3.8.5"
  }
 },
 "nbformat": 4,
 "nbformat_minor": 4
}
