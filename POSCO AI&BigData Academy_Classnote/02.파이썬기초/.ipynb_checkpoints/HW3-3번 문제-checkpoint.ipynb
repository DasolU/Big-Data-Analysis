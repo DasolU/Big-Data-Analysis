{
 "cells": [
  {
   "cell_type": "markdown",
   "metadata": {},
   "source": [
    "# 📌실습 4: file 읽고 쓰기"
   ]
  },
  {
   "cell_type": "markdown",
   "metadata": {},
   "source": [
    "# 1-3. 리눅스 쉘에서 원본파일명 (src.txt)과 사본파일(dst.txt)을 입력 받아, 복사하는 프 로그램\n",
    "\n",
    "#### sys.argv란?\n",
    "\n",
    "파이썬 스크립트를 터미널에서 실행하는 경우,\n",
    "파이썬 명령행 인자값을 전달받아 사용할 때 사용한다."
   ]
  },
  {
   "cell_type": "code",
   "execution_count": null,
   "metadata": {},
   "outputs": [],
   "source": [
    "# ex3.py 내용입니다.\n",
    "import sys\n",
    "args = sys.argv[1:3]\n",
    "f = open(args[0],'r')\n",
    "with open(args[1],'w') as f_copy:\n",
    "    f_copy.write(f.read())\n",
    "f.close()"
   ]
  }
 ],
 "metadata": {
  "kernelspec": {
   "display_name": "Python 3",
   "language": "python",
   "name": "python3"
  },
  "language_info": {
   "codemirror_mode": {
    "name": "ipython",
    "version": 3
   },
   "file_extension": ".py",
   "mimetype": "text/x-python",
   "name": "python",
   "nbconvert_exporter": "python",
   "pygments_lexer": "ipython3",
   "version": "3.8.5"
  }
 },
 "nbformat": 4,
 "nbformat_minor": 4
}
